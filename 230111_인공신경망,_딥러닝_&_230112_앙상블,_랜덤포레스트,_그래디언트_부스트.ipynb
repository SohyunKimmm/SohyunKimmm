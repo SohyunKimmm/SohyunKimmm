{
  "nbformat": 4,
  "nbformat_minor": 0,
  "metadata": {
    "colab": {
      "provenance": [],
      "collapsed_sections": [
        "PHdMTUuUa-ML",
        "0Z_OBBR_uFMc",
        "54d2SiiNhkNk",
        "GzbrhhaqoFag",
        "kVi4z_7RoD7_",
        "HpKi3vNT2DTQ",
        "wDgpjhx0ApEr"
      ],
      "mount_file_id": "1mspmby99BKqZHsamMLthLbC2Udc_xkwT",
      "authorship_tag": "ABX9TyPPK+kAEZZEKZSPoCOKoUcW",
      "include_colab_link": true
    },
    "kernelspec": {
      "name": "python3",
      "display_name": "Python 3"
    },
    "language_info": {
      "name": "python"
    }
  },
  "cells": [
    {
      "cell_type": "markdown",
      "metadata": {
        "id": "view-in-github",
        "colab_type": "text"
      },
      "source": [
        "<a href=\"https://colab.research.google.com/github/SohyunKimmm/SohyunKimmm/blob/main/230111_%EC%9D%B8%EA%B3%B5%EC%8B%A0%EA%B2%BD%EB%A7%9D%2C_%EB%94%A5%EB%9F%AC%EB%8B%9D_%26_230112_%EC%95%99%EC%83%81%EB%B8%94%2C_%EB%9E%9C%EB%8D%A4%ED%8F%AC%EB%A0%88%EC%8A%A4%ED%8A%B8%2C_%EA%B7%B8%EB%9E%98%EB%94%94%EC%96%B8%ED%8A%B8_%EB%B6%80%EC%8A%A4%ED%8A%B8.ipynb\" target=\"_parent\"><img src=\"https://colab.research.google.com/assets/colab-badge.svg\" alt=\"Open In Colab\"/></a>"
      ]
    },
    {
      "cell_type": "markdown",
      "source": [
        "#인공신경망\n"
      ],
      "metadata": {
        "id": "PHdMTUuUa-ML"
      }
    },
    {
      "cell_type": "markdown",
      "source": [
        "###1) 분류예측"
      ],
      "metadata": {
        "id": "i_D20pR2unJ0"
      }
    },
    {
      "cell_type": "code",
      "source": [
        "from google.colab import drive\n",
        "drive.mount('/content/drive')"
      ],
      "metadata": {
        "colab": {
          "base_uri": "https://localhost:8080/"
        },
        "id": "ngZO1WA9bRVS",
        "outputId": "d2e70fe7-8969-47a4-8a72-4e98ae381200"
      },
      "execution_count": 1,
      "outputs": [
        {
          "output_type": "stream",
          "name": "stdout",
          "text": [
            "Drive already mounted at /content/drive; to attempt to forcibly remount, call drive.mount(\"/content/drive\", force_remount=True).\n"
          ]
        }
      ]
    },
    {
      "cell_type": "code",
      "source": [
        "import pandas as pd\n",
        "\n",
        "df = pd.read_csv(\"/content/drive/MyDrive/Ashopping.csv\", encoding = \"cp949\")"
      ],
      "metadata": {
        "id": "Lm4gGd07bh0D"
      },
      "execution_count": 2,
      "outputs": []
    },
    {
      "cell_type": "code",
      "source": [
        "df.info()"
      ],
      "metadata": {
        "colab": {
          "base_uri": "https://localhost:8080/"
        },
        "id": "8GpiIKTWcmE_",
        "outputId": "db775142-9900-400e-db75-b9cbe18240ba"
      },
      "execution_count": 3,
      "outputs": [
        {
          "output_type": "stream",
          "name": "stdout",
          "text": [
            "<class 'pandas.core.frame.DataFrame'>\n",
            "RangeIndex: 1000 entries, 0 to 999\n",
            "Data columns (total 21 columns):\n",
            " #   Column     Non-Null Count  Dtype  \n",
            "---  ------     --------------  -----  \n",
            " 0   고객ID       1000 non-null   int64  \n",
            " 1   이탈여부       1000 non-null   int64  \n",
            " 2   총매출액       1000 non-null   int64  \n",
            " 3   구매금액대      1000 non-null   int64  \n",
            " 4   방문빈도       1000 non-null   int64  \n",
            " 5   1회 평균매출액   1000 non-null   int64  \n",
            " 6   할인권 사용 횟수  1000 non-null   int64  \n",
            " 7   총 할인 금액    1000 non-null   int64  \n",
            " 8   고객등급       1000 non-null   int64  \n",
            " 9   구매유형       1000 non-null   int64  \n",
            " 10  클레임접수여부    1000 non-null   int64  \n",
            " 11  구매카테고리수    1000 non-null   int64  \n",
            " 12  거주지역       1000 non-null   int64  \n",
            " 13  성별         1000 non-null   int64  \n",
            " 14  고객 나이대     1000 non-null   int64  \n",
            " 15  거래기간       1000 non-null   int64  \n",
            " 16  할인민감여부     1000 non-null   int64  \n",
            " 17  Recency    1000 non-null   int64  \n",
            " 18  Frequency  1000 non-null   int64  \n",
            " 19  Monetary   1000 non-null   int64  \n",
            " 20  평균 구매주기    1000 non-null   float64\n",
            "dtypes: float64(1), int64(20)\n",
            "memory usage: 164.2 KB\n"
          ]
        }
      ]
    },
    {
      "cell_type": "code",
      "source": [
        "df.isnull().sum()"
      ],
      "metadata": {
        "colab": {
          "base_uri": "https://localhost:8080/"
        },
        "id": "AIU8XUAacoTX",
        "outputId": "8983f4cf-b0a2-48ab-b8bd-80a5c4d4dddf"
      },
      "execution_count": 4,
      "outputs": [
        {
          "output_type": "execute_result",
          "data": {
            "text/plain": [
              "고객ID         0\n",
              "이탈여부         0\n",
              "총매출액         0\n",
              "구매금액대        0\n",
              "방문빈도         0\n",
              "1회 평균매출액     0\n",
              "할인권 사용 횟수    0\n",
              "총 할인 금액      0\n",
              "고객등급         0\n",
              "구매유형         0\n",
              "클레임접수여부      0\n",
              "구매카테고리수      0\n",
              "거주지역         0\n",
              "성별           0\n",
              "고객 나이대       0\n",
              "거래기간         0\n",
              "할인민감여부       0\n",
              "Recency      0\n",
              "Frequency    0\n",
              "Monetary     0\n",
              "평균 구매주기      0\n",
              "dtype: int64"
            ]
          },
          "metadata": {},
          "execution_count": 4
        }
      ]
    },
    {
      "cell_type": "code",
      "source": [
        "df.describe()"
      ],
      "metadata": {
        "colab": {
          "base_uri": "https://localhost:8080/",
          "height": 411
        },
        "id": "-voHAWHLcs9l",
        "outputId": "cb6f0e55-681b-4d12-d5af-3e5c96bf9e98"
      },
      "execution_count": 5,
      "outputs": [
        {
          "output_type": "execute_result",
          "data": {
            "text/plain": [
              "              고객ID         이탈여부          총매출액        구매금액대        방문빈도  \\\n",
              "count  1000.000000  1000.000000  1.000000e+03  1000.000000  1000.00000   \n",
              "mean    500.500000     0.300000  5.858013e+06     0.700000    22.91100   \n",
              "std     288.819436     0.458487  5.812815e+06     0.781416    19.08217   \n",
              "min       1.000000     0.000000  1.886100e+06     0.000000     1.00000   \n",
              "25%     250.750000     0.000000  2.815905e+06     0.000000    10.75000   \n",
              "50%     500.500000     0.000000  4.092145e+06     0.500000    18.00000   \n",
              "75%     750.250000     1.000000  6.545392e+06     1.000000    28.00000   \n",
              "max    1000.000000     1.000000  6.759576e+07     2.000000   155.00000   \n",
              "\n",
              "           1회 평균매출액    할인권 사용 횟수        총 할인 금액         고객등급         구매유형  \\\n",
              "count  1.000000e+03  1000.000000    1000.000000  1000.000000  1000.000000   \n",
              "mean   3.521024e+05    16.027000  292371.670000     1.546000     2.656000   \n",
              "std    3.124636e+05     8.341334  111937.501042     0.498129     1.046307   \n",
              "min    2.708200e+04     1.000000    3750.000000     1.000000     1.000000   \n",
              "25%    1.631242e+05     9.000000  261686.250000     1.000000     2.000000   \n",
              "50%    2.582080e+05    17.000000  347500.000000     2.000000     2.000000   \n",
              "75%    4.268310e+05    23.000000  365400.000000     2.000000     4.000000   \n",
              "max    2.798500e+06    30.000000  400600.000000     2.000000     4.000000   \n",
              "\n",
              "       ...      구매카테고리수         거주지역           성별       고객 나이대         거래기간  \\\n",
              "count  ...  1000.000000  1000.000000  1000.000000  1000.000000  1000.000000   \n",
              "mean   ...     5.217000     5.147000     0.189000     3.964000  3495.891000   \n",
              "std    ...     2.224153     1.169084     0.391705     1.078827   965.966194   \n",
              "min    ...     1.000000     1.000000     0.000000     2.000000   827.000000   \n",
              "25%    ...     3.000000     4.000000     0.000000     3.000000  2871.000000   \n",
              "50%    ...     5.000000     5.000000     0.000000     4.000000  3836.000000   \n",
              "75%    ...     7.000000     6.000000     0.000000     5.000000  4207.250000   \n",
              "max    ...     9.000000     7.000000     1.000000     7.000000  5334.000000   \n",
              "\n",
              "            할인민감여부      Recency    Frequency     Monetary      평균 구매주기  \n",
              "count  1000.000000  1000.000000  1000.000000  1000.000000  1000.000000  \n",
              "mean      0.400000     4.925000     2.289000     4.129000   266.880824  \n",
              "std       0.490143     1.744253     1.669811     1.560383   254.077398  \n",
              "min       0.000000     1.000000     1.000000     1.000000    13.980645  \n",
              "25%       0.000000     4.000000     1.000000     3.000000   111.957671  \n",
              "50%       0.000000     5.000000     2.000000     4.000000   191.469697  \n",
              "75%       1.000000     7.000000     3.000000     6.000000   324.386218  \n",
              "max       1.000000     7.000000     7.000000     7.000000  1956.000000  \n",
              "\n",
              "[8 rows x 21 columns]"
            ],
            "text/html": [
              "\n",
              "  <div id=\"df-c75e1f00-4157-47cf-bc4d-fac21324b602\">\n",
              "    <div class=\"colab-df-container\">\n",
              "      <div>\n",
              "<style scoped>\n",
              "    .dataframe tbody tr th:only-of-type {\n",
              "        vertical-align: middle;\n",
              "    }\n",
              "\n",
              "    .dataframe tbody tr th {\n",
              "        vertical-align: top;\n",
              "    }\n",
              "\n",
              "    .dataframe thead th {\n",
              "        text-align: right;\n",
              "    }\n",
              "</style>\n",
              "<table border=\"1\" class=\"dataframe\">\n",
              "  <thead>\n",
              "    <tr style=\"text-align: right;\">\n",
              "      <th></th>\n",
              "      <th>고객ID</th>\n",
              "      <th>이탈여부</th>\n",
              "      <th>총매출액</th>\n",
              "      <th>구매금액대</th>\n",
              "      <th>방문빈도</th>\n",
              "      <th>1회 평균매출액</th>\n",
              "      <th>할인권 사용 횟수</th>\n",
              "      <th>총 할인 금액</th>\n",
              "      <th>고객등급</th>\n",
              "      <th>구매유형</th>\n",
              "      <th>...</th>\n",
              "      <th>구매카테고리수</th>\n",
              "      <th>거주지역</th>\n",
              "      <th>성별</th>\n",
              "      <th>고객 나이대</th>\n",
              "      <th>거래기간</th>\n",
              "      <th>할인민감여부</th>\n",
              "      <th>Recency</th>\n",
              "      <th>Frequency</th>\n",
              "      <th>Monetary</th>\n",
              "      <th>평균 구매주기</th>\n",
              "    </tr>\n",
              "  </thead>\n",
              "  <tbody>\n",
              "    <tr>\n",
              "      <th>count</th>\n",
              "      <td>1000.000000</td>\n",
              "      <td>1000.000000</td>\n",
              "      <td>1.000000e+03</td>\n",
              "      <td>1000.000000</td>\n",
              "      <td>1000.00000</td>\n",
              "      <td>1.000000e+03</td>\n",
              "      <td>1000.000000</td>\n",
              "      <td>1000.000000</td>\n",
              "      <td>1000.000000</td>\n",
              "      <td>1000.000000</td>\n",
              "      <td>...</td>\n",
              "      <td>1000.000000</td>\n",
              "      <td>1000.000000</td>\n",
              "      <td>1000.000000</td>\n",
              "      <td>1000.000000</td>\n",
              "      <td>1000.000000</td>\n",
              "      <td>1000.000000</td>\n",
              "      <td>1000.000000</td>\n",
              "      <td>1000.000000</td>\n",
              "      <td>1000.000000</td>\n",
              "      <td>1000.000000</td>\n",
              "    </tr>\n",
              "    <tr>\n",
              "      <th>mean</th>\n",
              "      <td>500.500000</td>\n",
              "      <td>0.300000</td>\n",
              "      <td>5.858013e+06</td>\n",
              "      <td>0.700000</td>\n",
              "      <td>22.91100</td>\n",
              "      <td>3.521024e+05</td>\n",
              "      <td>16.027000</td>\n",
              "      <td>292371.670000</td>\n",
              "      <td>1.546000</td>\n",
              "      <td>2.656000</td>\n",
              "      <td>...</td>\n",
              "      <td>5.217000</td>\n",
              "      <td>5.147000</td>\n",
              "      <td>0.189000</td>\n",
              "      <td>3.964000</td>\n",
              "      <td>3495.891000</td>\n",
              "      <td>0.400000</td>\n",
              "      <td>4.925000</td>\n",
              "      <td>2.289000</td>\n",
              "      <td>4.129000</td>\n",
              "      <td>266.880824</td>\n",
              "    </tr>\n",
              "    <tr>\n",
              "      <th>std</th>\n",
              "      <td>288.819436</td>\n",
              "      <td>0.458487</td>\n",
              "      <td>5.812815e+06</td>\n",
              "      <td>0.781416</td>\n",
              "      <td>19.08217</td>\n",
              "      <td>3.124636e+05</td>\n",
              "      <td>8.341334</td>\n",
              "      <td>111937.501042</td>\n",
              "      <td>0.498129</td>\n",
              "      <td>1.046307</td>\n",
              "      <td>...</td>\n",
              "      <td>2.224153</td>\n",
              "      <td>1.169084</td>\n",
              "      <td>0.391705</td>\n",
              "      <td>1.078827</td>\n",
              "      <td>965.966194</td>\n",
              "      <td>0.490143</td>\n",
              "      <td>1.744253</td>\n",
              "      <td>1.669811</td>\n",
              "      <td>1.560383</td>\n",
              "      <td>254.077398</td>\n",
              "    </tr>\n",
              "    <tr>\n",
              "      <th>min</th>\n",
              "      <td>1.000000</td>\n",
              "      <td>0.000000</td>\n",
              "      <td>1.886100e+06</td>\n",
              "      <td>0.000000</td>\n",
              "      <td>1.00000</td>\n",
              "      <td>2.708200e+04</td>\n",
              "      <td>1.000000</td>\n",
              "      <td>3750.000000</td>\n",
              "      <td>1.000000</td>\n",
              "      <td>1.000000</td>\n",
              "      <td>...</td>\n",
              "      <td>1.000000</td>\n",
              "      <td>1.000000</td>\n",
              "      <td>0.000000</td>\n",
              "      <td>2.000000</td>\n",
              "      <td>827.000000</td>\n",
              "      <td>0.000000</td>\n",
              "      <td>1.000000</td>\n",
              "      <td>1.000000</td>\n",
              "      <td>1.000000</td>\n",
              "      <td>13.980645</td>\n",
              "    </tr>\n",
              "    <tr>\n",
              "      <th>25%</th>\n",
              "      <td>250.750000</td>\n",
              "      <td>0.000000</td>\n",
              "      <td>2.815905e+06</td>\n",
              "      <td>0.000000</td>\n",
              "      <td>10.75000</td>\n",
              "      <td>1.631242e+05</td>\n",
              "      <td>9.000000</td>\n",
              "      <td>261686.250000</td>\n",
              "      <td>1.000000</td>\n",
              "      <td>2.000000</td>\n",
              "      <td>...</td>\n",
              "      <td>3.000000</td>\n",
              "      <td>4.000000</td>\n",
              "      <td>0.000000</td>\n",
              "      <td>3.000000</td>\n",
              "      <td>2871.000000</td>\n",
              "      <td>0.000000</td>\n",
              "      <td>4.000000</td>\n",
              "      <td>1.000000</td>\n",
              "      <td>3.000000</td>\n",
              "      <td>111.957671</td>\n",
              "    </tr>\n",
              "    <tr>\n",
              "      <th>50%</th>\n",
              "      <td>500.500000</td>\n",
              "      <td>0.000000</td>\n",
              "      <td>4.092145e+06</td>\n",
              "      <td>0.500000</td>\n",
              "      <td>18.00000</td>\n",
              "      <td>2.582080e+05</td>\n",
              "      <td>17.000000</td>\n",
              "      <td>347500.000000</td>\n",
              "      <td>2.000000</td>\n",
              "      <td>2.000000</td>\n",
              "      <td>...</td>\n",
              "      <td>5.000000</td>\n",
              "      <td>5.000000</td>\n",
              "      <td>0.000000</td>\n",
              "      <td>4.000000</td>\n",
              "      <td>3836.000000</td>\n",
              "      <td>0.000000</td>\n",
              "      <td>5.000000</td>\n",
              "      <td>2.000000</td>\n",
              "      <td>4.000000</td>\n",
              "      <td>191.469697</td>\n",
              "    </tr>\n",
              "    <tr>\n",
              "      <th>75%</th>\n",
              "      <td>750.250000</td>\n",
              "      <td>1.000000</td>\n",
              "      <td>6.545392e+06</td>\n",
              "      <td>1.000000</td>\n",
              "      <td>28.00000</td>\n",
              "      <td>4.268310e+05</td>\n",
              "      <td>23.000000</td>\n",
              "      <td>365400.000000</td>\n",
              "      <td>2.000000</td>\n",
              "      <td>4.000000</td>\n",
              "      <td>...</td>\n",
              "      <td>7.000000</td>\n",
              "      <td>6.000000</td>\n",
              "      <td>0.000000</td>\n",
              "      <td>5.000000</td>\n",
              "      <td>4207.250000</td>\n",
              "      <td>1.000000</td>\n",
              "      <td>7.000000</td>\n",
              "      <td>3.000000</td>\n",
              "      <td>6.000000</td>\n",
              "      <td>324.386218</td>\n",
              "    </tr>\n",
              "    <tr>\n",
              "      <th>max</th>\n",
              "      <td>1000.000000</td>\n",
              "      <td>1.000000</td>\n",
              "      <td>6.759576e+07</td>\n",
              "      <td>2.000000</td>\n",
              "      <td>155.00000</td>\n",
              "      <td>2.798500e+06</td>\n",
              "      <td>30.000000</td>\n",
              "      <td>400600.000000</td>\n",
              "      <td>2.000000</td>\n",
              "      <td>4.000000</td>\n",
              "      <td>...</td>\n",
              "      <td>9.000000</td>\n",
              "      <td>7.000000</td>\n",
              "      <td>1.000000</td>\n",
              "      <td>7.000000</td>\n",
              "      <td>5334.000000</td>\n",
              "      <td>1.000000</td>\n",
              "      <td>7.000000</td>\n",
              "      <td>7.000000</td>\n",
              "      <td>7.000000</td>\n",
              "      <td>1956.000000</td>\n",
              "    </tr>\n",
              "  </tbody>\n",
              "</table>\n",
              "<p>8 rows × 21 columns</p>\n",
              "</div>\n",
              "      <button class=\"colab-df-convert\" onclick=\"convertToInteractive('df-c75e1f00-4157-47cf-bc4d-fac21324b602')\"\n",
              "              title=\"Convert this dataframe to an interactive table.\"\n",
              "              style=\"display:none;\">\n",
              "        \n",
              "  <svg xmlns=\"http://www.w3.org/2000/svg\" height=\"24px\"viewBox=\"0 0 24 24\"\n",
              "       width=\"24px\">\n",
              "    <path d=\"M0 0h24v24H0V0z\" fill=\"none\"/>\n",
              "    <path d=\"M18.56 5.44l.94 2.06.94-2.06 2.06-.94-2.06-.94-.94-2.06-.94 2.06-2.06.94zm-11 1L8.5 8.5l.94-2.06 2.06-.94-2.06-.94L8.5 2.5l-.94 2.06-2.06.94zm10 10l.94 2.06.94-2.06 2.06-.94-2.06-.94-.94-2.06-.94 2.06-2.06.94z\"/><path d=\"M17.41 7.96l-1.37-1.37c-.4-.4-.92-.59-1.43-.59-.52 0-1.04.2-1.43.59L10.3 9.45l-7.72 7.72c-.78.78-.78 2.05 0 2.83L4 21.41c.39.39.9.59 1.41.59.51 0 1.02-.2 1.41-.59l7.78-7.78 2.81-2.81c.8-.78.8-2.07 0-2.86zM5.41 20L4 18.59l7.72-7.72 1.47 1.35L5.41 20z\"/>\n",
              "  </svg>\n",
              "      </button>\n",
              "      \n",
              "  <style>\n",
              "    .colab-df-container {\n",
              "      display:flex;\n",
              "      flex-wrap:wrap;\n",
              "      gap: 12px;\n",
              "    }\n",
              "\n",
              "    .colab-df-convert {\n",
              "      background-color: #E8F0FE;\n",
              "      border: none;\n",
              "      border-radius: 50%;\n",
              "      cursor: pointer;\n",
              "      display: none;\n",
              "      fill: #1967D2;\n",
              "      height: 32px;\n",
              "      padding: 0 0 0 0;\n",
              "      width: 32px;\n",
              "    }\n",
              "\n",
              "    .colab-df-convert:hover {\n",
              "      background-color: #E2EBFA;\n",
              "      box-shadow: 0px 1px 2px rgba(60, 64, 67, 0.3), 0px 1px 3px 1px rgba(60, 64, 67, 0.15);\n",
              "      fill: #174EA6;\n",
              "    }\n",
              "\n",
              "    [theme=dark] .colab-df-convert {\n",
              "      background-color: #3B4455;\n",
              "      fill: #D2E3FC;\n",
              "    }\n",
              "\n",
              "    [theme=dark] .colab-df-convert:hover {\n",
              "      background-color: #434B5C;\n",
              "      box-shadow: 0px 1px 3px 1px rgba(0, 0, 0, 0.15);\n",
              "      filter: drop-shadow(0px 1px 2px rgba(0, 0, 0, 0.3));\n",
              "      fill: #FFFFFF;\n",
              "    }\n",
              "  </style>\n",
              "\n",
              "      <script>\n",
              "        const buttonEl =\n",
              "          document.querySelector('#df-c75e1f00-4157-47cf-bc4d-fac21324b602 button.colab-df-convert');\n",
              "        buttonEl.style.display =\n",
              "          google.colab.kernel.accessAllowed ? 'block' : 'none';\n",
              "\n",
              "        async function convertToInteractive(key) {\n",
              "          const element = document.querySelector('#df-c75e1f00-4157-47cf-bc4d-fac21324b602');\n",
              "          const dataTable =\n",
              "            await google.colab.kernel.invokeFunction('convertToInteractive',\n",
              "                                                     [key], {});\n",
              "          if (!dataTable) return;\n",
              "\n",
              "          const docLinkHtml = 'Like what you see? Visit the ' +\n",
              "            '<a target=\"_blank\" href=https://colab.research.google.com/notebooks/data_table.ipynb>data table notebook</a>'\n",
              "            + ' to learn more about interactive tables.';\n",
              "          element.innerHTML = '';\n",
              "          dataTable['output_type'] = 'display_data';\n",
              "          await google.colab.output.renderOutput(dataTable, element);\n",
              "          const docLink = document.createElement('div');\n",
              "          docLink.innerHTML = docLinkHtml;\n",
              "          element.appendChild(docLink);\n",
              "        }\n",
              "      </script>\n",
              "    </div>\n",
              "  </div>\n",
              "  "
            ]
          },
          "metadata": {},
          "execution_count": 5
        }
      ]
    },
    {
      "cell_type": "code",
      "source": [
        "from sklearn.model_selection import train_test_split\n",
        "from sklearn.compose import ColumnTransformer\n",
        "from sklearn.preprocessing import StandardScaler\n",
        "from sklearn.preprocessing import OneHotEncoder\n",
        "from imblearn.over_sampling import SMOTE"
      ],
      "metadata": {
        "id": "RrkJFuyBcHKE"
      },
      "execution_count": 6,
      "outputs": []
    },
    {
      "cell_type": "code",
      "source": [
        "df.columns"
      ],
      "metadata": {
        "colab": {
          "base_uri": "https://localhost:8080/"
        },
        "id": "BXzjPnbfcwFz",
        "outputId": "e7bf134f-4262-4373-fdec-f6659078d411"
      },
      "execution_count": 7,
      "outputs": [
        {
          "output_type": "execute_result",
          "data": {
            "text/plain": [
              "Index(['고객ID', '이탈여부', '총매출액', '구매금액대', '방문빈도', '1회 평균매출액', '할인권 사용 횟수',\n",
              "       '총 할인 금액', '고객등급', '구매유형', '클레임접수여부', '구매카테고리수', '거주지역', '성별', '고객 나이대',\n",
              "       '거래기간', '할인민감여부', 'Recency', 'Frequency', 'Monetary', '평균 구매주기'],\n",
              "      dtype='object')"
            ]
          },
          "metadata": {},
          "execution_count": 7
        }
      ]
    },
    {
      "cell_type": "code",
      "source": [
        "#분류예측\n",
        "\n",
        "#1. 변수선택\n",
        "X = df[[\"총매출액\", \"구매금액대\", \"1회 평균매출액\", \"평균 구매주기\", \"거래기간\"]]\n",
        "Y = df[\"할인민감여부\"]\n",
        "\n",
        "#2. train-test split\n",
        "X_train, X_test, Y_train, Y_test = train_test_split(X, Y, test_size = 0.3, random_state = 0)\n",
        "\n",
        "#3. 데이터 전처리(preprocessing)\n",
        "ct = ColumnTransformer([(\"scaling\", StandardScaler(), [\"총매출액\", \"1회 평균매출액\", \"평균 구매주기\", \"거래기간\"]), \n",
        "                        (\"onehot\", OneHotEncoder(sparse = False), [\"구매금액대\"])])\n",
        "ct.fit(X_train)\n",
        "\n",
        "X_train = ct.transform(X_train)\n",
        "X_test = ct.transform(X_test)\n",
        "\n",
        "#4. 오버샘플링\n",
        "smote = SMOTE(random_state = 0)\n",
        "X_train, Y_train = smote.fit_resample(X_train, Y_train)\n",
        "\n"
      ],
      "metadata": {
        "id": "6SCdHz6CczOj"
      },
      "execution_count": 8,
      "outputs": []
    },
    {
      "cell_type": "code",
      "source": [
        "#5. 모델링\n",
        "from sklearn.neural_network import MLPClassifier\n",
        "nn_model = MLPClassifier(random_state = 0, alpha = 0.001, hidden_layer_sizes = [50])\n",
        "##5-1. 모형학습\n",
        "nn_model.fit(X_train, Y_train)\n",
        "\n",
        "#6. 예측\n",
        "Y_pred = nn_model.predict(X_test)"
      ],
      "metadata": {
        "colab": {
          "base_uri": "https://localhost:8080/"
        },
        "id": "pYeBOUSddI3A",
        "outputId": "d5c6b829-c4eb-4614-b0ab-d513d92b80bf"
      },
      "execution_count": 9,
      "outputs": [
        {
          "output_type": "stream",
          "name": "stderr",
          "text": [
            "/usr/local/lib/python3.8/dist-packages/sklearn/neural_network/_multilayer_perceptron.py:692: ConvergenceWarning: Stochastic Optimizer: Maximum iterations (200) reached and the optimization hasn't converged yet.\n",
            "  warnings.warn(\n"
          ]
        }
      ]
    },
    {
      "cell_type": "code",
      "source": [
        "#7. 결과값 보고\n",
        "print(\"Y 예측값 \\n\", Y_pred)\n",
        "print(\"accuracy(train) : {:.3f}\".format(nn_model.score(X_train, Y_train)))\n",
        "\n",
        "from sklearn.metrics import classification_report\n",
        "print(classification_report(Y_test, Y_pred))"
      ],
      "metadata": {
        "colab": {
          "base_uri": "https://localhost:8080/"
        },
        "id": "g-pKLH1ahH97",
        "outputId": "ee8185cb-1844-46b3-dfda-f689b6f2c0cd"
      },
      "execution_count": 10,
      "outputs": [
        {
          "output_type": "stream",
          "name": "stdout",
          "text": [
            "Y 예측값 \n",
            " [1 1 0 0 1 1 0 0 0 1 0 1 1 0 1 0 1 0 0 0 0 1 0 0 1 1 0 0 0 0 1 1 1 1 1 1 1\n",
            " 0 1 0 0 1 1 1 0 0 1 0 0 0 1 0 0 0 1 1 0 1 1 1 0 1 1 0 0 0 1 1 0 0 1 0 0 0\n",
            " 1 0 0 0 0 1 0 0 0 1 1 1 0 0 1 0 1 0 0 0 0 1 1 0 0 0 1 1 0 1 0 1 1 0 1 1 0\n",
            " 1 1 0 0 0 0 0 0 0 1 0 0 1 0 1 0 0 1 1 0 0 1 1 1 1 0 1 0 1 0 0 0 0 0 1 0 0\n",
            " 1 1 0 0 0 0 0 1 0 0 0 0 1 1 0 0 1 0 0 1 0 0 1 1 0 1 0 1 0 0 1 0 0 0 1 0 1\n",
            " 0 0 1 1 1 0 1 0 1 1 1 1 0 1 0 0 1 0 1 1 0 1 1 1 1 0 0 0 1 0 1 0 0 0 1 1 1\n",
            " 1 0 0 1 1 0 0 1 1 0 0 0 0 0 0 0 0 0 1 0 0 0 1 0 1 0 1 1 0 1 0 0 0 1 1 0 0\n",
            " 0 1 1 1 0 0 0 0 0 1 0 1 1 0 0 1 1 0 0 0 0 1 1 0 1 0 0 1 0 0 0 1 0 1 1 0 0\n",
            " 0 0 0 0]\n",
            "accuracy(train) : 0.889\n",
            "              precision    recall  f1-score   support\n",
            "\n",
            "           0       0.92      0.89      0.91       177\n",
            "           1       0.85      0.89      0.87       123\n",
            "\n",
            "    accuracy                           0.89       300\n",
            "   macro avg       0.89      0.89      0.89       300\n",
            "weighted avg       0.89      0.89      0.89       300\n",
            "\n"
          ]
        }
      ]
    },
    {
      "cell_type": "markdown",
      "source": [
        "###2) 회귀예측"
      ],
      "metadata": {
        "id": "aAn9g0djoo-u"
      }
    },
    {
      "cell_type": "code",
      "source": [
        "df.columns"
      ],
      "metadata": {
        "colab": {
          "base_uri": "https://localhost:8080/"
        },
        "id": "oSMWmM1hkL_c",
        "outputId": "5755ef43-c167-4dd1-9daf-d15152a23ef9"
      },
      "execution_count": 11,
      "outputs": [
        {
          "output_type": "execute_result",
          "data": {
            "text/plain": [
              "Index(['고객ID', '이탈여부', '총매출액', '구매금액대', '방문빈도', '1회 평균매출액', '할인권 사용 횟수',\n",
              "       '총 할인 금액', '고객등급', '구매유형', '클레임접수여부', '구매카테고리수', '거주지역', '성별', '고객 나이대',\n",
              "       '거래기간', '할인민감여부', 'Recency', 'Frequency', 'Monetary', '평균 구매주기'],\n",
              "      dtype='object')"
            ]
          },
          "metadata": {},
          "execution_count": 11
        }
      ]
    },
    {
      "cell_type": "code",
      "source": [
        "import numpy as np\n",
        "\n",
        "#1. 변수선택\n",
        "X = df[df.이탈여부 == 0][[\"방문빈도\", \"총 할인 금액\", \"고객등급\", \"구매유형\", \"거래기간\", \"할인민감여부\", \"평균 구매주기\"]]\n",
        "Y = df[df.이탈여부 == 0][\"1회 평균매출액\"]\n",
        "\n",
        "#2. train-test split\n",
        "X_train, X_test, Y_train, Y_test = train_test_split(X, Y, test_size = 0.3, random_state = 0)\n",
        "\n",
        "#3. 데이터 전처리(preprocessing)\n",
        "ct = ColumnTransformer([(\"scaling\", StandardScaler(), [\"방문빈도\", \"총 할인 금액\", \"거래기간\", \"평균 구매주기\"]), \n",
        "                        (\"onehot\", OneHotEncoder(sparse = False), [\"고객등급\", \"구매유형\", \"할인민감여부\"])])\n",
        "ct.fit(X_train)\n",
        "X_train = ct.transform(X_train)\n",
        "X_test = ct.transform(X_test)\n"
      ],
      "metadata": {
        "id": "oX5aLYnBotMs"
      },
      "execution_count": 12,
      "outputs": []
    },
    {
      "cell_type": "code",
      "source": [
        "#4. 모델링\n",
        "from sklearn.neural_network import MLPRegressor\n",
        "\n",
        "#4-1. 모델생성\n",
        "nn_reg_model = MLPRegressor(random_state = 0, alpha = 1, max_iter = 1000, hidden_layer_sizes = [50,50]) #하이퍼 파라미터 값들\n",
        "\n",
        "#5. 모형학습\n",
        "nn_reg_model.fit(X_train, Y_train)\n",
        "Y_pred = nn_reg_model.predict(X_test)\n",
        "\n",
        "#6. 결과값 보고\n",
        "print(\"Y predict value : \\n\", Y_pred)\n",
        "print(\"train accuracy : {:.3f}\".format(nn_reg_model.score(X_train, Y_train)))\n",
        "from sklearn.metrics import mean_squared_error\n",
        "from math import sqrt\n",
        "rmse = sqrt(mean_squared_error(Y_test, Y_pred))\n",
        "print(\"RMSE : {:.3f}\".format(rmse))\n",
        "\n",
        "#MLPRegressor참고사이트: https://scikit-learn.org/stable/modules/generated/sklearn.neural_network.MLPRegressor.html\n"
      ],
      "metadata": {
        "colab": {
          "base_uri": "https://localhost:8080/"
        },
        "id": "87Lhw8Zgp9N6",
        "outputId": "dc518cd3-2178-491f-c37c-53e1941d9949"
      },
      "execution_count": 13,
      "outputs": [
        {
          "output_type": "stream",
          "name": "stdout",
          "text": [
            "Y predict value : \n",
            " [367567.22799569 291986.7171292  286542.39507057 470299.18982825\n",
            " 199015.43022523 314985.16674704 120385.261673    99679.50744792\n",
            " 217207.85032309 321283.5694424  322281.24636508 139031.08090941\n",
            " 172479.30691299 307474.28058998 410674.7673535  282802.14200659\n",
            " 314022.43590656 344082.61534343 266080.18516834 299527.46258462\n",
            " 417918.96528793 213628.82138014 325703.16436337 276841.23973322\n",
            "  83289.89193415 370306.40166324 392255.59988171 148021.81268408\n",
            " 135257.54780785 288250.40948644 329672.79002503 409898.41100752\n",
            " 238134.15585775 368306.05176262 275290.22641391 239081.40629288\n",
            " 266321.69500888 375448.00373975 246605.1330584  641448.06611111\n",
            " 336904.01756403 215252.99856889 241609.33155848 271063.86770618\n",
            " 236907.37454933 382141.50786421 141280.68282403 289125.50608539\n",
            " 298377.15265302 346302.09403242 253397.19897089 508363.2921946\n",
            "  55430.52886374 316398.6845584  307992.35916116 291458.05176895\n",
            " 365830.87156821 337348.7566333  283210.3790915  258622.02741059\n",
            " 321376.87461064 327403.5219942  223207.07109362 339375.24930473\n",
            " 235633.20353306 207937.38459674 262238.13165728 155176.57248646\n",
            " 446908.94216759 158813.06040685 324047.59496836 252640.34325201\n",
            " 249188.03432076 255476.98860462 135204.18190746 486863.31488025\n",
            " 389836.25584169 417264.89960339 137349.62110706 330482.67927447\n",
            " 202882.37492681 244085.71728165 216194.80179372 178187.54506876\n",
            " 326307.74557151 334835.24310067 259056.39725013 318455.2747672\n",
            " 245978.7402989  349977.88045537 313576.00711254 360034.97890785\n",
            " 302180.47800664 346414.147532   237623.24093074 537825.48286654\n",
            " 306899.04560765 198016.87086714 356756.250312   126411.60509786\n",
            " 222199.09532434 293326.26886908 357988.60770913 274905.50147079\n",
            " 321045.37222521 308870.73491254 328625.82189502 200975.70277517\n",
            " 296192.52973971 279928.30765362 260548.00636601 243793.66083518\n",
            " 342931.62784114 486251.93814507 263093.75393189 222741.17780968\n",
            " 280110.46803518 314221.44235756 237481.55329132 271619.53638204\n",
            " 356806.58975663 367708.28247153 232120.08009347 279820.78777821\n",
            " 336140.0816819  301035.34267013 196964.58034718 242703.54496087\n",
            " 382656.27941644 264746.6531743   74865.40367927 229185.42533768\n",
            " 449451.21775471 333497.22792232 181490.12700764 308568.97923415\n",
            " 162126.67867317 273979.725792   312484.58403589 268972.60081153\n",
            " 294422.26870008 280549.89684759 369158.98151701 236824.03178162\n",
            " 191405.47832004 351443.85315144 298057.17180239 366323.17194185\n",
            " 160087.98542242 289201.47993591 187648.53842493 275254.96461994\n",
            " 296878.85455016 351165.94366769 685012.47921711 197831.35625512\n",
            "    817.42017899 336795.26572669 307319.33036176 286538.74627755\n",
            " 356601.98981613 413427.13794709 399347.35085261 181438.83136968\n",
            " 229242.10355842 330888.72112284 326911.57257259 213774.88283495\n",
            " 372421.41967877 243911.48617397   1134.30582295 251342.72805545\n",
            " 149121.8720192  518450.65557447 163722.93239689 330273.5210797\n",
            " 628305.94584286 229238.61156581 308547.9272714  150580.26882881\n",
            " 557029.72398692 782868.63100081 389620.35786206 424001.85956249\n",
            " 261503.41228481 201832.48696299 311830.67263387 308643.85612775\n",
            "  63366.06569213 343396.35371872 309710.08763841 315943.40002105\n",
            " 590729.84011205  81729.53183386 282024.21237733 289056.00731604\n",
            " 329795.69550524 107196.24435223 373365.59284941 119783.54874409\n",
            " 474729.87515126 108723.20464901 294099.46394641 263585.28216134\n",
            " 282962.56218265 223533.52354009 317057.78433315 328600.46139415\n",
            " 342669.79765667 293334.82175315]\n",
            "train accuracy : 0.300\n",
            "RMSE : 227578.429\n"
          ]
        },
        {
          "output_type": "stream",
          "name": "stderr",
          "text": [
            "/usr/local/lib/python3.8/dist-packages/sklearn/neural_network/_multilayer_perceptron.py:692: ConvergenceWarning: Stochastic Optimizer: Maximum iterations (1000) reached and the optimization hasn't converged yet.\n",
            "  warnings.warn(\n"
          ]
        }
      ]
    },
    {
      "cell_type": "markdown",
      "source": [
        "#딥러닝"
      ],
      "metadata": {
        "id": "0Z_OBBR_uFMc"
      }
    },
    {
      "cell_type": "markdown",
      "source": [
        "###경고문 제거"
      ],
      "metadata": {
        "id": "1RiTqIJ9uHSl"
      }
    },
    {
      "cell_type": "code",
      "source": [
        "import warnings \n",
        "warnings.filterwarnings(\"ignore\")\n"
      ],
      "metadata": {
        "id": "cG29zpXwuLCd"
      },
      "execution_count": 14,
      "outputs": []
    },
    {
      "cell_type": "markdown",
      "source": [
        "###DNN(Deep Learning: Deep Neural Network)"
      ],
      "metadata": {
        "id": "QToBKKc_uiBd"
      }
    },
    {
      "cell_type": "markdown",
      "source": [
        "####1)분류예측"
      ],
      "metadata": {
        "id": "uTgNdHTkvKUM"
      }
    },
    {
      "cell_type": "code",
      "source": [
        "#1. 변수선택\n",
        "X = df[[\"총매출액\", \"구매금액대\", \"1회 평균매출액\", \"평균 구매주기\", \"거래기간\"]]\n",
        "Y = df[\"할인민감여부\"]\n",
        "\n",
        "#2. train-test split\n",
        "X_train, X_test, Y_train, Y_test = train_test_split(X, Y, test_size = 0.3, random_state = 0)\n",
        "\n",
        "#3. 데이터 전처리(preprocessing)\n",
        "ct = ColumnTransformer([(\"scaling\", StandardScaler(), [\"총매출액\", \"1회 평균매출액\", \"평균 구매주기\", \"거래기간\"]), \n",
        "                        (\"onehot\", OneHotEncoder(sparse = False), [\"구매금액대\"])])\n",
        "ct.fit(X_train)\n",
        "\n",
        "X_train = ct.transform(X_train)\n",
        "X_test = ct.transform(X_test)\n",
        "\n",
        "#4. 오버샘플링\n",
        "smote = SMOTE(random_state = 0)\n",
        "X_train, Y_train = smote.fit_resample(X_train, Y_train)\n"
      ],
      "metadata": {
        "id": "OwSk4dZVul4V"
      },
      "execution_count": 15,
      "outputs": []
    },
    {
      "cell_type": "code",
      "source": [
        "#'keras' -> 딥러닝에서 사용하는 패키지\n",
        "import keras\n",
        "import tensorflow as tf\n",
        "\n",
        "from keras.models import Sequential #'순차적'으로(back없이) 가는 모형 생성\n",
        "from keras.layers import Dense, Activation #'Dense': 노드의 수, 'Activation': 노드의 활성화 여부(값을 전달 할지 말지)\n",
        "from keras.metrics import Accuracy\n",
        "\n",
        "#5. 시드값 설정 : 시작점\n",
        "np.random.seed(0)\n",
        "tf.random.set_seed(0)\n",
        "\n",
        "#6. 모형생성\n",
        "model = keras.models.Sequential() #순차적으로 가는 모형 생성\n",
        "model.add(keras.layers.Dense(64, input_dim=7, activation = \"relu\")) \n",
        "#레이어를 add, 'input_dim = 7' -> 7차원의 신경망, activation함수의 디폴트: 'relu'함수\n",
        "model.add(keras.layers.Dense(64, activation = \"relu\"))\n",
        "model.add(keras.layers.Dense(1, activation = \"sigmoid\"))\n",
        "\n",
        "#7. 모형 학습\n",
        "model.compile(loss = \"binary_crossentropy\", optimizer = \"adam\", metrics = [\"accuracy\"]) \n",
        "#'loss' -> accuracy에 반대되는 개념, 엔트로피? 불순도 확인(0과1에 대해서 분류)\n",
        "#'adam': 최적화시켜주는 함수\n",
        "\n",
        "history = model.fit(X_train, Y_train, validation_split = 0.2, epochs = 100, \n",
        "                    batch_size = 64, verbose = 2)\n",
        "#'epochs': 시도 횟수(1부터 100까지 계산을 시도) -> 높이게 되면 계산이 느려짐\n",
        "#'batch size' = Dense와 같은개념\n",
        "#'verbose'의 디폴트 값 = 2"
      ],
      "metadata": {
        "colab": {
          "base_uri": "https://localhost:8080/"
        },
        "id": "5mBKUpz4uEL_",
        "outputId": "cb507bcf-78f9-48b5-9d3b-87cb3ce52682"
      },
      "execution_count": 16,
      "outputs": [
        {
          "output_type": "stream",
          "name": "stdout",
          "text": [
            "Epoch 1/100\n",
            "11/11 - 1s - loss: 0.6829 - accuracy: 0.5888 - val_loss: 0.6856 - val_accuracy: 0.6529 - 1s/epoch - 98ms/step\n",
            "Epoch 2/100\n",
            "11/11 - 0s - loss: 0.5836 - accuracy: 0.8254 - val_loss: 0.6330 - val_accuracy: 0.6471 - 52ms/epoch - 5ms/step\n",
            "Epoch 3/100\n",
            "11/11 - 0s - loss: 0.5174 - accuracy: 0.8284 - val_loss: 0.6003 - val_accuracy: 0.6765 - 47ms/epoch - 4ms/step\n",
            "Epoch 4/100\n",
            "11/11 - 0s - loss: 0.4679 - accuracy: 0.8328 - val_loss: 0.5588 - val_accuracy: 0.7353 - 67ms/epoch - 6ms/step\n",
            "Epoch 5/100\n",
            "11/11 - 0s - loss: 0.4343 - accuracy: 0.8595 - val_loss: 0.5102 - val_accuracy: 0.8118 - 46ms/epoch - 4ms/step\n",
            "Epoch 6/100\n",
            "11/11 - 0s - loss: 0.4104 - accuracy: 0.8624 - val_loss: 0.5205 - val_accuracy: 0.7882 - 61ms/epoch - 6ms/step\n",
            "Epoch 7/100\n",
            "11/11 - 0s - loss: 0.3902 - accuracy: 0.8713 - val_loss: 0.4881 - val_accuracy: 0.8235 - 46ms/epoch - 4ms/step\n",
            "Epoch 8/100\n",
            "11/11 - 0s - loss: 0.3756 - accuracy: 0.8802 - val_loss: 0.4970 - val_accuracy: 0.8176 - 52ms/epoch - 5ms/step\n",
            "Epoch 9/100\n",
            "11/11 - 0s - loss: 0.3606 - accuracy: 0.8905 - val_loss: 0.4988 - val_accuracy: 0.8235 - 52ms/epoch - 5ms/step\n",
            "Epoch 10/100\n",
            "11/11 - 0s - loss: 0.3481 - accuracy: 0.8876 - val_loss: 0.4776 - val_accuracy: 0.8412 - 64ms/epoch - 6ms/step\n",
            "Epoch 11/100\n",
            "11/11 - 0s - loss: 0.3354 - accuracy: 0.8964 - val_loss: 0.5106 - val_accuracy: 0.8235 - 47ms/epoch - 4ms/step\n",
            "Epoch 12/100\n",
            "11/11 - 0s - loss: 0.3230 - accuracy: 0.8994 - val_loss: 0.4591 - val_accuracy: 0.8529 - 44ms/epoch - 4ms/step\n",
            "Epoch 13/100\n",
            "11/11 - 0s - loss: 0.3110 - accuracy: 0.9038 - val_loss: 0.4816 - val_accuracy: 0.8471 - 47ms/epoch - 4ms/step\n",
            "Epoch 14/100\n",
            "11/11 - 0s - loss: 0.3008 - accuracy: 0.9038 - val_loss: 0.4843 - val_accuracy: 0.8471 - 63ms/epoch - 6ms/step\n",
            "Epoch 15/100\n",
            "11/11 - 0s - loss: 0.2923 - accuracy: 0.9112 - val_loss: 0.4878 - val_accuracy: 0.8529 - 45ms/epoch - 4ms/step\n",
            "Epoch 16/100\n",
            "11/11 - 0s - loss: 0.2855 - accuracy: 0.9172 - val_loss: 0.4796 - val_accuracy: 0.8529 - 44ms/epoch - 4ms/step\n",
            "Epoch 17/100\n",
            "11/11 - 0s - loss: 0.2792 - accuracy: 0.9172 - val_loss: 0.4837 - val_accuracy: 0.8588 - 50ms/epoch - 5ms/step\n",
            "Epoch 18/100\n",
            "11/11 - 0s - loss: 0.2729 - accuracy: 0.9216 - val_loss: 0.4902 - val_accuracy: 0.8588 - 44ms/epoch - 4ms/step\n",
            "Epoch 19/100\n",
            "11/11 - 0s - loss: 0.2664 - accuracy: 0.9157 - val_loss: 0.4760 - val_accuracy: 0.8588 - 59ms/epoch - 5ms/step\n",
            "Epoch 20/100\n",
            "11/11 - 0s - loss: 0.2629 - accuracy: 0.9186 - val_loss: 0.4975 - val_accuracy: 0.8588 - 58ms/epoch - 5ms/step\n",
            "Epoch 21/100\n",
            "11/11 - 0s - loss: 0.2586 - accuracy: 0.9216 - val_loss: 0.4753 - val_accuracy: 0.8529 - 41ms/epoch - 4ms/step\n",
            "Epoch 22/100\n",
            "11/11 - 0s - loss: 0.2545 - accuracy: 0.9216 - val_loss: 0.4969 - val_accuracy: 0.8529 - 42ms/epoch - 4ms/step\n",
            "Epoch 23/100\n",
            "11/11 - 0s - loss: 0.2500 - accuracy: 0.9216 - val_loss: 0.4686 - val_accuracy: 0.8588 - 45ms/epoch - 4ms/step\n",
            "Epoch 24/100\n",
            "11/11 - 0s - loss: 0.2481 - accuracy: 0.9186 - val_loss: 0.4818 - val_accuracy: 0.8588 - 44ms/epoch - 4ms/step\n",
            "Epoch 25/100\n",
            "11/11 - 0s - loss: 0.2481 - accuracy: 0.9186 - val_loss: 0.4760 - val_accuracy: 0.8588 - 41ms/epoch - 4ms/step\n",
            "Epoch 26/100\n",
            "11/11 - 0s - loss: 0.2421 - accuracy: 0.9201 - val_loss: 0.4532 - val_accuracy: 0.8588 - 39ms/epoch - 4ms/step\n",
            "Epoch 27/100\n",
            "11/11 - 0s - loss: 0.2418 - accuracy: 0.9246 - val_loss: 0.4800 - val_accuracy: 0.8588 - 40ms/epoch - 4ms/step\n",
            "Epoch 28/100\n",
            "11/11 - 0s - loss: 0.2370 - accuracy: 0.9260 - val_loss: 0.4627 - val_accuracy: 0.8588 - 44ms/epoch - 4ms/step\n",
            "Epoch 29/100\n",
            "11/11 - 0s - loss: 0.2360 - accuracy: 0.9172 - val_loss: 0.4610 - val_accuracy: 0.8588 - 48ms/epoch - 4ms/step\n",
            "Epoch 30/100\n",
            "11/11 - 0s - loss: 0.2324 - accuracy: 0.9275 - val_loss: 0.4712 - val_accuracy: 0.8529 - 47ms/epoch - 4ms/step\n",
            "Epoch 31/100\n",
            "11/11 - 0s - loss: 0.2309 - accuracy: 0.9290 - val_loss: 0.4492 - val_accuracy: 0.8588 - 40ms/epoch - 4ms/step\n",
            "Epoch 32/100\n",
            "11/11 - 0s - loss: 0.2293 - accuracy: 0.9290 - val_loss: 0.4589 - val_accuracy: 0.8588 - 41ms/epoch - 4ms/step\n",
            "Epoch 33/100\n",
            "11/11 - 0s - loss: 0.2291 - accuracy: 0.9305 - val_loss: 0.4483 - val_accuracy: 0.8588 - 44ms/epoch - 4ms/step\n",
            "Epoch 34/100\n",
            "11/11 - 0s - loss: 0.2252 - accuracy: 0.9290 - val_loss: 0.4475 - val_accuracy: 0.8588 - 41ms/epoch - 4ms/step\n",
            "Epoch 35/100\n",
            "11/11 - 0s - loss: 0.2247 - accuracy: 0.9290 - val_loss: 0.4419 - val_accuracy: 0.8588 - 41ms/epoch - 4ms/step\n",
            "Epoch 36/100\n",
            "11/11 - 0s - loss: 0.2240 - accuracy: 0.9246 - val_loss: 0.4333 - val_accuracy: 0.8647 - 43ms/epoch - 4ms/step\n",
            "Epoch 37/100\n",
            "11/11 - 0s - loss: 0.2223 - accuracy: 0.9305 - val_loss: 0.4677 - val_accuracy: 0.8529 - 49ms/epoch - 4ms/step\n",
            "Epoch 38/100\n",
            "11/11 - 0s - loss: 0.2193 - accuracy: 0.9290 - val_loss: 0.4230 - val_accuracy: 0.8588 - 45ms/epoch - 4ms/step\n",
            "Epoch 39/100\n",
            "11/11 - 0s - loss: 0.2183 - accuracy: 0.9305 - val_loss: 0.4455 - val_accuracy: 0.8588 - 45ms/epoch - 4ms/step\n",
            "Epoch 40/100\n",
            "11/11 - 0s - loss: 0.2165 - accuracy: 0.9334 - val_loss: 0.4343 - val_accuracy: 0.8647 - 48ms/epoch - 4ms/step\n",
            "Epoch 41/100\n",
            "11/11 - 0s - loss: 0.2149 - accuracy: 0.9334 - val_loss: 0.4333 - val_accuracy: 0.8588 - 62ms/epoch - 6ms/step\n",
            "Epoch 42/100\n",
            "11/11 - 0s - loss: 0.2139 - accuracy: 0.9320 - val_loss: 0.4404 - val_accuracy: 0.8588 - 49ms/epoch - 4ms/step\n",
            "Epoch 43/100\n",
            "11/11 - 0s - loss: 0.2145 - accuracy: 0.9260 - val_loss: 0.4200 - val_accuracy: 0.8588 - 67ms/epoch - 6ms/step\n",
            "Epoch 44/100\n",
            "11/11 - 0s - loss: 0.2120 - accuracy: 0.9349 - val_loss: 0.4548 - val_accuracy: 0.8529 - 71ms/epoch - 6ms/step\n",
            "Epoch 45/100\n",
            "11/11 - 0s - loss: 0.2110 - accuracy: 0.9334 - val_loss: 0.4268 - val_accuracy: 0.8647 - 49ms/epoch - 4ms/step\n",
            "Epoch 46/100\n",
            "11/11 - 0s - loss: 0.2082 - accuracy: 0.9364 - val_loss: 0.4381 - val_accuracy: 0.8529 - 44ms/epoch - 4ms/step\n",
            "Epoch 47/100\n",
            "11/11 - 0s - loss: 0.2085 - accuracy: 0.9364 - val_loss: 0.4311 - val_accuracy: 0.8588 - 47ms/epoch - 4ms/step\n",
            "Epoch 48/100\n",
            "11/11 - 0s - loss: 0.2071 - accuracy: 0.9349 - val_loss: 0.4126 - val_accuracy: 0.8647 - 58ms/epoch - 5ms/step\n",
            "Epoch 49/100\n",
            "11/11 - 0s - loss: 0.2064 - accuracy: 0.9379 - val_loss: 0.4292 - val_accuracy: 0.8588 - 67ms/epoch - 6ms/step\n",
            "Epoch 50/100\n",
            "11/11 - 0s - loss: 0.2051 - accuracy: 0.9334 - val_loss: 0.4113 - val_accuracy: 0.8647 - 46ms/epoch - 4ms/step\n",
            "Epoch 51/100\n",
            "11/11 - 0s - loss: 0.2056 - accuracy: 0.9379 - val_loss: 0.4268 - val_accuracy: 0.8588 - 52ms/epoch - 5ms/step\n",
            "Epoch 52/100\n",
            "11/11 - 0s - loss: 0.2044 - accuracy: 0.9349 - val_loss: 0.4156 - val_accuracy: 0.8647 - 48ms/epoch - 4ms/step\n",
            "Epoch 53/100\n",
            "11/11 - 0s - loss: 0.2026 - accuracy: 0.9364 - val_loss: 0.4326 - val_accuracy: 0.8529 - 61ms/epoch - 6ms/step\n",
            "Epoch 54/100\n",
            "11/11 - 0s - loss: 0.2007 - accuracy: 0.9408 - val_loss: 0.4113 - val_accuracy: 0.8647 - 63ms/epoch - 6ms/step\n",
            "Epoch 55/100\n",
            "11/11 - 0s - loss: 0.1997 - accuracy: 0.9393 - val_loss: 0.4058 - val_accuracy: 0.8647 - 45ms/epoch - 4ms/step\n",
            "Epoch 56/100\n",
            "11/11 - 0s - loss: 0.1999 - accuracy: 0.9393 - val_loss: 0.4358 - val_accuracy: 0.8588 - 51ms/epoch - 5ms/step\n",
            "Epoch 57/100\n",
            "11/11 - 0s - loss: 0.1996 - accuracy: 0.9393 - val_loss: 0.3937 - val_accuracy: 0.8647 - 62ms/epoch - 6ms/step\n",
            "Epoch 58/100\n",
            "11/11 - 0s - loss: 0.1997 - accuracy: 0.9364 - val_loss: 0.4277 - val_accuracy: 0.8529 - 67ms/epoch - 6ms/step\n",
            "Epoch 59/100\n",
            "11/11 - 0s - loss: 0.1975 - accuracy: 0.9408 - val_loss: 0.3932 - val_accuracy: 0.8647 - 48ms/epoch - 4ms/step\n",
            "Epoch 60/100\n",
            "11/11 - 0s - loss: 0.1948 - accuracy: 0.9423 - val_loss: 0.4205 - val_accuracy: 0.8588 - 60ms/epoch - 5ms/step\n",
            "Epoch 61/100\n",
            "11/11 - 0s - loss: 0.1951 - accuracy: 0.9438 - val_loss: 0.4008 - val_accuracy: 0.8647 - 50ms/epoch - 5ms/step\n",
            "Epoch 62/100\n",
            "11/11 - 0s - loss: 0.1935 - accuracy: 0.9408 - val_loss: 0.4069 - val_accuracy: 0.8647 - 46ms/epoch - 4ms/step\n",
            "Epoch 63/100\n",
            "11/11 - 0s - loss: 0.1947 - accuracy: 0.9423 - val_loss: 0.4142 - val_accuracy: 0.8588 - 48ms/epoch - 4ms/step\n",
            "Epoch 64/100\n",
            "11/11 - 0s - loss: 0.1929 - accuracy: 0.9438 - val_loss: 0.4039 - val_accuracy: 0.8647 - 47ms/epoch - 4ms/step\n",
            "Epoch 65/100\n",
            "11/11 - 0s - loss: 0.1912 - accuracy: 0.9453 - val_loss: 0.4085 - val_accuracy: 0.8647 - 61ms/epoch - 6ms/step\n",
            "Epoch 66/100\n",
            "11/11 - 0s - loss: 0.1911 - accuracy: 0.9438 - val_loss: 0.4082 - val_accuracy: 0.8647 - 46ms/epoch - 4ms/step\n",
            "Epoch 67/100\n",
            "11/11 - 0s - loss: 0.1901 - accuracy: 0.9438 - val_loss: 0.4114 - val_accuracy: 0.8588 - 46ms/epoch - 4ms/step\n",
            "Epoch 68/100\n",
            "11/11 - 0s - loss: 0.1910 - accuracy: 0.9408 - val_loss: 0.3896 - val_accuracy: 0.8647 - 98ms/epoch - 9ms/step\n",
            "Epoch 69/100\n",
            "11/11 - 0s - loss: 0.1892 - accuracy: 0.9453 - val_loss: 0.3962 - val_accuracy: 0.8647 - 49ms/epoch - 4ms/step\n",
            "Epoch 70/100\n",
            "11/11 - 0s - loss: 0.1887 - accuracy: 0.9408 - val_loss: 0.4095 - val_accuracy: 0.8588 - 49ms/epoch - 4ms/step\n",
            "Epoch 71/100\n",
            "11/11 - 0s - loss: 0.1872 - accuracy: 0.9438 - val_loss: 0.3883 - val_accuracy: 0.8588 - 63ms/epoch - 6ms/step\n",
            "Epoch 72/100\n",
            "11/11 - 0s - loss: 0.1875 - accuracy: 0.9408 - val_loss: 0.3898 - val_accuracy: 0.8647 - 48ms/epoch - 4ms/step\n",
            "Epoch 73/100\n",
            "11/11 - 0s - loss: 0.1867 - accuracy: 0.9482 - val_loss: 0.4074 - val_accuracy: 0.8588 - 46ms/epoch - 4ms/step\n",
            "Epoch 74/100\n",
            "11/11 - 0s - loss: 0.1880 - accuracy: 0.9393 - val_loss: 0.3759 - val_accuracy: 0.8647 - 48ms/epoch - 4ms/step\n",
            "Epoch 75/100\n",
            "11/11 - 0s - loss: 0.1884 - accuracy: 0.9438 - val_loss: 0.4138 - val_accuracy: 0.8588 - 63ms/epoch - 6ms/step\n",
            "Epoch 76/100\n",
            "11/11 - 0s - loss: 0.1838 - accuracy: 0.9423 - val_loss: 0.3702 - val_accuracy: 0.8647 - 45ms/epoch - 4ms/step\n",
            "Epoch 77/100\n",
            "11/11 - 0s - loss: 0.1842 - accuracy: 0.9467 - val_loss: 0.3963 - val_accuracy: 0.8588 - 52ms/epoch - 5ms/step\n",
            "Epoch 78/100\n",
            "11/11 - 0s - loss: 0.1831 - accuracy: 0.9497 - val_loss: 0.3934 - val_accuracy: 0.8588 - 51ms/epoch - 5ms/step\n",
            "Epoch 79/100\n",
            "11/11 - 0s - loss: 0.1830 - accuracy: 0.9467 - val_loss: 0.3960 - val_accuracy: 0.8588 - 47ms/epoch - 4ms/step\n",
            "Epoch 80/100\n",
            "11/11 - 0s - loss: 0.1824 - accuracy: 0.9423 - val_loss: 0.3860 - val_accuracy: 0.8647 - 43ms/epoch - 4ms/step\n",
            "Epoch 81/100\n",
            "11/11 - 0s - loss: 0.1808 - accuracy: 0.9482 - val_loss: 0.3950 - val_accuracy: 0.8588 - 46ms/epoch - 4ms/step\n",
            "Epoch 82/100\n",
            "11/11 - 0s - loss: 0.1814 - accuracy: 0.9482 - val_loss: 0.3916 - val_accuracy: 0.8588 - 43ms/epoch - 4ms/step\n",
            "Epoch 83/100\n",
            "11/11 - 0s - loss: 0.1797 - accuracy: 0.9497 - val_loss: 0.3803 - val_accuracy: 0.8647 - 55ms/epoch - 5ms/step\n",
            "Epoch 84/100\n",
            "11/11 - 0s - loss: 0.1793 - accuracy: 0.9467 - val_loss: 0.3954 - val_accuracy: 0.8588 - 49ms/epoch - 4ms/step\n",
            "Epoch 85/100\n",
            "11/11 - 0s - loss: 0.1794 - accuracy: 0.9453 - val_loss: 0.3924 - val_accuracy: 0.8588 - 65ms/epoch - 6ms/step\n",
            "Epoch 86/100\n",
            "11/11 - 0s - loss: 0.1789 - accuracy: 0.9482 - val_loss: 0.3679 - val_accuracy: 0.8588 - 45ms/epoch - 4ms/step\n",
            "Epoch 87/100\n",
            "11/11 - 0s - loss: 0.1777 - accuracy: 0.9497 - val_loss: 0.3876 - val_accuracy: 0.8588 - 63ms/epoch - 6ms/step\n",
            "Epoch 88/100\n",
            "11/11 - 0s - loss: 0.1773 - accuracy: 0.9512 - val_loss: 0.3835 - val_accuracy: 0.8588 - 49ms/epoch - 4ms/step\n",
            "Epoch 89/100\n",
            "11/11 - 0s - loss: 0.1784 - accuracy: 0.9438 - val_loss: 0.3948 - val_accuracy: 0.8588 - 48ms/epoch - 4ms/step\n",
            "Epoch 90/100\n",
            "11/11 - 0s - loss: 0.1765 - accuracy: 0.9527 - val_loss: 0.3870 - val_accuracy: 0.8588 - 47ms/epoch - 4ms/step\n",
            "Epoch 91/100\n",
            "11/11 - 0s - loss: 0.1758 - accuracy: 0.9497 - val_loss: 0.3666 - val_accuracy: 0.8647 - 48ms/epoch - 4ms/step\n",
            "Epoch 92/100\n",
            "11/11 - 0s - loss: 0.1772 - accuracy: 0.9423 - val_loss: 0.3699 - val_accuracy: 0.8588 - 45ms/epoch - 4ms/step\n",
            "Epoch 93/100\n",
            "11/11 - 0s - loss: 0.1755 - accuracy: 0.9512 - val_loss: 0.3941 - val_accuracy: 0.8588 - 44ms/epoch - 4ms/step\n",
            "Epoch 94/100\n",
            "11/11 - 0s - loss: 0.1753 - accuracy: 0.9467 - val_loss: 0.3659 - val_accuracy: 0.8588 - 49ms/epoch - 4ms/step\n",
            "Epoch 95/100\n",
            "11/11 - 0s - loss: 0.1743 - accuracy: 0.9512 - val_loss: 0.3836 - val_accuracy: 0.8588 - 52ms/epoch - 5ms/step\n",
            "Epoch 96/100\n",
            "11/11 - 0s - loss: 0.1743 - accuracy: 0.9482 - val_loss: 0.3720 - val_accuracy: 0.8588 - 50ms/epoch - 5ms/step\n",
            "Epoch 97/100\n",
            "11/11 - 0s - loss: 0.1739 - accuracy: 0.9527 - val_loss: 0.3804 - val_accuracy: 0.8588 - 75ms/epoch - 7ms/step\n",
            "Epoch 98/100\n",
            "11/11 - 0s - loss: 0.1749 - accuracy: 0.9423 - val_loss: 0.3558 - val_accuracy: 0.8647 - 61ms/epoch - 6ms/step\n",
            "Epoch 99/100\n",
            "11/11 - 0s - loss: 0.1722 - accuracy: 0.9482 - val_loss: 0.3841 - val_accuracy: 0.8588 - 46ms/epoch - 4ms/step\n",
            "Epoch 100/100\n",
            "11/11 - 0s - loss: 0.1716 - accuracy: 0.9497 - val_loss: 0.3719 - val_accuracy: 0.8588 - 44ms/epoch - 4ms/step\n"
          ]
        }
      ]
    },
    {
      "cell_type": "code",
      "source": [
        "#epoch에서 나온 loss, accuracy를 찾아서 크로스가 되는 부분 찾아보기\n",
        "\n",
        "import matplotlib.pyplot as plt\n",
        "\n",
        "fig, loss_ax = plt.subplots()\n",
        "acc_ax = loss_ax.twinx()\n",
        "\n",
        "#loss(오차) 그리기\n",
        "loss_ax.plot(history.history[\"loss\"], \"y\", label = \"train loss\")  #history에서 loss를 찾아서 yellow색상으로, 라벨은 \"train loss\"\n",
        "loss_ax.plot(history.history[\"val_loss\"], \"r\", label = \"val loss\")\n",
        "loss_ax.set_xlabel(\"epoch\")\n",
        "loss_ax.set_ylabel(\"loss\")\n",
        "acc_ax.legend(loc = \"lower right\")  #legend: 범례\n",
        "\n",
        "\n",
        "#accuracy(정확도) 그리기\n",
        "acc_ax.plot(history.history[\"accuracy\"], \"b\", label = \"train acc\")\n",
        "acc_ax.plot(history.history[\"val_accuracy\"], \"g\", label = \"val acc\")\n",
        "acc_ax.set_ylabel(\"accuracy\")\n",
        "acc_ax.legend(loc = \"upper right\")\n",
        "\n",
        "plt.show()\n",
        "\n",
        "#'적정수준'에서 끝내겠다 -> epoch(x축)을 20정도로 잡으면 되지 않을까. (20정도로 잡으면 과적합은 아니다.)"
      ],
      "metadata": {
        "id": "u-znFHcM4Toz",
        "colab": {
          "base_uri": "https://localhost:8080/",
          "height": 297
        },
        "outputId": "afd70b4a-902c-40f6-a5c8-88969ea7b3ae"
      },
      "execution_count": 17,
      "outputs": [
        {
          "output_type": "stream",
          "name": "stderr",
          "text": [
            "WARNING:matplotlib.legend:No handles with labels found to put in legend.\n"
          ]
        },
        {
          "output_type": "display_data",
          "data": {
            "text/plain": [
              "<Figure size 432x288 with 2 Axes>"
            ],
            "image/png": "[encoded data removed]"
          },
          "metadata": {
            "needs_background": "light"
          }
        }
      ]
    },
    {
      "cell_type": "code",
      "source": [
        "#epoch값 20으로 넣어보기\n",
        "model.fit(X_train, Y_train, validation_split = 0.2, epochs = 20, \n",
        "          batch_size = 64, verbose = 1)"
      ],
      "metadata": {
        "id": "XhYlpiw-7hR1",
        "colab": {
          "base_uri": "https://localhost:8080/"
        },
        "outputId": "461a2617-2150-49e1-f62a-555fb358ecab"
      },
      "execution_count": 18,
      "outputs": [
        {
          "output_type": "stream",
          "name": "stdout",
          "text": [
            "Epoch 1/20\n",
            "11/11 [==============================] - 0s 8ms/step - loss: 0.1702 - accuracy: 0.9497 - val_loss: 0.3680 - val_accuracy: 0.8588\n",
            "Epoch 2/20\n",
            "11/11 [==============================] - 0s 6ms/step - loss: 0.1697 - accuracy: 0.9512 - val_loss: 0.3609 - val_accuracy: 0.8588\n",
            "Epoch 3/20\n",
            "11/11 [==============================] - 0s 5ms/step - loss: 0.1706 - accuracy: 0.9497 - val_loss: 0.3671 - val_accuracy: 0.8588\n",
            "Epoch 4/20\n",
            "11/11 [==============================] - 0s 5ms/step - loss: 0.1696 - accuracy: 0.9497 - val_loss: 0.3579 - val_accuracy: 0.8647\n",
            "Epoch 5/20\n",
            "11/11 [==============================] - 0s 7ms/step - loss: 0.1683 - accuracy: 0.9512 - val_loss: 0.3734 - val_accuracy: 0.8588\n",
            "Epoch 6/20\n",
            "11/11 [==============================] - 0s 6ms/step - loss: 0.1685 - accuracy: 0.9512 - val_loss: 0.3627 - val_accuracy: 0.8588\n",
            "Epoch 7/20\n",
            "11/11 [==============================] - 0s 7ms/step - loss: 0.1688 - accuracy: 0.9527 - val_loss: 0.3614 - val_accuracy: 0.8588\n",
            "Epoch 8/20\n",
            "11/11 [==============================] - 0s 5ms/step - loss: 0.1687 - accuracy: 0.9527 - val_loss: 0.3717 - val_accuracy: 0.8588\n",
            "Epoch 9/20\n",
            "11/11 [==============================] - 0s 6ms/step - loss: 0.1661 - accuracy: 0.9512 - val_loss: 0.3677 - val_accuracy: 0.8588\n",
            "Epoch 10/20\n",
            "11/11 [==============================] - 0s 5ms/step - loss: 0.1667 - accuracy: 0.9512 - val_loss: 0.3754 - val_accuracy: 0.8588\n",
            "Epoch 11/20\n",
            "11/11 [==============================] - 0s 5ms/step - loss: 0.1667 - accuracy: 0.9512 - val_loss: 0.3679 - val_accuracy: 0.8588\n",
            "Epoch 12/20\n",
            "11/11 [==============================] - 0s 5ms/step - loss: 0.1658 - accuracy: 0.9527 - val_loss: 0.3560 - val_accuracy: 0.8588\n",
            "Epoch 13/20\n",
            "11/11 [==============================] - 0s 7ms/step - loss: 0.1645 - accuracy: 0.9512 - val_loss: 0.3706 - val_accuracy: 0.8588\n",
            "Epoch 14/20\n",
            "11/11 [==============================] - 0s 5ms/step - loss: 0.1645 - accuracy: 0.9512 - val_loss: 0.3531 - val_accuracy: 0.8588\n",
            "Epoch 15/20\n",
            "11/11 [==============================] - 0s 5ms/step - loss: 0.1635 - accuracy: 0.9512 - val_loss: 0.3723 - val_accuracy: 0.8588\n",
            "Epoch 16/20\n",
            "11/11 [==============================] - 0s 6ms/step - loss: 0.1644 - accuracy: 0.9527 - val_loss: 0.3496 - val_accuracy: 0.8588\n",
            "Epoch 17/20\n",
            "11/11 [==============================] - 0s 5ms/step - loss: 0.1661 - accuracy: 0.9497 - val_loss: 0.3620 - val_accuracy: 0.8588\n",
            "Epoch 18/20\n",
            "11/11 [==============================] - 0s 7ms/step - loss: 0.1653 - accuracy: 0.9497 - val_loss: 0.3627 - val_accuracy: 0.8588\n",
            "Epoch 19/20\n",
            "11/11 [==============================] - 0s 6ms/step - loss: 0.1621 - accuracy: 0.9527 - val_loss: 0.3453 - val_accuracy: 0.8647\n",
            "Epoch 20/20\n",
            "11/11 [==============================] - 0s 5ms/step - loss: 0.1609 - accuracy: 0.9527 - val_loss: 0.3684 - val_accuracy: 0.8588\n"
          ]
        },
        {
          "output_type": "execute_result",
          "data": {
            "text/plain": [
              "<keras.callbacks.History at 0x7f18d37d3ca0>"
            ]
          },
          "metadata": {},
          "execution_count": 18
        }
      ]
    },
    {
      "cell_type": "code",
      "source": [
        "Y_pred = model.predict(X_test, verbose = 0)\n",
        "Y_class = np.round(Y_pred, 0)\n",
        "train_score = model.evaluate(X_train, Y_train, verbose = 0)\n",
        "test_score = model.evaluate(X_test, Y_test, verbose = 0)\n",
        "print(\"Y 예측값 : \\n\", Y_pred[:5])\n",
        "print(\"Y 예측 클래스 : \\n\", Y_class[:5])\n",
        "print(\"train accuracy : {:.3f}\". format(train_score[0], train_score[1]))\n",
        "print(\"test accuracy : {:.3f}\".format(test_score[0], train_score[1]))"
      ],
      "metadata": {
        "id": "3ZuJwRPI73vQ",
        "colab": {
          "base_uri": "https://localhost:8080/"
        },
        "outputId": "16bfb3e7-78de-46dc-9c32-4bddc008c9b6"
      },
      "execution_count": 19,
      "outputs": [
        {
          "output_type": "stream",
          "name": "stdout",
          "text": [
            "Y 예측값 : \n",
            " [[0.93126047]\n",
            " [1.        ]\n",
            " [0.01772536]\n",
            " [0.01244921]\n",
            " [0.99973166]]\n",
            "Y 예측 클래스 : \n",
            " [[1.]\n",
            " [1.]\n",
            " [0.]\n",
            " [0.]\n",
            " [1.]]\n",
            "train accuracy : 0.202\n",
            "test accuracy : 0.224\n"
          ]
        }
      ]
    },
    {
      "cell_type": "markdown",
      "source": [
        "230112\n",
        "####2) 회귀예측"
      ],
      "metadata": {
        "id": "LhcufWL3TXKv"
      }
    },
    {
      "cell_type": "code",
      "source": [
        "df.info()"
      ],
      "metadata": {
        "id": "bgsgs5eJVbLA",
        "colab": {
          "base_uri": "https://localhost:8080/"
        },
        "outputId": "f13788f4-f16b-4d42-ea7c-c494e85b2751"
      },
      "execution_count": 20,
      "outputs": [
        {
          "output_type": "stream",
          "name": "stdout",
          "text": [
            "<class 'pandas.core.frame.DataFrame'>\n",
            "RangeIndex: 1000 entries, 0 to 999\n",
            "Data columns (total 21 columns):\n",
            " #   Column     Non-Null Count  Dtype  \n",
            "---  ------     --------------  -----  \n",
            " 0   고객ID       1000 non-null   int64  \n",
            " 1   이탈여부       1000 non-null   int64  \n",
            " 2   총매출액       1000 non-null   int64  \n",
            " 3   구매금액대      1000 non-null   int64  \n",
            " 4   방문빈도       1000 non-null   int64  \n",
            " 5   1회 평균매출액   1000 non-null   int64  \n",
            " 6   할인권 사용 횟수  1000 non-null   int64  \n",
            " 7   총 할인 금액    1000 non-null   int64  \n",
            " 8   고객등급       1000 non-null   int64  \n",
            " 9   구매유형       1000 non-null   int64  \n",
            " 10  클레임접수여부    1000 non-null   int64  \n",
            " 11  구매카테고리수    1000 non-null   int64  \n",
            " 12  거주지역       1000 non-null   int64  \n",
            " 13  성별         1000 non-null   int64  \n",
            " 14  고객 나이대     1000 non-null   int64  \n",
            " 15  거래기간       1000 non-null   int64  \n",
            " 16  할인민감여부     1000 non-null   int64  \n",
            " 17  Recency    1000 non-null   int64  \n",
            " 18  Frequency  1000 non-null   int64  \n",
            " 19  Monetary   1000 non-null   int64  \n",
            " 20  평균 구매주기    1000 non-null   float64\n",
            "dtypes: float64(1), int64(20)\n",
            "memory usage: 164.2 KB\n"
          ]
        }
      ]
    },
    {
      "cell_type": "code",
      "source": [
        "df.columns"
      ],
      "metadata": {
        "id": "1dNP-ultVdsQ",
        "colab": {
          "base_uri": "https://localhost:8080/"
        },
        "outputId": "f27ee71a-ef05-4f2b-e9d3-b7266b3ea832"
      },
      "execution_count": 21,
      "outputs": [
        {
          "output_type": "execute_result",
          "data": {
            "text/plain": [
              "Index(['고객ID', '이탈여부', '총매출액', '구매금액대', '방문빈도', '1회 평균매출액', '할인권 사용 횟수',\n",
              "       '총 할인 금액', '고객등급', '구매유형', '클레임접수여부', '구매카테고리수', '거주지역', '성별', '고객 나이대',\n",
              "       '거래기간', '할인민감여부', 'Recency', 'Frequency', 'Monetary', '평균 구매주기'],\n",
              "      dtype='object')"
            ]
          },
          "metadata": {},
          "execution_count": 21
        }
      ]
    },
    {
      "cell_type": "code",
      "source": [
        "#1. 데이터 만들기\n",
        "X = df[df.이탈여부 == 0][[\"방문빈도\", \"총 할인 금액\", \"구매카테고리수\", \"거래기간\"]]\n",
        "Y = np.log1p(df[df.이탈여부 == 0][\"1회 평균매출액\"])"
      ],
      "metadata": {
        "id": "3xdlm2K0TdN_"
      },
      "execution_count": 22,
      "outputs": []
    },
    {
      "cell_type": "code",
      "source": [
        "#2. train-test split\n",
        "X_train, X_test, Y_train, Y_test = train_test_split(X, Y, test_size = 0.3, random_state = 0)\n",
        "\n",
        "#3. 데이터 전처리(preprocessing)\n",
        "scaler = StandardScaler().fit(X_train)\n",
        "X_train = scaler.transform(X_train)\n",
        "X_test = scaler.transform(X_test)\n",
        "\n",
        "#4. seed값 설정\n",
        "np.random.seed(0)\n",
        "tf.random.set_seed(0)\n",
        "\n",
        "#5. 모형생성\n",
        "model = keras.models.Sequential()\n",
        "model.add(keras.layers.Dense(64, input_dim=4, activation = \"relu\")) \n",
        "model.add(keras.layers.Dense(64, activation = \"relu\"))\n",
        "model.add(keras.layers.Dense(64, activation = \"relu\"))\n",
        "\n",
        "#6. 모형 학습\n",
        "model.compile(loss = \"mse\", optimizer = \"SGD\")\n",
        "#'optimizer': 작은 오차를 가지는 지점을 찾아주는 장치. 'SGD': 확률적 경사 하강법\n",
        "Y_pred = np.round(model.predict(X_test[:5], verbose = 0), 3)\n",
        "print(\"Y predict value \\n\", Y_pred)\n",
        "\n",
        "#7. 모형 평가\n",
        "train_score = model.evaluate(X_train, Y_train, verbose = 0)\n",
        "test_score = model.evaluate(X_test, Y_test, verbose = 0)\n",
        "print(\"train mse : {:.3f}\".format(train_score))\n",
        "print(\"test mse : {:.3f}\".format(test_score))\n"
      ],
      "metadata": {
        "id": "uS_FGZxwV2iq",
        "colab": {
          "base_uri": "https://localhost:8080/"
        },
        "outputId": "426122ee-b7f3-4989-e3e9-ce44c2614a30"
      },
      "execution_count": 23,
      "outputs": [
        {
          "output_type": "stream",
          "name": "stdout",
          "text": [
            "Y predict value \n",
            " [[0.    0.    0.    0.234 0.    0.163 0.052 0.    0.    0.    0.    0.32\n",
            "  0.013 0.    0.218 0.009 0.111 0.    0.182 0.    0.    0.    0.474 0.143\n",
            "  0.    0.    0.    0.    0.    0.    0.325 0.    0.    0.224 0.    0.098\n",
            "  0.115 0.    0.    0.055 0.    0.    0.    0.    0.    0.    0.    0.\n",
            "  0.    0.322 0.12  0.098 0.    0.336 0.142 0.    0.    0.394 0.    0.498\n",
            "  0.    0.    0.182 0.   ]\n",
            " [0.    0.    0.    0.002 0.    0.134 0.114 0.    0.109 0.    0.    0.058\n",
            "  0.061 0.043 0.042 0.027 0.06  0.097 0.114 0.    0.    0.001 0.14  0.\n",
            "  0.081 0.017 0.    0.034 0.    0.    0.012 0.009 0.    0.045 0.    0.039\n",
            "  0.    0.    0.    0.109 0.    0.009 0.004 0.    0.    0.    0.    0.\n",
            "  0.059 0.097 0.074 0.026 0.    0.014 0.184 0.    0.002 0.061 0.075 0.146\n",
            "  0.    0.    0.289 0.   ]\n",
            " [0.    0.    0.079 0.012 0.    0.056 0.061 0.    0.175 0.    0.089 0.14\n",
            "  0.002 0.    0.254 0.04  0.094 0.183 0.181 0.    0.058 0.    0.385 0.058\n",
            "  0.    0.    0.    0.057 0.    0.    0.144 0.051 0.07  0.104 0.023 0.032\n",
            "  0.036 0.    0.    0.162 0.    0.    0.    0.    0.    0.    0.    0.\n",
            "  0.054 0.124 0.055 0.014 0.    0.081 0.055 0.    0.057 0.15  0.048 0.408\n",
            "  0.    0.    0.363 0.   ]\n",
            " [0.    0.002 0.    0.121 0.    0.06  0.097 0.115 0.    0.    0.232 0.095\n",
            "  0.    0.    0.11  0.    0.147 0.153 0.168 0.    0.    0.    0.268 0.204\n",
            "  0.    0.    0.    0.    0.    0.    0.448 0.    0.    0.254 0.    0.075\n",
            "  0.214 0.    0.    0.004 0.043 0.    0.024 0.    0.    0.    0.036 0.\n",
            "  0.    0.219 0.    0.2   0.    0.357 0.169 0.    0.134 0.232 0.016 0.495\n",
            "  0.    0.    0.222 0.   ]\n",
            " [0.    0.    0.    0.024 0.018 0.053 0.087 0.088 0.054 0.    0.102 0.003\n",
            "  0.    0.    0.068 0.    0.    0.145 0.005 0.    0.    0.    0.111 0.075\n",
            "  0.    0.096 0.    0.    0.    0.    0.013 0.    0.    0.064 0.    0.094\n",
            "  0.166 0.    0.    0.    0.    0.    0.    0.    0.014 0.    0.06  0.\n",
            "  0.    0.132 0.    0.171 0.    0.028 0.094 0.    0.    0.    0.    0.068\n",
            "  0.    0.    0.053 0.   ]]\n",
            "train mse : 152.833\n",
            "test mse : 152.401\n"
          ]
        }
      ]
    },
    {
      "cell_type": "markdown",
      "source": [],
      "metadata": {
        "id": "w1eE3AJXhbfM"
      }
    },
    {
      "cell_type": "markdown",
      "source": [
        "#앙상블\n",
        "- Begging: 모형을 여러가지 뽑고 평균해서 적절하게 값을 뽑아줌, 병렬구조를 가짐\n",
        "  (ex_random forest)\n",
        "- Boosting: 모형을 하나 뽑고 잘못한걸 학습해서 다음 모델로 넘긴다. weight를 계속해서 새롭게 부여함. 순차적인 직렬구조를 가짐, 맨 마지막에 좋은 모형이 나옴, 오차에 대한 학습이 잘 안되면 개선에 대한 한계가 있다. \n",
        "  (ex_ Gradiant Boost)\n",
        "- 앙상블모형 주의점: '과적합'\n",
        "- Boosting에 비해서는 Begging이 과적합 방지에는 더 나음, 하지만 둘 다 과적합 위험성 높음"
      ],
      "metadata": {
        "id": "54d2SiiNhkNk"
      }
    },
    {
      "cell_type": "markdown",
      "source": [
        "###1) 분류예측"
      ],
      "metadata": {
        "id": "GzbrhhaqoFag"
      }
    },
    {
      "cell_type": "code",
      "source": [
        "#분류예측\n",
        "\n",
        "#1. 변수선택\n",
        "X = df[df.이탈여부 == 0][[\"총매출액\", \"구매금액대\", \"1회 평균매출액\", \"평균 구매주기\", \"거래기간\"]]\n",
        "Y = df[df.이탈여부 == 0][\"할인민감여부\"]\n",
        "\n",
        "#2. train-test split\n",
        "X_train, X_test, Y_train, Y_test = train_test_split(X, Y, test_size = 0.3, random_state = 0)\n",
        "\n",
        "#3. 데이터 전처리(preprocessing)\n",
        "ct = ColumnTransformer([(\"scaling\", StandardScaler(), [\"총매출액\", \"1회 평균매출액\", \"평균 구매주기\", \"거래기간\"]), \n",
        "                        (\"onehot\", OneHotEncoder(sparse = False), [\"구매금액대\"])])\n",
        "ct.fit(X_train)\n",
        "X_train = ct.transform(X_train)\n",
        "X_test = ct.transform(X_test)\n",
        "\n",
        "#4. 오버샘플링\n",
        "smote = SMOTE(random_state = 0)\n",
        "X_train, Y_train = smote.fit_resample(X_train, Y_train)\n"
      ],
      "metadata": {
        "id": "Uv81_0oEgxaX"
      },
      "execution_count": 24,
      "outputs": []
    },
    {
      "cell_type": "code",
      "source": [
        "#5. 단일모형 생성\n",
        "from sklearn.ensemble import VotingClassifier\n",
        "from sklearn.tree import DecisionTreeClassifier\n",
        "from sklearn.neighbors import KNeighborsClassifier\n",
        "\n",
        "dtree = DecisionTreeClassifier(random_state = 0)\n",
        "knn = KNeighborsClassifier()\n",
        "\n",
        "#6. 앙상블 모형 생성\n",
        "#보팅(voting): 여러가지 분류기를 만들어 놓고 그중에 가장 좋은 모형의 알고리즘을 가지고와서 분석하는 것\n",
        "#knn과 Decisiontree모델 두가지를 넣었음\n",
        "#'soft' voting: 어떤 모형에 너무 치우치지 않고 알고리즘 중에 가장 적절한것을 가지고 와서 과적합적인 부분들을 해결할 수 있게..\n",
        "#soft보팅이 hard보팅보다 성능이 더 좋음\n",
        "model = VotingClassifier(estimators = [(\"K-NN\", knn), (\"Dtree\", dtree)], voting = \"soft\")\n",
        "\n",
        "#7. 모형학습\n",
        "model.fit(X_train, Y_train)\n",
        "\n",
        "#8. 예측 및 모형 성능평가\n",
        "Y_pred = model.predict(X_test)\n",
        "print(\"Y predict value : \\n\", Y_pred)\n",
        "\n",
        "#8-1. 보팅모형 정확도\n",
        "print(\"voting classifier accuracy : {:0.3f}\".format(model.score(X_test, Y_test)))\n",
        "\n",
        "#8-2. 개별모형 정확도\n",
        "classifiers = [dtree, knn]\n",
        "for classifier in classifiers:\n",
        "    classifier.fit(X_train, Y_train)\n",
        "    class_name = classifier.__class__.__name__\n",
        "    print(\"{0} accuracy : {1:.3f}\".format(class_name, classifier.score(X_test, Y_test)))\n",
        "\n",
        "#여기서는 voing모형 정확도가 가장 높음! (항상 그런것은 x)\n",
        "#'가장 좋은것' 이라는 '기준'이 없기 때문에 항상 비교해야함 ->  가장 적절한 모형을 찾아는 것이 분석가가 해야할 일"
      ],
      "metadata": {
        "id": "LtMD5FfFhxlA",
        "colab": {
          "base_uri": "https://localhost:8080/"
        },
        "outputId": "de9e0ff1-4a26-4f36-f2dc-7704636bf048"
      },
      "execution_count": 25,
      "outputs": [
        {
          "output_type": "stream",
          "name": "stdout",
          "text": [
            "Y predict value : \n",
            " [1 0 0 1 0 1 0 1 0 0 1 1 1 0 0 0 1 1 1 0 1 0 0 1 0 1 1 1 1 0 1 0 0 1 1 0 1\n",
            " 1 0 0 0 0 1 0 0 1 0 1 1 1 1 1 1 1 1 0 1 0 0 0 1 1 0 1 0 1 1 1 0 1 0 0 0 0\n",
            " 1 0 1 1 0 0 1 1 1 1 1 0 0 0 0 1 0 1 0 1 0 0 1 1 1 0 0 0 0 0 0 1 1 0 1 1 1\n",
            " 0 0 0 1 1 0 1 1 1 0 1 0 1 1 0 0 1 0 1 1 0 1 0 1 0 0 0 0 0 0 1 0 1 1 1 0 1\n",
            " 1 0 1 1 0 1 1 0 1 1 0 1 1 1 0 0 1 0 1 0 0 1 1 1 1 1 1 0 1 0 1 0 1 0 1 0 0\n",
            " 1 0 0 0 1 1 1 0 1 0 0 0 1 0 1 1 1 1 0 1 0 0 0 1 0]\n",
            "voting classifier accuracy : 0.924\n",
            "DecisionTreeClassifier accuracy : 0.914\n",
            "KNeighborsClassifier accuracy : 0.819\n"
          ]
        }
      ]
    },
    {
      "cell_type": "markdown",
      "source": [
        "###2)회귀예측"
      ],
      "metadata": {
        "id": "kVi4z_7RoD7_"
      }
    },
    {
      "cell_type": "code",
      "source": [
        "import numpy as np\n",
        "\n",
        "#1. 변수선택\n",
        "X = df[df.이탈여부 == 0][[\"방문빈도\", \"총 할인 금액\", \"고객등급\", \"구매유형\", \"거래기간\", \"할인민감여부\", \"평균 구매주기\"]]\n",
        "Y = np.log1p(df[df.이탈여부 == 0][\"1회 평균매출액\"])\n",
        "\n",
        "#2. train-test split\n",
        "X_train, X_test, Y_train, Y_test = train_test_split(X, Y, test_size = 0.3, random_state = 0)\n",
        "\n",
        "#3. 데이터 전처리(preprocessing)\n",
        "ct = ColumnTransformer([(\"scaling\", StandardScaler(), [\"방문빈도\", \"총 할인 금액\", \"거래기간\", \"평균 구매주기\"]), \n",
        "                        (\"onehot\", OneHotEncoder(sparse = False), [\"고객등급\", \"구매유형\", \"할인민감여부\"])])\n",
        "ct.fit(X_train)\n",
        "X_train = ct.transform(X_train)\n",
        "X_test = ct.transform(X_test)"
      ],
      "metadata": {
        "id": "jb-V_YEioDRy"
      },
      "execution_count": 26,
      "outputs": []
    },
    {
      "cell_type": "code",
      "source": [
        "#4. 단일 모형 생성\n",
        "from sklearn.ensemble import VotingRegressor\n",
        "from sklearn.neural_network import MLPRegressor\n",
        "from sklearn.svm import SVR\n",
        "\n",
        "svr = SVR()\n",
        "mlp = MLPRegressor(random_state=0)\n",
        "\n",
        "#5. voting model 생성\n",
        "model = VotingRegressor(estimators = [(\"SVR\", svr), (\"MLP\", mlp)])\n",
        "\n",
        "#6. 모형학습\n",
        "model.fit(X_train, Y_train)\n",
        "\n",
        "#7. 예측 및 평가\n",
        "Y_pred = model.predict(X_test)\n",
        "print(\"Y predict value: \\n\", Y_pred)\n",
        "\n",
        "#8-1. 예측 보팅모형 정확도\n",
        "print(\"voting regressor accuracy(R2): {0:.3f}\".format(model.score(X_test, Y_test)))\n",
        "\n",
        "#8-2. 개별모형 정확도\n",
        "Regressors = [svr, mlp]\n",
        "for Regressor in Regressors:\n",
        "    Regressor.fit(X_train,Y_train)\n",
        "    class_name = Regressor.__class__.__name__\n",
        "    print(\"{0} accuracy : {1:.3f}\".format(class_name, Regressor.score(X_test, Y_test)))"
      ],
      "metadata": {
        "id": "pTvAb1pboWk3",
        "colab": {
          "base_uri": "https://localhost:8080/"
        },
        "outputId": "493c61a5-235a-4789-c60c-9b8a3e0b160b"
      },
      "execution_count": 27,
      "outputs": [
        {
          "output_type": "stream",
          "name": "stdout",
          "text": [
            "Y predict value: \n",
            " [12.72637282 12.15785517 12.09686124 13.26831502 11.60231958 12.47233857\n",
            " 11.00403584 12.11236139 11.92418038 12.36295705 12.33471768 11.93634366\n",
            " 12.10248328 12.17485959 12.54047237 12.21174042 12.79796392 12.85868158\n",
            " 12.14723369 12.51820132 12.73655925 11.51053651 12.16572772 12.61967869\n",
            " 10.97450508 13.11252037 12.5792913  12.13627155 12.04792775 11.98604929\n",
            " 12.79524713 12.95793432 12.51574594 13.14826771 12.21608558 11.91077705\n",
            " 11.84798695 12.99567742 11.95362493 13.66455063 12.85068225 12.1427706\n",
            " 12.49680643 12.12413092 12.41795186 12.43119996 11.29956398 12.14660018\n",
            " 12.69704459 12.43998557 12.01109351 13.29011823 11.1046136  12.92296162\n",
            " 12.8522466  12.08692287 12.46809297 12.34155171 12.26251834 12.06954504\n",
            " 12.87142564 12.96736873 11.66603809 12.35227513 12.06159606 12.155967\n",
            " 12.10647664 11.48482286 12.69218789 11.79509489 12.20279207 11.67227129\n",
            " 11.93748831 11.75242257 12.08799173 12.79011812 12.43771399 12.93671652\n",
            " 12.21409548 12.39436336 12.71746922 11.95532413 11.82312984 12.16287274\n",
            " 12.28686047 12.69164266 12.44251859 12.77121709 11.83604445 12.83491032\n",
            " 12.14491251 13.21743021 12.50243799 13.06892645 11.92415719 13.03858984\n",
            " 12.88053564 12.160099   12.91472933 11.63221781 11.94370304 12.44004892\n",
            " 12.87464916 11.8729167  12.3654078  12.55856624 12.84071252 11.71225848\n",
            " 12.26380165 12.45982361 12.02043293 11.9421507  12.73253879 13.02635162\n",
            " 12.04973161 12.33438799 12.41827333 12.86241083 12.40875392 12.5968783\n",
            " 12.81779588 12.8274637  12.19010157 12.59904112 12.84774747 12.18532332\n",
            " 12.22778031 11.8054232  13.12475682 11.95865789 11.81489928 11.55897355\n",
            " 13.07522943 12.28451019 11.8789114  12.15561689 11.51884822 12.18398225\n",
            " 12.69227703 11.85075753 12.26168017 12.16159193 12.65547847 11.98416886\n",
            " 12.1825295  12.53395352 12.63117748 12.89234566 12.03663241 12.06490339\n",
            " 12.17004133 12.65506435 12.64528232 12.859696   13.98345371 11.56676754\n",
            " 12.14814582 12.76169623 12.08281248 12.78057339 12.92206256 12.64509877\n",
            " 12.47824953 11.8252805  12.39300142 12.55519649 12.769953   11.36679481\n",
            " 12.96480349 12.50216886 11.50980876 11.95884547 11.44958371 13.16010026\n",
            " 12.05559067 12.71797611 13.99850887 11.871165   12.31221069 11.61007956\n",
            " 13.80229617 14.53772869 12.52183126 12.69249083 12.21280298 11.72885039\n",
            " 12.22192476 12.20813083 11.39735772 12.84417613 12.23391116 12.77976915\n",
            " 13.54789146 11.70010427 12.13965267 12.01776146 12.34314015 12.29642101\n",
            " 12.7601278  11.25118371 13.264752   11.77360757 12.25216632 11.80519914\n",
            " 12.70641052 11.83457641 12.32938499 12.20461754 12.97324333 12.52229619]\n",
            "voting regressor accuracy(R2): 0.538\n",
            "SVR accuracy : 0.608\n",
            "MLPRegressor accuracy : 0.225\n"
          ]
        }
      ]
    },
    {
      "cell_type": "markdown",
      "source": [
        "#Random Forest"
      ],
      "metadata": {
        "id": "HpKi3vNT2DTQ"
      }
    },
    {
      "cell_type": "markdown",
      "source": [
        "###1)분류예측"
      ],
      "metadata": {
        "id": "nF7CnVBo2LNN"
      }
    },
    {
      "cell_type": "code",
      "source": [
        "#1. 분류선택\n",
        "X = df[[\"총매출액\", \"구매금액대\", \"1회 평균매출액\", \"평균 구매주기\", \"거래기간\"]]\n",
        "Y = df[\"할인민감여부\"]\n",
        "\n",
        "#2. train-test split\n",
        "X_train, X_test, Y_train, Y_test = train_test_split(X, Y, test_size=0.3, random_state=0)\n",
        "\n",
        "#3. 데이터 전처리(preprocessing)\n",
        "ct = ColumnTransformer([(\"scaling\", StandardScaler(), [\"총매출액\", \"1회 평균매출액\", \"평균 구매주기\", \"거래기간\"]), \n",
        "                        (\"onehot\", OneHotEncoder(sparse=False), [\"구매금액대\"])])\n",
        "ct.fit(X_train)\n",
        "X_train = ct.transform(X_train)\n",
        "X_test = ct.transform(X_test)\n",
        "\n",
        "#4. 오버샘플링\n",
        "smote = SMOTE(random_state = 0)\n",
        "X_train, Y_train = smote.fit_resample(X_train, Y_train)\n"
      ],
      "metadata": {
        "id": "bEQy3XRW2MmX"
      },
      "execution_count": 28,
      "outputs": []
    },
    {
      "cell_type": "code",
      "source": [
        "#5. 모형생성\n",
        "from sklearn.ensemble import RandomForestClassifier\n",
        "model = RandomForestClassifier(random_state=0, n_estimators=300, max_depth=3) #max_depth=3인 decision tree모형을 300개 만들\n",
        "model.fit(X_train, Y_train)\n",
        "Y_pred = model.predict(X_test)\n",
        "print(\"Y predict value : \\n\", Y_pred)\n",
        "print(\"accuracy(test) : {:.3f}\".format(model.score(X_test, Y_test)))\n",
        "print(classification_report(Y_test, Y_pred))\n",
        "\n",
        "#랜덤포레스트는 과적합 될 확률이 굉장히 높음\n",
        "#파라미터를 조정해가면서 과적합 되지 않도록 해야함"
      ],
      "metadata": {
        "colab": {
          "base_uri": "https://localhost:8080/"
        },
        "id": "PbGGA43-3D0Q",
        "outputId": "3aef34a2-9e12-4f73-94fa-88113ffc26d4"
      },
      "execution_count": 29,
      "outputs": [
        {
          "output_type": "stream",
          "name": "stdout",
          "text": [
            "Y predict value : \n",
            " [1 1 0 0 1 1 0 0 0 1 0 0 1 0 1 0 1 0 0 0 0 0 0 0 0 1 0 0 0 0 1 1 1 1 0 1 1\n",
            " 0 1 0 0 1 1 1 0 0 1 0 0 0 1 0 0 0 1 1 0 0 1 1 0 1 1 0 0 0 1 0 0 0 1 0 0 0\n",
            " 1 0 0 0 0 1 0 0 0 1 1 1 0 0 0 0 1 0 0 0 0 1 1 0 0 0 1 1 0 1 0 1 1 0 1 1 0\n",
            " 1 0 0 0 0 0 0 0 0 1 0 0 1 0 1 0 0 1 1 0 0 1 1 1 1 0 1 0 1 0 0 0 0 0 1 0 0\n",
            " 1 1 0 0 0 0 0 1 0 0 0 0 1 1 0 0 1 0 0 1 0 0 0 1 0 1 0 0 0 0 1 0 0 0 0 0 1\n",
            " 0 0 1 1 1 0 1 0 1 1 1 1 0 1 0 0 0 0 1 1 0 1 0 0 1 0 0 0 0 0 1 0 0 0 1 1 1\n",
            " 1 0 0 1 1 0 0 1 0 0 0 0 0 0 0 0 0 0 0 0 0 0 1 0 1 0 1 1 0 1 0 0 0 1 1 0 0\n",
            " 0 1 1 0 0 0 0 0 0 1 0 1 0 0 0 1 1 0 0 0 0 1 1 0 1 0 0 1 0 0 0 1 0 1 1 0 0\n",
            " 0 0 0 0]\n",
            "accuracy(test) : 0.947\n",
            "              precision    recall  f1-score   support\n",
            "\n",
            "           0       0.92      0.99      0.96       177\n",
            "           1       0.99      0.88      0.93       123\n",
            "\n",
            "    accuracy                           0.95       300\n",
            "   macro avg       0.96      0.94      0.94       300\n",
            "weighted avg       0.95      0.95      0.95       300\n",
            "\n"
          ]
        }
      ]
    },
    {
      "cell_type": "markdown",
      "source": [
        "###2)회귀예측"
      ],
      "metadata": {
        "id": "N-NKzr_r6KDP"
      }
    },
    {
      "cell_type": "code",
      "source": [
        "import numpy as np\n",
        "\n",
        "#1. 변수선택\n",
        "X = df[df.이탈여부 == 0][[\"방문빈도\", \"총 할인 금액\", \"고객등급\", \"구매유형\", \"거래기간\", \"할인민감여부\", \"평균 구매주기\"]]\n",
        "Y = np.log1p(df[df.이탈여부 == 0][\"1회 평균매출액\"])\n",
        "\n",
        "#2. train-test split\n",
        "X_train, X_test, Y_train, Y_test = train_test_split(X, Y, test_size = 0.3, random_state = 0)\n",
        "\n",
        "#3. 데이터 전처리(preprocessing)\n",
        "ct = ColumnTransformer([(\"scaling\", StandardScaler(), [\"방문빈도\", \"총 할인 금액\", \"거래기간\", \"평균 구매주기\"]), \n",
        "                        (\"onehot\", OneHotEncoder(sparse = False), [\"고객등급\", \"구매유형\", \"할인민감여부\"])])\n",
        "ct.fit(X_train)\n",
        "X_train = ct.transform(X_train)\n",
        "X_test = ct.transform(X_test)"
      ],
      "metadata": {
        "id": "-XKnu-WS42Pn"
      },
      "execution_count": 30,
      "outputs": []
    },
    {
      "cell_type": "code",
      "source": [
        "#4. 모형생성\n",
        "from sklearn.ensemble import RandomForestRegressor\n",
        "model = RandomForestRegressor(random_state = 0, n_estimators = 100, max_depth = 4)\n",
        "\n",
        "#5. 모형 예측 평가\n",
        "model.fit(X_train, Y_train)\n",
        "Y_pred = model.predict(X_test)\n",
        "print(\"Y predict value : \\n\", Y_pred)\n",
        "print(\"accuracy(R2) : {:.3f}\".format(model.score(X_train, Y_train)))\n",
        "rmse = sqrt(mean_squared_error(Y_test, Y_pred))\n",
        "print(\"RMSE: \", rmse)"
      ],
      "metadata": {
        "colab": {
          "base_uri": "https://localhost:8080/"
        },
        "id": "MjbpJhaZ6eDe",
        "outputId": "784e8f6b-d68c-43fb-cc86-54b5656d4372"
      },
      "execution_count": 31,
      "outputs": [
        {
          "output_type": "stream",
          "name": "stdout",
          "text": [
            "Y predict value : \n",
            " [12.68641835 12.12514749 12.04819279 13.04580899 11.50906768 12.45183582\n",
            " 11.28296585 12.28747852 11.86494273 12.35358139 12.3872265  12.00638164\n",
            " 12.3207311  12.16711163 12.72553    12.43847827 12.70631401 12.74484282\n",
            " 11.93548044 12.48363036 12.70833215 11.50205816 12.3872265  12.61313248\n",
            " 11.14155529 12.85315034 12.69646319 12.2799654  12.29330952 12.07066037\n",
            " 12.7318708  13.03072124 12.44587063 12.83922589 11.99165355 11.93548044\n",
            " 12.07982016 12.87533113 11.92291372 13.17748045 12.77463562 12.29742037\n",
            " 12.44945001 12.27423314 12.44938301 12.68738612 11.48744293 12.09294686\n",
            " 12.70377324 12.45477652 11.86470087 13.59076876 11.23433862 12.13775744\n",
            " 12.70918345 12.34530688 12.67303461 12.40944139 12.28433595 12.36128948\n",
            " 12.7008786  12.57507179 12.11883138 12.44859275 12.29201016 11.82194505\n",
            " 11.91682041 11.55244151 13.0432612  12.01568152 12.38104273 11.77753274\n",
            " 11.91986181 11.77914657 12.32409993 13.20140162 12.67190941 12.99665869\n",
            " 12.1142171  12.38934131 12.44830013 11.85130823 11.63845966 12.33872321\n",
            " 12.41834094 12.57562684 12.61389742 12.58307333 11.98606666 12.7886006\n",
            " 12.44566667 12.83665563 12.52416462 12.69435424 11.85208542 13.20045678\n",
            " 12.68795836 12.34363598 12.83841044 11.86530694 12.13015281 12.47789415\n",
            " 12.79648274 11.58776112 12.34530688 12.70377324 12.7097129  11.80903595\n",
            " 12.12525283 12.39158405 11.93548044 11.91159991 12.77463562 13.27749607\n",
            " 11.90835048 12.42838125 12.4305021  12.70624967 12.42756799 12.60222681\n",
            " 12.7850141  12.74315455 12.29201016 12.44690659 12.72900137 12.33987241\n",
            " 12.29201016 11.74004955 12.66120426 11.88234549 12.22518022 11.74656619\n",
            " 13.02276793 12.48023447 11.57260802 12.19860152 12.02914855 12.12514749\n",
            " 12.52801336 11.86793119 12.37613994 11.98621908 12.60851449 11.84205569\n",
            " 12.4060907  12.65887349 12.70377324 12.86955945 12.21481438 11.93548044\n",
            " 12.39298755 12.53980087 12.52820949 12.83841044 13.44146005 11.50551893\n",
            " 11.81406502 12.74141873 12.1725461  12.63026111 12.85363402 12.71936027\n",
            " 12.70647021 12.1650898  12.42838125 12.31549503 12.72481107 11.13958157\n",
            " 12.80091372 12.42756799 11.21161901 11.91682041 11.54392968 13.4351773\n",
            " 12.29568184 12.58070977 13.67490384 12.12989976 12.26369028 12.02914855\n",
            " 13.51434894 13.30409298 12.69254338 12.73037531 12.11962384 11.82067314\n",
            " 12.34530688 12.37070547 11.11113674 12.74282441 12.37070547 12.70631401\n",
            " 13.33101271 12.2427362  11.93548044 11.89984166 12.48023447 12.2562059\n",
            " 12.96477971 11.25663245 13.06663845 12.26264044 12.1425065  11.55146603\n",
            " 12.68254816 12.13891591 12.34626734 12.4740507  12.75025303 12.48363036]\n",
            "accuracy(R2) : 0.685\n",
            "RMSE:  0.4403006561339874\n"
          ]
        }
      ]
    },
    {
      "cell_type": "markdown",
      "source": [
        "#그래디언트 부스트(Gradient Boost)"
      ],
      "metadata": {
        "id": "wDgpjhx0ApEr"
      }
    },
    {
      "cell_type": "markdown",
      "source": [
        "###1) 분류예측"
      ],
      "metadata": {
        "id": "TaAZgGMHA0f8"
      }
    },
    {
      "cell_type": "code",
      "source": [
        "#1. 분류선택\n",
        "X = df[[\"총매출액\", \"구매금액대\", \"1회 평균매출액\", \"평균 구매주기\", \"거래기간\"]]\n",
        "Y = df[\"할인민감여부\"]\n",
        "\n",
        "#2. train-test split\n",
        "X_train, X_test, Y_train, Y_test = train_test_split(X, Y, test_size=0.3, random_state=0)\n",
        "\n",
        "#3. 데이터 전처리(preprocessing)\n",
        "ct = ColumnTransformer([(\"scaling\", StandardScaler(), [\"총매출액\", \"1회 평균매출액\", \"평균 구매주기\", \"거래기간\"]), \n",
        "                        (\"onehot\", OneHotEncoder(sparse=False), [\"구매금액대\"])])\n",
        "ct.fit(X_train)\n",
        "X_train = ct.transform(X_train)\n",
        "X_test = ct.transform(X_test)\n",
        "\n",
        "#4. 오버샘플링\n",
        "smote = SMOTE(random_state = 0)\n",
        "X_train, Y_train = smote.fit_resample(X_train, Y_train)"
      ],
      "metadata": {
        "id": "CuE_IbOAAolH"
      },
      "execution_count": 32,
      "outputs": []
    },
    {
      "cell_type": "code",
      "source": [
        "#5. 모형생성\n",
        "from sklearn.ensemble import GradientBoostingClassifier\n",
        "model = GradientBoostingClassifier(random_state = 0, n_estimators = 100, max_depth = 4, \n",
        "                                   learning_rate = 0.1) \n",
        "#learning_rate: 전 모형으로 부터 나온 오차를 다음 모델로 넘어갈때 얼마나 배울것인가\n",
        "\n",
        "#6. 모형 학습 예측\n",
        "model.fit(X_train, Y_train)\n",
        "Y_pred = model.predict(X_test)\n",
        "print(\"Y predict value : \\n\", Y_pred)\n",
        "print(\"accuracy(test) : {:.3f}\".format(model.score(X_test, Y_test)))\n",
        "print(classification_report(Y_test, Y_pred))"
      ],
      "metadata": {
        "colab": {
          "base_uri": "https://localhost:8080/"
        },
        "id": "-REGNWL1A8OJ",
        "outputId": "da2da232-e2d8-4c0a-fafe-cf21c5adf612"
      },
      "execution_count": 33,
      "outputs": [
        {
          "output_type": "stream",
          "name": "stdout",
          "text": [
            "Y predict value : \n",
            " [1 1 0 0 1 1 0 0 0 1 0 0 1 0 1 0 1 0 0 0 0 0 0 0 0 1 0 0 0 0 1 1 1 1 0 1 1\n",
            " 0 1 0 0 1 1 1 0 0 1 0 0 0 1 0 0 0 1 1 0 0 1 1 0 1 1 0 0 0 1 0 0 0 1 0 0 0\n",
            " 1 0 0 0 0 1 0 0 0 1 1 1 0 0 0 0 1 0 0 0 0 1 1 0 0 0 1 1 0 1 0 1 1 0 1 1 0\n",
            " 1 0 0 0 0 0 0 0 0 1 0 0 1 0 1 0 0 1 1 0 0 1 1 1 1 0 1 0 1 0 0 0 0 0 1 0 0\n",
            " 1 1 0 1 0 0 0 1 0 0 0 0 1 1 0 0 1 0 0 1 0 0 0 1 1 1 0 0 0 0 1 0 0 0 0 0 1\n",
            " 0 0 1 1 1 0 1 0 1 1 1 1 0 1 0 0 0 0 1 1 0 1 0 0 1 0 0 1 0 0 1 0 0 0 1 1 1\n",
            " 1 0 0 1 1 0 0 1 0 0 0 0 0 0 0 0 0 0 0 0 0 0 1 0 1 0 1 1 0 1 0 0 0 1 1 0 1\n",
            " 1 1 1 0 0 0 0 0 0 1 0 1 0 0 0 1 1 0 0 0 0 1 1 0 1 0 0 1 0 0 0 1 1 1 1 0 0\n",
            " 0 0 0 0]\n",
            "accuracy(test) : 0.933\n",
            "              precision    recall  f1-score   support\n",
            "\n",
            "           0       0.92      0.97      0.94       177\n",
            "           1       0.95      0.89      0.92       123\n",
            "\n",
            "    accuracy                           0.93       300\n",
            "   macro avg       0.94      0.93      0.93       300\n",
            "weighted avg       0.93      0.93      0.93       300\n",
            "\n"
          ]
        }
      ]
    },
    {
      "cell_type": "markdown",
      "source": [
        "###2)회귀예측"
      ],
      "metadata": {
        "id": "77U__TXnCC3R"
      }
    },
    {
      "cell_type": "code",
      "source": [
        "#1. 변수선택\n",
        "X = df[df.이탈여부 == 0][[\"방문빈도\", \"총 할인 금액\", \"고객등급\", \"구매유형\", \"거래기간\", \"할인민감여부\", \"평균 구매주기\"]]\n",
        "Y = np.log1p(df[df.이탈여부 == 0][\"1회 평균매출액\"])\n",
        "\n",
        "#2. train-test split\n",
        "X_train, X_test, Y_train, Y_test = train_test_split(X, Y, test_size = 0.3, random_state = 0)\n",
        "\n",
        "#3. 데이터 전처리(preprocessing)\n",
        "ct = ColumnTransformer([(\"scaling\", StandardScaler(), [\"방문빈도\", \"총 할인 금액\", \"거래기간\", \"평균 구매주기\"]), \n",
        "                        (\"onehot\", OneHotEncoder(sparse = False), [\"고객등급\", \"구매유형\", \"할인민감여부\"])])\n",
        "ct.fit(X_train)\n",
        "X_train = ct.transform(X_train)\n",
        "X_test = ct.transform(X_test)"
      ],
      "metadata": {
        "id": "Y_19Qc50CCcJ"
      },
      "execution_count": 34,
      "outputs": []
    },
    {
      "cell_type": "code",
      "source": [
        "#4. 모형생성\n",
        "from sklearn.ensemble import GradientBoostingRegressor\n",
        "model = GradientBoostingRegressor(random_state = 0, n_estimators = 100, max_depth = 4, \n",
        "                                   learning_rate = 0.1)\n",
        "\n",
        "#5. 모형 학습 예측\n",
        "model.fit(X_train, Y_train)\n",
        "Y_pred = model.predict(X_test)\n",
        "print(\"Y predict value : \\n\", Y_pred)\n",
        "print(\"accuracy(R2) : {:.3f}\".format(model.score(X_train, Y_train)))\n",
        "rmse = sqrt(mean_squared_error(Y_test, Y_pred))\n",
        "print(\"RMSE: \", rmse)"
      ],
      "metadata": {
        "colab": {
          "base_uri": "https://localhost:8080/"
        },
        "id": "yLhsjmHFCn1f",
        "outputId": "6b72e971-7987-4ad9-fb73-db9585673bae"
      },
      "execution_count": 35,
      "outputs": [
        {
          "output_type": "stream",
          "name": "stdout",
          "text": [
            "Y predict value : \n",
            " [12.62344813 12.25583406 12.09458751 13.07090617 11.40422303 12.45220348\n",
            " 11.61198904 12.45651119 12.08328814 12.32640447 12.39533751 12.23594472\n",
            " 12.13577357 12.24057416 12.73503493 12.29364736 12.84361351 12.99742565\n",
            " 11.76512764 12.45752565 12.63483127 11.38579233 12.41560355 12.50712961\n",
            " 10.79435548 12.62928969 12.60613938 11.92964399 12.34916462 12.07520652\n",
            " 12.57121312 13.01697524 12.39965923 13.03165827 12.11711146 12.09888134\n",
            " 12.18727902 12.94489209 11.93717047 13.18376863 12.76957258 12.21597158\n",
            " 12.54049819 12.10678757 12.64544285 12.59000213 11.18198188 12.13358256\n",
            " 12.5668075  12.42634623 11.81913361 13.52008205 11.10458182 12.09979475\n",
            " 13.07232151 12.20069308 12.66489797 12.28476526 11.98447614 12.31654311\n",
            " 12.79736561 12.76535462 11.92863698 12.44145179 12.12157567 12.10310068\n",
            " 11.87519738 11.62364672 12.99672955 12.27936785 12.36258046 11.70831635\n",
            " 11.91861812 11.96233767 12.15305515 13.12437922 12.65319979 12.93053239\n",
            " 12.03260309 12.25751434 12.0000299  11.89763423 11.5329378  12.93737778\n",
            " 12.40440044 12.64050116 12.73633832 12.62223461 11.7388871  12.5605956\n",
            " 12.46170754 13.27233418 12.49065444 12.99839492 11.98770272 13.31580316\n",
            " 13.01839043 12.06375631 12.80479374 11.98398262 11.65401981 12.2787555\n",
            " 12.73424086 11.43216014 12.24460123 12.8969792  12.85568613 11.95915872\n",
            " 12.04694305 12.60039447 12.01332333 11.79424302 12.69414998 13.32348351\n",
            " 11.70900777 12.09118735 12.18245925 12.88276381 12.17369179 12.50951424\n",
            " 12.72249627 12.60660354 12.17592955 12.74111678 12.65434081 12.24543644\n",
            " 12.44711341 11.5965925  12.66089249 11.8160437  12.76149045 11.7436314\n",
            " 13.03109978 12.47939971 11.51054282 12.14448715 11.47094125 12.11272934\n",
            " 12.91853515 11.72347747 12.41600997 12.02868338 12.60354515 11.74879952\n",
            " 12.5937395  12.63427503 12.89215104 12.73329149 12.58830131 11.85372773\n",
            " 12.44993728 12.89737544 12.4613579  12.89249471 13.5522812  11.48000074\n",
            " 11.50736548 12.67931101 12.15982715 12.60083252 13.03940439 12.73213993\n",
            " 12.75970949 11.94740293 12.66238056 12.38212172 12.7089022  11.21000233\n",
            " 12.72847666 12.15336244 11.21970406 11.8446597  11.87301358 13.47804771\n",
            " 12.35228515 12.60249735 13.83729506 11.86136594 12.63613548 11.25707904\n",
            " 13.54480221 13.48288458 12.66406609 12.72222242 12.05683865 11.94755448\n",
            " 12.37945452 12.37595316 10.65869553 13.10374396 12.37640418 12.58991922\n",
            " 13.19704136 12.59201926 11.85361937 12.02339775 12.40938986 11.80883328\n",
            " 13.01162095 11.53925824 13.19678706 12.58870571 12.0776148  11.41688057\n",
            " 12.70617545 11.84467509 12.43060262 12.42450198 12.92575457 12.54130517]\n",
            "accuracy(R2) : 0.916\n",
            "RMSE:  0.41380793566137386\n"
          ]
        }
      ]
    }
  ]
}