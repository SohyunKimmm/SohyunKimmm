{
  "nbformat": 4,
  "nbformat_minor": 0,
  "metadata": {
    "colab": {
      "provenance": [],
      "include_colab_link": true
    },
    "kernelspec": {
      "name": "python3",
      "display_name": "Python 3"
    },
    "language_info": {
      "name": "python"
    }
  },
  "cells": [
    {
      "cell_type": "markdown",
      "metadata": {
        "id": "view-in-github",
        "colab_type": "text"
      },
      "source": [
        "<a href=\"https://colab.research.google.com/github/SohyunKimmm/SohyunKimmm/blob/main/221230_%EA%B9%83%ED%97%99_%EC%BD%94%EB%93%9C%EC%97%B0%EC%8A%B5.ipynb\" target=\"_parent\"><img src=\"https://colab.research.google.com/assets/colab-badge.svg\" alt=\"Open In Colab\"/></a>"
      ]
    },
    {
      "cell_type": "code",
      "source": [
        "power = 5                    #power값 5에서 시작\n",
        "\n",
        "while power > 0:             #power이 0이 되지 않을때까지 반복. 0이되면 while문 실행x\n",
        "    print(\"You are still playing because your power is %d.\" % power)\n",
        "    power = power - 1        #power=5-1 -> power=4-1 -> power=3-1 -> power=2-1 -> power=1-1\n",
        "\n",
        "else:                        #power가 0이되면 아래 문구 프린트\n",
        "    print(\"\\nOh no, your power dropped to 0! Game Over.\")"
      ],
      "metadata": {
        "colab": {
          "base_uri": "https://localhost:8080/"
        },
        "id": "dDErFGGXvp95",
        "outputId": "11678474-432e-4efa-cca7-975753b9d259"
      },
      "execution_count": null,
      "outputs": [
        {
          "output_type": "stream",
          "name": "stdout",
          "text": [
            "You are still playing because your power is 5.\n",
            "You are still playing because your power is 4.\n",
            "You are still playing because your power is 3.\n",
            "You are still playing because your power is 2.\n",
            "You are still playing because your power is 1.\n",
            "\n",
            "Oh no, your power dropped to 0! Game Over.\n"
          ]
        }
      ]
    },
    {
      "cell_type": "code",
      "source": [
        "names = ['guido', 'tim', 'jesse']\n",
        "\n",
        "new_name = input(\"Please tell me someone I should know: \")   #input함수- 사용자가 단어 직접입력\n",
        "\n",
        "names.append(new_name)      #append함수- 사용자가 입력한 단어(new_name) names 리스트에 삽입\n",
        "\n",
        "print(names)"
      ],
      "metadata": {
        "colab": {
          "base_uri": "https://localhost:8080/"
        },
        "id": "eyfe0pkBx3X_",
        "outputId": "74a60576-aaff-40a5-e943-8c0a5f34b57b"
      },
      "execution_count": null,
      "outputs": [
        {
          "output_type": "stream",
          "name": "stdout",
          "text": [
            "Please tell me someone I should know: Sohyun\n",
            "['guido', 'tim', 'jesse', 'Sohyun']\n"
          ]
        }
      ]
    },
    {
      "cell_type": "code",
      "source": [
        "names = []\n",
        "\n",
        "new_name = ''\n",
        "\n",
        "while new_name != 'quit':    \n",
        "    new_name = input(\"Please tell me someone I should know or enter 'quit': \")  #quit입력하면 new_name = 'quit'이기 때문에 그 다음 while문 종료\n",
        "    names.append(new_name)\n",
        "\n",
        "print(names)"
      ],
      "metadata": {
        "colab": {
          "base_uri": "https://localhost:8080/"
        },
        "id": "2aKHKq9iyEJX",
        "outputId": "4a8437e7-8067-4855-e6aa-04dcf1d16e1b"
      },
      "execution_count": null,
      "outputs": [
        {
          "output_type": "stream",
          "name": "stdout",
          "text": [
            "Please tell me someone I should know or enter 'quit': sohyun\n",
            "Please tell me someone I should know or enter 'quit': quit\n",
            "['sohyun', 'quit']\n"
          ]
        }
      ]
    },
    {
      "cell_type": "code",
      "source": [
        "print(\"\\nWelcome to the nature center. What would you like to do?\")\n",
        "\n",
        "choice = ''\n",
        "\n",
        "while choice != 'q':  #q를 넣게되면 choice == 'q' 가 되므로 while문 종료됨\n",
        "    print(\"\\n[1] Enter 1 to take a bicycle ride.\")\n",
        "    print(\"[2] Enter 2 to go for a run.\")\n",
        "    print(\"[3] Enter 3 to climb a mountain.\")\n",
        "    print(\"[q] Enter q to quit.\")\n",
        "    \n",
        "    # Ask for the user's choice.\n",
        "    choice = input(\"\\nWhat would you like to do? \")   # '1,2,3,q' 중 사용자가 입력\n",
        "    \n",
        "    # Respond to the user's choice.\n",
        "    if choice == '1':\n",
        "        print(\"\\nHere's a bicycle. Have fun!\\n\")              #1이 입력되면 해당 문구 출력\n",
        "    elif choice == '2':\n",
        "        print(\"\\nHere are some running shoes. Run fast!\\n\")   #2가 입력되면 해당 문구 출력\n",
        "    elif choice == '3':\n",
        "        print(\"\\nHere's a map. Can you leave a trip plan for us?\\n\")  #3이 입력되면 해당 문구 출력\n",
        "    elif choice == 'q':\n",
        "        print(\"\\nThanks for playing. See you later.\\n\")    #q가 입력되면 해당 문구 출력\n",
        "    else:\n",
        "        print(\"\\nI don't understand that choice, please try again.\\n\")   #1,2,3,q 이외의 값이 입력되면 해당 문구 출력\n",
        "                                                          # q를 넣을때까지 while문 반복 (q넣으면 while문 종료)\n",
        "# Print a message that we are all finished.\n",
        "print(\"Thanks again, bye now.\")"
      ],
      "metadata": {
        "colab": {
          "base_uri": "https://localhost:8080/"
        },
        "id": "n13HAQrDysHq",
        "outputId": "476bf1a5-109e-4c18-e958-e8e1c7ff841a"
      },
      "execution_count": null,
      "outputs": [
        {
          "output_type": "stream",
          "name": "stdout",
          "text": [
            "\n",
            "Welcome to the nature center. What would you like to do?\n",
            "\n",
            "[1] Enter 1 to take a bicycle ride.\n",
            "[2] Enter 2 to go for a run.\n",
            "[3] Enter 3 to climb a mountain.\n",
            "[q] Enter q to quit.\n",
            "\n",
            "What would you like to do? 1\n",
            "\n",
            "Here's a bicycle. Have fun!\n",
            "\n",
            "\n",
            "[1] Enter 1 to take a bicycle ride.\n",
            "[2] Enter 2 to go for a run.\n",
            "[3] Enter 3 to climb a mountain.\n",
            "[q] Enter q to quit.\n",
            "\n",
            "What would you like to do? 3\n",
            "\n",
            "Here's a map. Can you leave a trip plan for us?\n",
            "\n",
            "\n",
            "[1] Enter 1 to take a bicycle ride.\n",
            "[2] Enter 2 to go for a run.\n",
            "[3] Enter 3 to climb a mountain.\n",
            "[q] Enter q to quit.\n",
            "\n",
            "What would you like to do? q\n",
            "\n",
            "Thanks for playing. See you later.\n",
            "\n",
            "Thanks again, bye now.\n"
          ]
        }
      ]
    },
    {
      "cell_type": "code",
      "source": [],
      "metadata": {
        "id": "35EJpTLHPIgs"
      },
      "execution_count": null,
      "outputs": []
    },
    {
      "cell_type": "code",
      "source": [
        "\n",
        "unconfirmed_users = ['ada', 'billy', 'clarence', 'daria']\n",
        "confirmed_users = []\n",
        "\n",
        "while len(unconfirmed_users) > 0:     #uncomfirmed_user 리스트의 길이(=갯수)가 0개 이상이라면 while문 반복실행, 0개 이하가 되면 종료\n",
        "    \n",
        "    #get the last user\n",
        "    current_user = unconfirmed_users.pop()    #.pop(): unconfirmed_user 리스트 안에 있는 요소들 중 하나 '무작위'로 current_user 안으로 들어감\n",
        "    print(\"Confirming user %s...confirmed!\" % current_user.title()).   # %s 안에 current_user 값이 들어감\n",
        "    \n",
        "    # add it to the list of confirmed\n",
        "    confirmed_users.append(current_user)  #.append(): confirmed_user 리스트 안으로 current_user값 추가됨\n",
        "    \n",
        "# processing proofs\n",
        "print(\"\\nUnconfirmed users:\")\n",
        "for user in unconfirmed_users:  #uncomfiRmed_users리스트 안의 값들을 하나씩 user라는 이름의 변수로 꺼냄\n",
        "    print('- ' + user.title())   # '- ' 와 '리스트 값' 문자열끼리 합쳐서 출력\n",
        "    \n",
        "print(\"\\nConfirmed users:\")\n",
        "for user in confirmed_users:    #comfirmed_users리스트 안의 값들을 하나씩 user라는 이름의 변수로 꺼냄\n",
        "    print('- ' + user.title())   "
      ],
      "metadata": {
        "id": "GbUU1kdb0IU_",
        "colab": {
          "base_uri": "https://localhost:8080/"
        },
        "outputId": "a422220d-be10-4760-e01b-9d9fc7e07250"
      },
      "execution_count": null,
      "outputs": [
        {
          "output_type": "stream",
          "name": "stdout",
          "text": [
            "Confirming user Daria...confirmed!\n",
            "Confirming user Clarence...confirmed!\n",
            "Confirming user Billy...confirmed!\n",
            "Confirming user Ada...confirmed!\n",
            "\n",
            "Unconfirmed users:\n",
            "\n",
            "Confirmed users:\n",
            "- Daria\n",
            "- Clarence\n",
            "- Billy\n",
            "- Ada\n"
          ]
        }
      ]
    },
    {
      "cell_type": "code",
      "source": [
        "\n",
        "unconfirmed_users = ['ada', 'billy', 'clarence', 'daria']\n",
        "confirmed_users = []\n",
        "\n",
        "while len(unconfirmed_users) > 0:\n",
        "    \n",
        "    #.pop(0): unconfirmed_user 리스트 안에 있는 요소들 '순서대로(0번부터)' current_user 안으로 들어감\n",
        "    current_user = unconfirmed_users.pop(0)\n",
        "    print(\"Confirming user %s...confirmed!\" % current_user.title())\n",
        "    \n",
        "    confirmed_users.append(current_user)\n",
        "    \n",
        "print(\"\\nUnconfirmed users:\")\n",
        "for user in unconfirmed_users:\n",
        "    print('- ' + user.title())\n",
        "    \n",
        "print(\"\\nConfirmed users:\")\n",
        "for user in confirmed_users:\n",
        "    print('- ' + user.title())"
      ],
      "metadata": {
        "id": "hxpXsQU50LVm",
        "colab": {
          "base_uri": "https://localhost:8080/"
        },
        "outputId": "fd6b544f-5a81-4c31-d80e-7a2e8327208b"
      },
      "execution_count": null,
      "outputs": [
        {
          "output_type": "stream",
          "name": "stdout",
          "text": [
            "Confirming user Ada...confirmed!\n",
            "Confirming user Billy...confirmed!\n",
            "Confirming user Clarence...confirmed!\n",
            "Confirming user Daria...confirmed!\n",
            "\n",
            "Unconfirmed users:\n",
            "\n",
            "Confirmed users:\n",
            "- Ada\n",
            "- Billy\n",
            "- Clarence\n",
            "- Daria\n"
          ]
        }
      ]
    },
    {
      "cell_type": "code",
      "source": [
        "x, y = 4, 23   #x=4, y=23\n",
        "x = y // 2     #x는 y/2의 몫\n",
        "while x > 1:   #x가 1이하가 되기 전까지 반복실행\n",
        "    if y % x == 0:     #y/x의 나머지가 0일때\n",
        "        print(y, 'has factor', x)\n",
        "        break     #while문 종료: 그 뒤의 else들 실행 안되고 끝남 (*y값에 20 대입해서 적용해보면 확인가능!)\n",
        "    else: \n",
        "        x -= 1\n",
        "else: \n",
        "    print(y, 'is prime')"
      ],
      "metadata": {
        "id": "-0gR7N6C0PyA",
        "colab": {
          "base_uri": "https://localhost:8080/"
        },
        "outputId": "e2e56266-c117-498c-8c48-7adc8bc89d05"
      },
      "execution_count": null,
      "outputs": [
        {
          "output_type": "stream",
          "name": "stdout",
          "text": [
            "23 is prime\n"
          ]
        }
      ]
    },
    {
      "cell_type": "code",
      "source": [],
      "metadata": {
        "id": "tLz5-PTSlBd5"
      },
      "execution_count": null,
      "outputs": []
    }
  ]
}