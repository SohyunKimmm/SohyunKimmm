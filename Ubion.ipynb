{
  "nbformat": 4,
  "nbformat_minor": 0,
  "metadata": {
    "colab": {
      "provenance": [],
      "collapsed_sections": [
        "LKgf_G78Kwmz",
        "qwSJut51wrJ_",
        "hM5AAkDqefM5",
        "HeX_R9Faek_s",
        "BdGDWYbjOo_e",
        "KTBmelBpda1J",
        "lUvO8E0aOrX2",
        "Bm9qU_6N1log",
        "4FNsoy4XnWXY",
        "xm9vGvQ8-ZNH",
        "Tj0RxVG1FnBm",
        "MRzwus7_ncUJ"
      ],
      "include_colab_link": true
    },
    "kernelspec": {
      "name": "python3",
      "display_name": "Python 3"
    },
    "language_info": {
      "name": "python"
    }
  },
  "cells": [
    {
      "cell_type": "markdown",
      "metadata": {
        "id": "view-in-github",
        "colab_type": "text"
      },
      "source": [
        "<a href=\"https://colab.research.google.com/github/SohyunKimmm/SohyunKimmm/blob/main/Ubion.ipynb\" target=\"_parent\"><img src=\"https://colab.research.google.com/assets/colab-badge.svg\" alt=\"Open In Colab\"/></a>"
      ]
    },
    {
      "cell_type": "code",
      "source": [
        "import numpy as np\n",
        "import pandas as pd\n",
        "import matplotlib.pyplot as plt\n",
        "import seaborn as sns\n",
        "import sklearn\n",
        "import tensorflow as tf\n",
        "import statsmodels.api as sm\n",
        "import datetime as dt"
      ],
      "metadata": {
        "id": "XXuY1EtUKqw1"
      },
      "execution_count": null,
      "outputs": []
    },
    {
      "cell_type": "code",
      "source": [
        "#신규회원마케팅 df\n",
        "df1 = pd.read_excel(\"/content/drive/MyDrive/데이터분석/유비온/와우패스 데이터/1신규회원마케팅.xlsx\")"
      ],
      "metadata": {
        "id": "L20lqSZZKuIZ"
      },
      "execution_count": null,
      "outputs": []
    },
    {
      "cell_type": "code",
      "source": [
        "#장바구니 데이터 \n",
        "df2_1 = pd.read_excel(\"/content/drive/MyDrive/데이터분석/유비온/와우패스 데이터/2-1 1번연계 장바구니.xlsx\")\n",
        "df2_2 = pd.read_excel(\"/content/drive/MyDrive/데이터분석/유비온/와우패스 데이터/2-2 2020-10-01 _ 2022-09-30 장바구니 데이터.xlsx\")"
      ],
      "metadata": {
        "id": "D7POdCa2MSYx"
      },
      "execution_count": null,
      "outputs": []
    },
    {
      "cell_type": "code",
      "source": [
        "#배너 클릭수\n",
        "df3 = pd.read_excel(\"/content/drive/MyDrive/데이터분석/유비온/와우패스 데이터/3 배너 위치별 클릭수.xlsx\")"
      ],
      "metadata": {
        "id": "d5axo6I5MSVA"
      },
      "execution_count": null,
      "outputs": []
    },
    {
      "cell_type": "code",
      "source": [
        "#로그인 데이터\n",
        "df4 = pd.read_excel(\"/content/drive/MyDrive/데이터분석/유비온/와우패스 데이터/4 2020-10-01 _ 2022-09-30 로그인 데이터.xlsx\")"
      ],
      "metadata": {
        "id": "Mr-X67O8NfoE"
      },
      "execution_count": null,
      "outputs": []
    },
    {
      "cell_type": "code",
      "source": [
        "#게시판 데이터\n",
        "df5 = pd.read_excel(\"/content/drive/MyDrive/데이터분석/유비온/와우패스 데이터/5 게시판 데이터.xlsx\")"
      ],
      "metadata": {
        "id": "kN9qCREnN80S"
      },
      "execution_count": null,
      "outputs": []
    },
    {
      "cell_type": "code",
      "source": [
        "#결제 데이터\n",
        "df6 = pd.read_excel(\"/content/drive/MyDrive/데이터분석/유비온/와우패스 데이터/6 2020-10-01 _ 2022-09-30 결제 데이터_230330.xlsx\")\n",
        "df6_t = pd.read_excel(\"/content/drive/MyDrive/데이터분석/유비온/와우패스 데이터/결제데이터 통합.xlsx\")"
      ],
      "metadata": {
        "id": "JxDuAAgnOUCa"
      },
      "execution_count": null,
      "outputs": []
    },
    {
      "cell_type": "code",
      "source": [
        "#2021 상세 매출\n",
        "df7_1 = pd.read_excel(\"/content/drive/MyDrive/데이터분석/유비온/와우패스 데이터/2021년 상세매출_230321.xlsx\")\n",
        "#2022 상세 매출\n",
        "df7_2 = pd.read_excel(\"/content/drive/MyDrive/데이터분석/유비온/와우패스 데이터/2022년 상세매출_230321.xlsx\")"
      ],
      "metadata": {
        "id": "vHNZOdxX17m3"
      },
      "execution_count": null,
      "outputs": []
    },
    {
      "cell_type": "code",
      "source": [
        "df7 = pd.concat([df7_1, df7_2], axis=0)"
      ],
      "metadata": {
        "id": "Qcfj3JEo8FI2"
      },
      "execution_count": null,
      "outputs": []
    },
    {
      "cell_type": "code",
      "source": [
        "#통합 데이터\n",
        "df_sum = pd.read_excel(\"/content/drive/MyDrive/데이터분석/유비온/와우패스 데이터/결제데이터 통합.xlsx\")"
      ],
      "metadata": {
        "id": "Lto3NxsAOgbe"
      },
      "execution_count": null,
      "outputs": []
    },
    {
      "cell_type": "markdown",
      "source": [
        "#EDA"
      ],
      "metadata": {
        "id": "LKgf_G78Kwmz"
      }
    },
    {
      "cell_type": "markdown",
      "source": [
        "##df1"
      ],
      "metadata": {
        "id": "qwSJut51wrJ_"
      }
    },
    {
      "cell_type": "code",
      "source": [
        "df1.info()"
      ],
      "metadata": {
        "colab": {
          "base_uri": "https://localhost:8080/"
        },
        "id": "1qGha4KLwskR",
        "outputId": "ee0ad2cc-5346-45dc-9b33-00dadaa56b26"
      },
      "execution_count": null,
      "outputs": [
        {
          "output_type": "stream",
          "name": "stdout",
          "text": [
            "<class 'pandas.core.frame.DataFrame'>\n",
            "RangeIndex: 23578 entries, 0 to 23577\n",
            "Data columns (total 19 columns):\n",
            " #   Column   Non-Null Count  Dtype   \n",
            "---  ------   --------------  -----   \n",
            " 0   가입일      23578 non-null  object  \n",
            " 1   아이디      23577 non-null  object  \n",
            " 2   관심자격1    23578 non-null  object  \n",
            " 3   관심자격2    23578 non-null  object  \n",
            " 4   관심자격3    23578 non-null  object  \n",
            " 5   출생년도     23578 non-null  object  \n",
            " 6   강의결제     23578 non-null  object  \n",
            " 7   교재결제     23578 non-null  object  \n",
            " 8   메일수신     23578 non-null  object  \n",
            " 9   sms수신    23578 non-null  object  \n",
            " 10  휴면방지기간   23400 non-null  object  \n",
            " 11  알게된 경로1  23578 non-null  object  \n",
            " 12  알게된 경로2  23578 non-null  object  \n",
            " 13  직업       23578 non-null  object  \n",
            " 14  주소1      23578 non-null  object  \n",
            " 15  주소2      23578 non-null  object  \n",
            " 16  주소3      23578 non-null  object  \n",
            " 17  나이       15784 non-null  category\n",
            " 18  나이대      15784 non-null  category\n",
            "dtypes: category(2), object(17)\n",
            "memory usage: 3.1+ MB\n"
          ]
        }
      ]
    },
    {
      "cell_type": "code",
      "source": [
        "df1.drop_duplicates(keep=\"first\", inplace=True)"
      ],
      "metadata": {
        "id": "p8_Nr7bYwvWM"
      },
      "execution_count": null,
      "outputs": []
    },
    {
      "cell_type": "markdown",
      "source": [
        "##df4"
      ],
      "metadata": {
        "id": "hM5AAkDqefM5"
      }
    },
    {
      "cell_type": "code",
      "source": [
        "df4.info()"
      ],
      "metadata": {
        "id": "4UMxR1fGOy9l",
        "colab": {
          "base_uri": "https://localhost:8080/"
        },
        "outputId": "da9350ea-ccdd-4503-d9f5-a0802a51a4be"
      },
      "execution_count": null,
      "outputs": [
        {
          "output_type": "stream",
          "name": "stdout",
          "text": [
            "<class 'pandas.core.frame.DataFrame'>\n",
            "RangeIndex: 332988 entries, 0 to 332987\n",
            "Data columns (total 7 columns):\n",
            " #   Column       Non-Null Count   Dtype \n",
            "---  ------       --------------   ----- \n",
            " 0   로그인 날짜       332988 non-null  object\n",
            " 1   아이디          226827 non-null  object\n",
            " 2   로그인횟수        332988 non-null  int64 \n",
            " 3   최초로그인시간      332988 non-null  object\n",
            " 4   마지막 로그인 시간   332988 non-null  object\n",
            " 5   마지막 사용 IP    332988 non-null  object\n",
            " 6   마지막 사용 기기정보  332988 non-null  object\n",
            "dtypes: int64(1), object(6)\n",
            "memory usage: 17.8+ MB\n"
          ]
        }
      ]
    },
    {
      "cell_type": "code",
      "source": [
        "df4.head()"
      ],
      "metadata": {
        "colab": {
          "base_uri": "https://localhost:8080/",
          "height": 204
        },
        "id": "mtTD1VfyN9F1",
        "outputId": "04bee604-5e41-4e95-c4df-4edacdea5225"
      },
      "execution_count": null,
      "outputs": [
        {
          "output_type": "execute_result",
          "data": {
            "text/plain": [
              "       로그인 날짜            아이디  로그인횟수                  최초로그인시간  \\\n",
              "0  2022-05-27  UBION00030748      1  2022-05-27 03:41:51.120   \n",
              "1  2022-05-22  UBION00030748      1  2022-05-22 19:33:52.643   \n",
              "2  2022-05-12  UBION00030748      2  2022-05-12 06:33:14.957   \n",
              "3  2022-05-11  UBION00030748      1  2022-05-11 22:56:12.390   \n",
              "4  2022-05-09  UBION00030748      1  2022-05-09 23:23:09.510   \n",
              "\n",
              "                마지막 로그인 시간        마지막 사용 IP  \\\n",
              "0  2022-05-27 03:41:51.120  115.160.113.210   \n",
              "1  2022-05-22 19:33:52.643  115.160.113.210   \n",
              "2  2022-05-12 13:10:11.303  115.160.113.210   \n",
              "3  2022-05-11 22:56:12.390  115.160.113.210   \n",
              "4  2022-05-09 23:23:09.510  115.160.113.210   \n",
              "\n",
              "                                         마지막 사용 기기정보  \n",
              "0  Mozilla/5.0 (Windows NT 10.0; Win64; x64) Appl...  \n",
              "1  Mozilla/5.0 (Windows NT 10.0; Win64; x64) Appl...  \n",
              "2  Mozilla/5.0 (Windows NT 10.0; Win64; x64) Appl...  \n",
              "3  Mozilla/5.0 (Windows NT 10.0; Win64; x64) Appl...  \n",
              "4  Mozilla/5.0 (Windows NT 10.0; Win64; x64) Appl...  "
            ],
            "text/html": [
              "\n",
              "  <div id=\"df-580cb0a0-f28e-4041-a491-f75bf2ba3530\">\n",
              "    <div class=\"colab-df-container\">\n",
              "      <div>\n",
              "<style scoped>\n",
              "    .dataframe tbody tr th:only-of-type {\n",
              "        vertical-align: middle;\n",
              "    }\n",
              "\n",
              "    .dataframe tbody tr th {\n",
              "        vertical-align: top;\n",
              "    }\n",
              "\n",
              "    .dataframe thead th {\n",
              "        text-align: right;\n",
              "    }\n",
              "</style>\n",
              "<table border=\"1\" class=\"dataframe\">\n",
              "  <thead>\n",
              "    <tr style=\"text-align: right;\">\n",
              "      <th></th>\n",
              "      <th>로그인 날짜</th>\n",
              "      <th>아이디</th>\n",
              "      <th>로그인횟수</th>\n",
              "      <th>최초로그인시간</th>\n",
              "      <th>마지막 로그인 시간</th>\n",
              "      <th>마지막 사용 IP</th>\n",
              "      <th>마지막 사용 기기정보</th>\n",
              "    </tr>\n",
              "  </thead>\n",
              "  <tbody>\n",
              "    <tr>\n",
              "      <th>0</th>\n",
              "      <td>2022-05-27</td>\n",
              "      <td>UBION00030748</td>\n",
              "      <td>1</td>\n",
              "      <td>2022-05-27 03:41:51.120</td>\n",
              "      <td>2022-05-27 03:41:51.120</td>\n",
              "      <td>115.160.113.210</td>\n",
              "      <td>Mozilla/5.0 (Windows NT 10.0; Win64; x64) Appl...</td>\n",
              "    </tr>\n",
              "    <tr>\n",
              "      <th>1</th>\n",
              "      <td>2022-05-22</td>\n",
              "      <td>UBION00030748</td>\n",
              "      <td>1</td>\n",
              "      <td>2022-05-22 19:33:52.643</td>\n",
              "      <td>2022-05-22 19:33:52.643</td>\n",
              "      <td>115.160.113.210</td>\n",
              "      <td>Mozilla/5.0 (Windows NT 10.0; Win64; x64) Appl...</td>\n",
              "    </tr>\n",
              "    <tr>\n",
              "      <th>2</th>\n",
              "      <td>2022-05-12</td>\n",
              "      <td>UBION00030748</td>\n",
              "      <td>2</td>\n",
              "      <td>2022-05-12 06:33:14.957</td>\n",
              "      <td>2022-05-12 13:10:11.303</td>\n",
              "      <td>115.160.113.210</td>\n",
              "      <td>Mozilla/5.0 (Windows NT 10.0; Win64; x64) Appl...</td>\n",
              "    </tr>\n",
              "    <tr>\n",
              "      <th>3</th>\n",
              "      <td>2022-05-11</td>\n",
              "      <td>UBION00030748</td>\n",
              "      <td>1</td>\n",
              "      <td>2022-05-11 22:56:12.390</td>\n",
              "      <td>2022-05-11 22:56:12.390</td>\n",
              "      <td>115.160.113.210</td>\n",
              "      <td>Mozilla/5.0 (Windows NT 10.0; Win64; x64) Appl...</td>\n",
              "    </tr>\n",
              "    <tr>\n",
              "      <th>4</th>\n",
              "      <td>2022-05-09</td>\n",
              "      <td>UBION00030748</td>\n",
              "      <td>1</td>\n",
              "      <td>2022-05-09 23:23:09.510</td>\n",
              "      <td>2022-05-09 23:23:09.510</td>\n",
              "      <td>115.160.113.210</td>\n",
              "      <td>Mozilla/5.0 (Windows NT 10.0; Win64; x64) Appl...</td>\n",
              "    </tr>\n",
              "  </tbody>\n",
              "</table>\n",
              "</div>\n",
              "      <button class=\"colab-df-convert\" onclick=\"convertToInteractive('df-580cb0a0-f28e-4041-a491-f75bf2ba3530')\"\n",
              "              title=\"Convert this dataframe to an interactive table.\"\n",
              "              style=\"display:none;\">\n",
              "        \n",
              "  <svg xmlns=\"http://www.w3.org/2000/svg\" height=\"24px\"viewBox=\"0 0 24 24\"\n",
              "       width=\"24px\">\n",
              "    <path d=\"M0 0h24v24H0V0z\" fill=\"none\"/>\n",
              "    <path d=\"M18.56 5.44l.94 2.06.94-2.06 2.06-.94-2.06-.94-.94-2.06-.94 2.06-2.06.94zm-11 1L8.5 8.5l.94-2.06 2.06-.94-2.06-.94L8.5 2.5l-.94 2.06-2.06.94zm10 10l.94 2.06.94-2.06 2.06-.94-2.06-.94-.94-2.06-.94 2.06-2.06.94z\"/><path d=\"M17.41 7.96l-1.37-1.37c-.4-.4-.92-.59-1.43-.59-.52 0-1.04.2-1.43.59L10.3 9.45l-7.72 7.72c-.78.78-.78 2.05 0 2.83L4 21.41c.39.39.9.59 1.41.59.51 0 1.02-.2 1.41-.59l7.78-7.78 2.81-2.81c.8-.78.8-2.07 0-2.86zM5.41 20L4 18.59l7.72-7.72 1.47 1.35L5.41 20z\"/>\n",
              "  </svg>\n",
              "      </button>\n",
              "      \n",
              "  <style>\n",
              "    .colab-df-container {\n",
              "      display:flex;\n",
              "      flex-wrap:wrap;\n",
              "      gap: 12px;\n",
              "    }\n",
              "\n",
              "    .colab-df-convert {\n",
              "      background-color: #E8F0FE;\n",
              "      border: none;\n",
              "      border-radius: 50%;\n",
              "      cursor: pointer;\n",
              "      display: none;\n",
              "      fill: #1967D2;\n",
              "      height: 32px;\n",
              "      padding: 0 0 0 0;\n",
              "      width: 32px;\n",
              "    }\n",
              "\n",
              "    .colab-df-convert:hover {\n",
              "      background-color: #E2EBFA;\n",
              "      box-shadow: 0px 1px 2px rgba(60, 64, 67, 0.3), 0px 1px 3px 1px rgba(60, 64, 67, 0.15);\n",
              "      fill: #174EA6;\n",
              "    }\n",
              "\n",
              "    [theme=dark] .colab-df-convert {\n",
              "      background-color: #3B4455;\n",
              "      fill: #D2E3FC;\n",
              "    }\n",
              "\n",
              "    [theme=dark] .colab-df-convert:hover {\n",
              "      background-color: #434B5C;\n",
              "      box-shadow: 0px 1px 3px 1px rgba(0, 0, 0, 0.15);\n",
              "      filter: drop-shadow(0px 1px 2px rgba(0, 0, 0, 0.3));\n",
              "      fill: #FFFFFF;\n",
              "    }\n",
              "  </style>\n",
              "\n",
              "      <script>\n",
              "        const buttonEl =\n",
              "          document.querySelector('#df-580cb0a0-f28e-4041-a491-f75bf2ba3530 button.colab-df-convert');\n",
              "        buttonEl.style.display =\n",
              "          google.colab.kernel.accessAllowed ? 'block' : 'none';\n",
              "\n",
              "        async function convertToInteractive(key) {\n",
              "          const element = document.querySelector('#df-580cb0a0-f28e-4041-a491-f75bf2ba3530');\n",
              "          const dataTable =\n",
              "            await google.colab.kernel.invokeFunction('convertToInteractive',\n",
              "                                                     [key], {});\n",
              "          if (!dataTable) return;\n",
              "\n",
              "          const docLinkHtml = 'Like what you see? Visit the ' +\n",
              "            '<a target=\"_blank\" href=https://colab.research.google.com/notebooks/data_table.ipynb>data table notebook</a>'\n",
              "            + ' to learn more about interactive tables.';\n",
              "          element.innerHTML = '';\n",
              "          dataTable['output_type'] = 'display_data';\n",
              "          await google.colab.output.renderOutput(dataTable, element);\n",
              "          const docLink = document.createElement('div');\n",
              "          docLink.innerHTML = docLinkHtml;\n",
              "          element.appendChild(docLink);\n",
              "        }\n",
              "      </script>\n",
              "    </div>\n",
              "  </div>\n",
              "  "
            ]
          },
          "metadata": {},
          "execution_count": 4
        }
      ]
    },
    {
      "cell_type": "code",
      "source": [
        "df4.describe()"
      ],
      "metadata": {
        "colab": {
          "base_uri": "https://localhost:8080/",
          "height": 297
        },
        "id": "Dv-_-9SQN_Rn",
        "outputId": "7e399d73-6ba5-44cc-e288-ff801f0d68f4"
      },
      "execution_count": null,
      "outputs": [
        {
          "output_type": "execute_result",
          "data": {
            "text/plain": [
              "               로그인횟수\n",
              "count  332988.000000\n",
              "mean        1.514163\n",
              "std         2.452843\n",
              "min         1.000000\n",
              "25%         1.000000\n",
              "50%         1.000000\n",
              "75%         2.000000\n",
              "max      1259.000000"
            ],
            "text/html": [
              "\n",
              "  <div id=\"df-22b8edc2-9be8-402c-b6d6-39519c74690e\">\n",
              "    <div class=\"colab-df-container\">\n",
              "      <div>\n",
              "<style scoped>\n",
              "    .dataframe tbody tr th:only-of-type {\n",
              "        vertical-align: middle;\n",
              "    }\n",
              "\n",
              "    .dataframe tbody tr th {\n",
              "        vertical-align: top;\n",
              "    }\n",
              "\n",
              "    .dataframe thead th {\n",
              "        text-align: right;\n",
              "    }\n",
              "</style>\n",
              "<table border=\"1\" class=\"dataframe\">\n",
              "  <thead>\n",
              "    <tr style=\"text-align: right;\">\n",
              "      <th></th>\n",
              "      <th>로그인횟수</th>\n",
              "    </tr>\n",
              "  </thead>\n",
              "  <tbody>\n",
              "    <tr>\n",
              "      <th>count</th>\n",
              "      <td>332988.000000</td>\n",
              "    </tr>\n",
              "    <tr>\n",
              "      <th>mean</th>\n",
              "      <td>1.514163</td>\n",
              "    </tr>\n",
              "    <tr>\n",
              "      <th>std</th>\n",
              "      <td>2.452843</td>\n",
              "    </tr>\n",
              "    <tr>\n",
              "      <th>min</th>\n",
              "      <td>1.000000</td>\n",
              "    </tr>\n",
              "    <tr>\n",
              "      <th>25%</th>\n",
              "      <td>1.000000</td>\n",
              "    </tr>\n",
              "    <tr>\n",
              "      <th>50%</th>\n",
              "      <td>1.000000</td>\n",
              "    </tr>\n",
              "    <tr>\n",
              "      <th>75%</th>\n",
              "      <td>2.000000</td>\n",
              "    </tr>\n",
              "    <tr>\n",
              "      <th>max</th>\n",
              "      <td>1259.000000</td>\n",
              "    </tr>\n",
              "  </tbody>\n",
              "</table>\n",
              "</div>\n",
              "      <button class=\"colab-df-convert\" onclick=\"convertToInteractive('df-22b8edc2-9be8-402c-b6d6-39519c74690e')\"\n",
              "              title=\"Convert this dataframe to an interactive table.\"\n",
              "              style=\"display:none;\">\n",
              "        \n",
              "  <svg xmlns=\"http://www.w3.org/2000/svg\" height=\"24px\"viewBox=\"0 0 24 24\"\n",
              "       width=\"24px\">\n",
              "    <path d=\"M0 0h24v24H0V0z\" fill=\"none\"/>\n",
              "    <path d=\"M18.56 5.44l.94 2.06.94-2.06 2.06-.94-2.06-.94-.94-2.06-.94 2.06-2.06.94zm-11 1L8.5 8.5l.94-2.06 2.06-.94-2.06-.94L8.5 2.5l-.94 2.06-2.06.94zm10 10l.94 2.06.94-2.06 2.06-.94-2.06-.94-.94-2.06-.94 2.06-2.06.94z\"/><path d=\"M17.41 7.96l-1.37-1.37c-.4-.4-.92-.59-1.43-.59-.52 0-1.04.2-1.43.59L10.3 9.45l-7.72 7.72c-.78.78-.78 2.05 0 2.83L4 21.41c.39.39.9.59 1.41.59.51 0 1.02-.2 1.41-.59l7.78-7.78 2.81-2.81c.8-.78.8-2.07 0-2.86zM5.41 20L4 18.59l7.72-7.72 1.47 1.35L5.41 20z\"/>\n",
              "  </svg>\n",
              "      </button>\n",
              "      \n",
              "  <style>\n",
              "    .colab-df-container {\n",
              "      display:flex;\n",
              "      flex-wrap:wrap;\n",
              "      gap: 12px;\n",
              "    }\n",
              "\n",
              "    .colab-df-convert {\n",
              "      background-color: #E8F0FE;\n",
              "      border: none;\n",
              "      border-radius: 50%;\n",
              "      cursor: pointer;\n",
              "      display: none;\n",
              "      fill: #1967D2;\n",
              "      height: 32px;\n",
              "      padding: 0 0 0 0;\n",
              "      width: 32px;\n",
              "    }\n",
              "\n",
              "    .colab-df-convert:hover {\n",
              "      background-color: #E2EBFA;\n",
              "      box-shadow: 0px 1px 2px rgba(60, 64, 67, 0.3), 0px 1px 3px 1px rgba(60, 64, 67, 0.15);\n",
              "      fill: #174EA6;\n",
              "    }\n",
              "\n",
              "    [theme=dark] .colab-df-convert {\n",
              "      background-color: #3B4455;\n",
              "      fill: #D2E3FC;\n",
              "    }\n",
              "\n",
              "    [theme=dark] .colab-df-convert:hover {\n",
              "      background-color: #434B5C;\n",
              "      box-shadow: 0px 1px 3px 1px rgba(0, 0, 0, 0.15);\n",
              "      filter: drop-shadow(0px 1px 2px rgba(0, 0, 0, 0.3));\n",
              "      fill: #FFFFFF;\n",
              "    }\n",
              "  </style>\n",
              "\n",
              "      <script>\n",
              "        const buttonEl =\n",
              "          document.querySelector('#df-22b8edc2-9be8-402c-b6d6-39519c74690e button.colab-df-convert');\n",
              "        buttonEl.style.display =\n",
              "          google.colab.kernel.accessAllowed ? 'block' : 'none';\n",
              "\n",
              "        async function convertToInteractive(key) {\n",
              "          const element = document.querySelector('#df-22b8edc2-9be8-402c-b6d6-39519c74690e');\n",
              "          const dataTable =\n",
              "            await google.colab.kernel.invokeFunction('convertToInteractive',\n",
              "                                                     [key], {});\n",
              "          if (!dataTable) return;\n",
              "\n",
              "          const docLinkHtml = 'Like what you see? Visit the ' +\n",
              "            '<a target=\"_blank\" href=https://colab.research.google.com/notebooks/data_table.ipynb>data table notebook</a>'\n",
              "            + ' to learn more about interactive tables.';\n",
              "          element.innerHTML = '';\n",
              "          dataTable['output_type'] = 'display_data';\n",
              "          await google.colab.output.renderOutput(dataTable, element);\n",
              "          const docLink = document.createElement('div');\n",
              "          docLink.innerHTML = docLinkHtml;\n",
              "          element.appendChild(docLink);\n",
              "        }\n",
              "      </script>\n",
              "    </div>\n",
              "  </div>\n",
              "  "
            ]
          },
          "metadata": {},
          "execution_count": 6
        }
      ]
    },
    {
      "cell_type": "code",
      "source": [
        "df4.columns"
      ],
      "metadata": {
        "colab": {
          "base_uri": "https://localhost:8080/"
        },
        "id": "1VjbC9QwOC0I",
        "outputId": "6b891faf-2861-442a-d276-d7e30a7e326e"
      },
      "execution_count": null,
      "outputs": [
        {
          "output_type": "execute_result",
          "data": {
            "text/plain": [
              "Index(['로그인 날짜', '아이디', '로그인횟수', '최초로그인시간', '마지막 로그인 시간', '마지막 사용 IP',\n",
              "       '마지막 사용 기기정보'],\n",
              "      dtype='object')"
            ]
          },
          "metadata": {},
          "execution_count": 7
        }
      ]
    },
    {
      "cell_type": "markdown",
      "source": [
        "##df6"
      ],
      "metadata": {
        "id": "HeX_R9Faek_s"
      }
    },
    {
      "cell_type": "code",
      "source": [
        "df6.info()"
      ],
      "metadata": {
        "colab": {
          "base_uri": "https://localhost:8080/"
        },
        "id": "0WUOdoHYeow1",
        "outputId": "2c7117c7-77a4-443a-9c10-cb2e72e45bf7"
      },
      "execution_count": null,
      "outputs": [
        {
          "output_type": "stream",
          "name": "stdout",
          "text": [
            "<class 'pandas.core.frame.DataFrame'>\n",
            "RangeIndex: 99266 entries, 0 to 99265\n",
            "Data columns (total 5 columns):\n",
            " #   Column  Non-Null Count  Dtype \n",
            "---  ------  --------------  ----- \n",
            " 0   아이디     68473 non-null  object\n",
            " 1   과목코드    99266 non-null  object\n",
            " 2   과정코드    99266 non-null  object\n",
            " 3   결제종류    97202 non-null  object\n",
            " 4   결제일     97874 non-null  object\n",
            "dtypes: object(5)\n",
            "memory usage: 3.8+ MB\n"
          ]
        }
      ]
    },
    {
      "cell_type": "code",
      "source": [
        "df6.describe()"
      ],
      "metadata": {
        "colab": {
          "base_uri": "https://localhost:8080/",
          "height": 173
        },
        "id": "C3k_9oa7eucu",
        "outputId": "cdeef8cf-737d-46bf-a9a3-0c091d2190ac"
      },
      "execution_count": null,
      "outputs": [
        {
          "output_type": "execute_result",
          "data": {
            "text/plain": [
              "                  아이디          과목코드   과정코드   결제종류                      결제일\n",
              "count           68473         99266  99266  97202                    97874\n",
              "unique           8044           827     52      8                    17531\n",
              "top     UBION00075560  ACRS00001001     80   신용카드  2020-12-25 14:36:10.000\n",
              "freq              152          1690  19926  72554                       49"
            ],
            "text/html": [
              "\n",
              "  <div id=\"df-c1ba07cf-41d7-498f-8f12-1a05f9a96bee\">\n",
              "    <div class=\"colab-df-container\">\n",
              "      <div>\n",
              "<style scoped>\n",
              "    .dataframe tbody tr th:only-of-type {\n",
              "        vertical-align: middle;\n",
              "    }\n",
              "\n",
              "    .dataframe tbody tr th {\n",
              "        vertical-align: top;\n",
              "    }\n",
              "\n",
              "    .dataframe thead th {\n",
              "        text-align: right;\n",
              "    }\n",
              "</style>\n",
              "<table border=\"1\" class=\"dataframe\">\n",
              "  <thead>\n",
              "    <tr style=\"text-align: right;\">\n",
              "      <th></th>\n",
              "      <th>아이디</th>\n",
              "      <th>과목코드</th>\n",
              "      <th>과정코드</th>\n",
              "      <th>결제종류</th>\n",
              "      <th>결제일</th>\n",
              "    </tr>\n",
              "  </thead>\n",
              "  <tbody>\n",
              "    <tr>\n",
              "      <th>count</th>\n",
              "      <td>68473</td>\n",
              "      <td>99266</td>\n",
              "      <td>99266</td>\n",
              "      <td>97202</td>\n",
              "      <td>97874</td>\n",
              "    </tr>\n",
              "    <tr>\n",
              "      <th>unique</th>\n",
              "      <td>8044</td>\n",
              "      <td>827</td>\n",
              "      <td>52</td>\n",
              "      <td>8</td>\n",
              "      <td>17531</td>\n",
              "    </tr>\n",
              "    <tr>\n",
              "      <th>top</th>\n",
              "      <td>UBION00075560</td>\n",
              "      <td>ACRS00001001</td>\n",
              "      <td>80</td>\n",
              "      <td>신용카드</td>\n",
              "      <td>2020-12-25 14:36:10.000</td>\n",
              "    </tr>\n",
              "    <tr>\n",
              "      <th>freq</th>\n",
              "      <td>152</td>\n",
              "      <td>1690</td>\n",
              "      <td>19926</td>\n",
              "      <td>72554</td>\n",
              "      <td>49</td>\n",
              "    </tr>\n",
              "  </tbody>\n",
              "</table>\n",
              "</div>\n",
              "      <button class=\"colab-df-convert\" onclick=\"convertToInteractive('df-c1ba07cf-41d7-498f-8f12-1a05f9a96bee')\"\n",
              "              title=\"Convert this dataframe to an interactive table.\"\n",
              "              style=\"display:none;\">\n",
              "        \n",
              "  <svg xmlns=\"http://www.w3.org/2000/svg\" height=\"24px\"viewBox=\"0 0 24 24\"\n",
              "       width=\"24px\">\n",
              "    <path d=\"M0 0h24v24H0V0z\" fill=\"none\"/>\n",
              "    <path d=\"M18.56 5.44l.94 2.06.94-2.06 2.06-.94-2.06-.94-.94-2.06-.94 2.06-2.06.94zm-11 1L8.5 8.5l.94-2.06 2.06-.94-2.06-.94L8.5 2.5l-.94 2.06-2.06.94zm10 10l.94 2.06.94-2.06 2.06-.94-2.06-.94-.94-2.06-.94 2.06-2.06.94z\"/><path d=\"M17.41 7.96l-1.37-1.37c-.4-.4-.92-.59-1.43-.59-.52 0-1.04.2-1.43.59L10.3 9.45l-7.72 7.72c-.78.78-.78 2.05 0 2.83L4 21.41c.39.39.9.59 1.41.59.51 0 1.02-.2 1.41-.59l7.78-7.78 2.81-2.81c.8-.78.8-2.07 0-2.86zM5.41 20L4 18.59l7.72-7.72 1.47 1.35L5.41 20z\"/>\n",
              "  </svg>\n",
              "      </button>\n",
              "      \n",
              "  <style>\n",
              "    .colab-df-container {\n",
              "      display:flex;\n",
              "      flex-wrap:wrap;\n",
              "      gap: 12px;\n",
              "    }\n",
              "\n",
              "    .colab-df-convert {\n",
              "      background-color: #E8F0FE;\n",
              "      border: none;\n",
              "      border-radius: 50%;\n",
              "      cursor: pointer;\n",
              "      display: none;\n",
              "      fill: #1967D2;\n",
              "      height: 32px;\n",
              "      padding: 0 0 0 0;\n",
              "      width: 32px;\n",
              "    }\n",
              "\n",
              "    .colab-df-convert:hover {\n",
              "      background-color: #E2EBFA;\n",
              "      box-shadow: 0px 1px 2px rgba(60, 64, 67, 0.3), 0px 1px 3px 1px rgba(60, 64, 67, 0.15);\n",
              "      fill: #174EA6;\n",
              "    }\n",
              "\n",
              "    [theme=dark] .colab-df-convert {\n",
              "      background-color: #3B4455;\n",
              "      fill: #D2E3FC;\n",
              "    }\n",
              "\n",
              "    [theme=dark] .colab-df-convert:hover {\n",
              "      background-color: #434B5C;\n",
              "      box-shadow: 0px 1px 3px 1px rgba(0, 0, 0, 0.15);\n",
              "      filter: drop-shadow(0px 1px 2px rgba(0, 0, 0, 0.3));\n",
              "      fill: #FFFFFF;\n",
              "    }\n",
              "  </style>\n",
              "\n",
              "      <script>\n",
              "        const buttonEl =\n",
              "          document.querySelector('#df-c1ba07cf-41d7-498f-8f12-1a05f9a96bee button.colab-df-convert');\n",
              "        buttonEl.style.display =\n",
              "          google.colab.kernel.accessAllowed ? 'block' : 'none';\n",
              "\n",
              "        async function convertToInteractive(key) {\n",
              "          const element = document.querySelector('#df-c1ba07cf-41d7-498f-8f12-1a05f9a96bee');\n",
              "          const dataTable =\n",
              "            await google.colab.kernel.invokeFunction('convertToInteractive',\n",
              "                                                     [key], {});\n",
              "          if (!dataTable) return;\n",
              "\n",
              "          const docLinkHtml = 'Like what you see? Visit the ' +\n",
              "            '<a target=\"_blank\" href=https://colab.research.google.com/notebooks/data_table.ipynb>data table notebook</a>'\n",
              "            + ' to learn more about interactive tables.';\n",
              "          element.innerHTML = '';\n",
              "          dataTable['output_type'] = 'display_data';\n",
              "          await google.colab.output.renderOutput(dataTable, element);\n",
              "          const docLink = document.createElement('div');\n",
              "          docLink.innerHTML = docLinkHtml;\n",
              "          element.appendChild(docLink);\n",
              "        }\n",
              "      </script>\n",
              "    </div>\n",
              "  </div>\n",
              "  "
            ]
          },
          "metadata": {},
          "execution_count": 43
        }
      ]
    },
    {
      "cell_type": "code",
      "source": [
        "df6.head()"
      ],
      "metadata": {
        "colab": {
          "base_uri": "https://localhost:8080/",
          "height": 204
        },
        "id": "jaVWxrs8erei",
        "outputId": "6584afd8-ae09-4a1c-f83c-bc9e9f5f3153"
      },
      "execution_count": null,
      "outputs": [
        {
          "output_type": "execute_result",
          "data": {
            "text/plain": [
              "             아이디          과목코드 과정코드  결제종류                      결제일\n",
              "0  UBION00079064  ASQS00001001   SQ  신용카드  2022-09-30 23:47:31.923\n",
              "1  UBION00079064  ASQS00001001   SQ  신용카드  2022-09-30 23:47:31.923\n",
              "2  UBION00079064  BSQS00001001   SQ  신용카드  2022-09-30 23:47:31.923\n",
              "3  UBION00079064  BSQS00002001   SQ  신용카드  2022-09-30 23:47:31.923\n",
              "4  UBION00052712  BSAS00022001   SA  신용카드  2022-09-30 22:17:30.787"
            ],
            "text/html": [
              "\n",
              "  <div id=\"df-1e59f01e-6f15-4a21-a3f4-cf848bb69a63\">\n",
              "    <div class=\"colab-df-container\">\n",
              "      <div>\n",
              "<style scoped>\n",
              "    .dataframe tbody tr th:only-of-type {\n",
              "        vertical-align: middle;\n",
              "    }\n",
              "\n",
              "    .dataframe tbody tr th {\n",
              "        vertical-align: top;\n",
              "    }\n",
              "\n",
              "    .dataframe thead th {\n",
              "        text-align: right;\n",
              "    }\n",
              "</style>\n",
              "<table border=\"1\" class=\"dataframe\">\n",
              "  <thead>\n",
              "    <tr style=\"text-align: right;\">\n",
              "      <th></th>\n",
              "      <th>아이디</th>\n",
              "      <th>과목코드</th>\n",
              "      <th>과정코드</th>\n",
              "      <th>결제종류</th>\n",
              "      <th>결제일</th>\n",
              "    </tr>\n",
              "  </thead>\n",
              "  <tbody>\n",
              "    <tr>\n",
              "      <th>0</th>\n",
              "      <td>UBION00079064</td>\n",
              "      <td>ASQS00001001</td>\n",
              "      <td>SQ</td>\n",
              "      <td>신용카드</td>\n",
              "      <td>2022-09-30 23:47:31.923</td>\n",
              "    </tr>\n",
              "    <tr>\n",
              "      <th>1</th>\n",
              "      <td>UBION00079064</td>\n",
              "      <td>ASQS00001001</td>\n",
              "      <td>SQ</td>\n",
              "      <td>신용카드</td>\n",
              "      <td>2022-09-30 23:47:31.923</td>\n",
              "    </tr>\n",
              "    <tr>\n",
              "      <th>2</th>\n",
              "      <td>UBION00079064</td>\n",
              "      <td>BSQS00001001</td>\n",
              "      <td>SQ</td>\n",
              "      <td>신용카드</td>\n",
              "      <td>2022-09-30 23:47:31.923</td>\n",
              "    </tr>\n",
              "    <tr>\n",
              "      <th>3</th>\n",
              "      <td>UBION00079064</td>\n",
              "      <td>BSQS00002001</td>\n",
              "      <td>SQ</td>\n",
              "      <td>신용카드</td>\n",
              "      <td>2022-09-30 23:47:31.923</td>\n",
              "    </tr>\n",
              "    <tr>\n",
              "      <th>4</th>\n",
              "      <td>UBION00052712</td>\n",
              "      <td>BSAS00022001</td>\n",
              "      <td>SA</td>\n",
              "      <td>신용카드</td>\n",
              "      <td>2022-09-30 22:17:30.787</td>\n",
              "    </tr>\n",
              "  </tbody>\n",
              "</table>\n",
              "</div>\n",
              "      <button class=\"colab-df-convert\" onclick=\"convertToInteractive('df-1e59f01e-6f15-4a21-a3f4-cf848bb69a63')\"\n",
              "              title=\"Convert this dataframe to an interactive table.\"\n",
              "              style=\"display:none;\">\n",
              "        \n",
              "  <svg xmlns=\"http://www.w3.org/2000/svg\" height=\"24px\"viewBox=\"0 0 24 24\"\n",
              "       width=\"24px\">\n",
              "    <path d=\"M0 0h24v24H0V0z\" fill=\"none\"/>\n",
              "    <path d=\"M18.56 5.44l.94 2.06.94-2.06 2.06-.94-2.06-.94-.94-2.06-.94 2.06-2.06.94zm-11 1L8.5 8.5l.94-2.06 2.06-.94-2.06-.94L8.5 2.5l-.94 2.06-2.06.94zm10 10l.94 2.06.94-2.06 2.06-.94-2.06-.94-.94-2.06-.94 2.06-2.06.94z\"/><path d=\"M17.41 7.96l-1.37-1.37c-.4-.4-.92-.59-1.43-.59-.52 0-1.04.2-1.43.59L10.3 9.45l-7.72 7.72c-.78.78-.78 2.05 0 2.83L4 21.41c.39.39.9.59 1.41.59.51 0 1.02-.2 1.41-.59l7.78-7.78 2.81-2.81c.8-.78.8-2.07 0-2.86zM5.41 20L4 18.59l7.72-7.72 1.47 1.35L5.41 20z\"/>\n",
              "  </svg>\n",
              "      </button>\n",
              "      \n",
              "  <style>\n",
              "    .colab-df-container {\n",
              "      display:flex;\n",
              "      flex-wrap:wrap;\n",
              "      gap: 12px;\n",
              "    }\n",
              "\n",
              "    .colab-df-convert {\n",
              "      background-color: #E8F0FE;\n",
              "      border: none;\n",
              "      border-radius: 50%;\n",
              "      cursor: pointer;\n",
              "      display: none;\n",
              "      fill: #1967D2;\n",
              "      height: 32px;\n",
              "      padding: 0 0 0 0;\n",
              "      width: 32px;\n",
              "    }\n",
              "\n",
              "    .colab-df-convert:hover {\n",
              "      background-color: #E2EBFA;\n",
              "      box-shadow: 0px 1px 2px rgba(60, 64, 67, 0.3), 0px 1px 3px 1px rgba(60, 64, 67, 0.15);\n",
              "      fill: #174EA6;\n",
              "    }\n",
              "\n",
              "    [theme=dark] .colab-df-convert {\n",
              "      background-color: #3B4455;\n",
              "      fill: #D2E3FC;\n",
              "    }\n",
              "\n",
              "    [theme=dark] .colab-df-convert:hover {\n",
              "      background-color: #434B5C;\n",
              "      box-shadow: 0px 1px 3px 1px rgba(0, 0, 0, 0.15);\n",
              "      filter: drop-shadow(0px 1px 2px rgba(0, 0, 0, 0.3));\n",
              "      fill: #FFFFFF;\n",
              "    }\n",
              "  </style>\n",
              "\n",
              "      <script>\n",
              "        const buttonEl =\n",
              "          document.querySelector('#df-1e59f01e-6f15-4a21-a3f4-cf848bb69a63 button.colab-df-convert');\n",
              "        buttonEl.style.display =\n",
              "          google.colab.kernel.accessAllowed ? 'block' : 'none';\n",
              "\n",
              "        async function convertToInteractive(key) {\n",
              "          const element = document.querySelector('#df-1e59f01e-6f15-4a21-a3f4-cf848bb69a63');\n",
              "          const dataTable =\n",
              "            await google.colab.kernel.invokeFunction('convertToInteractive',\n",
              "                                                     [key], {});\n",
              "          if (!dataTable) return;\n",
              "\n",
              "          const docLinkHtml = 'Like what you see? Visit the ' +\n",
              "            '<a target=\"_blank\" href=https://colab.research.google.com/notebooks/data_table.ipynb>data table notebook</a>'\n",
              "            + ' to learn more about interactive tables.';\n",
              "          element.innerHTML = '';\n",
              "          dataTable['output_type'] = 'display_data';\n",
              "          await google.colab.output.renderOutput(dataTable, element);\n",
              "          const docLink = document.createElement('div');\n",
              "          docLink.innerHTML = docLinkHtml;\n",
              "          element.appendChild(docLink);\n",
              "        }\n",
              "      </script>\n",
              "    </div>\n",
              "  </div>\n",
              "  "
            ]
          },
          "metadata": {},
          "execution_count": 41
        }
      ]
    },
    {
      "cell_type": "markdown",
      "source": [
        "##최다 빈도 접속자 트랙킹\n",
        ": 이탈 기준과 충성고객 기준 설정을 위한"
      ],
      "metadata": {
        "id": "BdGDWYbjOo_e"
      }
    },
    {
      "cell_type": "code",
      "source": [
        "#결제 내역\n",
        "payed = df6[df6['아이디'] == \"UBION00032809\"]\n",
        "payed.info()\n",
        "payed[\"결제일\"].isnull().sum()"
      ],
      "metadata": {
        "colab": {
          "base_uri": "https://localhost:8080/"
        },
        "id": "Blr_mru4N6VU",
        "outputId": "696ab2fa-6d83-46ba-f124-69166d2940cd"
      },
      "execution_count": null,
      "outputs": [
        {
          "output_type": "stream",
          "name": "stdout",
          "text": [
            "<class 'pandas.core.frame.DataFrame'>\n",
            "Int64Index: 15 entries, 1349 to 33510\n",
            "Data columns (total 5 columns):\n",
            " #   Column  Non-Null Count  Dtype \n",
            "---  ------  --------------  ----- \n",
            " 0   아이디     15 non-null     object\n",
            " 1   과목코드    15 non-null     object\n",
            " 2   과정코드    15 non-null     object\n",
            " 3   결제종류    15 non-null     object\n",
            " 4   결제일     0 non-null      object\n",
            "dtypes: object(5)\n",
            "memory usage: 720.0+ bytes\n"
          ]
        },
        {
          "output_type": "execute_result",
          "data": {
            "text/plain": [
              "15"
            ]
          },
          "metadata": {},
          "execution_count": 39
        }
      ]
    },
    {
      "cell_type": "code",
      "source": [
        "#결제한 과목\n",
        "payed[\"과정코드\"].value_counts()"
      ],
      "metadata": {
        "colab": {
          "base_uri": "https://localhost:8080/"
        },
        "id": "4cR3S1HQbgIQ",
        "outputId": "c5dbe635-64c5-4aa1-e4e9-aa7a96624218"
      },
      "execution_count": null,
      "outputs": [
        {
          "output_type": "execute_result",
          "data": {
            "text/plain": [
              "20    7\n",
              "28    6\n",
              "03    2\n",
              "Name: 과정코드, dtype: int64"
            ]
          },
          "metadata": {},
          "execution_count": 29
        }
      ]
    },
    {
      "cell_type": "markdown",
      "source": [
        "`"
      ],
      "metadata": {
        "id": "xOwNPIRicnC0"
      }
    },
    {
      "cell_type": "code",
      "source": [
        "#접속일 조회\n",
        "dates = id_login_df[id_login_df[\"아이디\"] == \"UBION00032809\"][\"로그인 날짜\"]\n",
        "\n",
        "for i in dates:\n",
        "  for j in i:\n",
        "    print(j)"
      ],
      "metadata": {
        "id": "sRrWnR7pPHny"
      },
      "execution_count": null,
      "outputs": []
    },
    {
      "cell_type": "markdown",
      "source": [
        "##세번째 호갱님 트랙킹\n",
        "(첫번째, 두번째 호갱님은 결제일자가 다 null임!)\n",
        "\n"
      ],
      "metadata": {
        "id": "KTBmelBpda1J"
      }
    },
    {
      "cell_type": "code",
      "source": [
        "#결제 내역\n",
        "payed = df6[df6['아이디'] == \"UBION00019665\"]\n",
        "payed = payed.reset_index(drop=True)"
      ],
      "metadata": {
        "id": "pqqP5gAmdkDU"
      },
      "execution_count": null,
      "outputs": []
    },
    {
      "cell_type": "code",
      "source": [
        "#결제한 과목\n",
        "payed[\"과정코드\"].value_counts()\n",
        "\n",
        "#04 = CFA"
      ],
      "metadata": {
        "colab": {
          "base_uri": "https://localhost:8080/"
        },
        "id": "BHh47kMbgEJJ",
        "outputId": "e6db1362-bc50-45ff-ad8c-1f82023e5a6c"
      },
      "execution_count": null,
      "outputs": [
        {
          "output_type": "execute_result",
          "data": {
            "text/plain": [
              "04    21\n",
              "Name: 과정코드, dtype: int64"
            ]
          },
          "metadata": {},
          "execution_count": 57
        }
      ]
    },
    {
      "cell_type": "code",
      "source": [
        "#결제한 과정\n",
        "payed[\"과목코드\"].value_counts()"
      ],
      "metadata": {
        "colab": {
          "base_uri": "https://localhost:8080/"
        },
        "id": "hJ9mndjt2c6R",
        "outputId": "503ee06e-5c2f-4f65-a52b-8ed2bf580483"
      },
      "execution_count": null,
      "outputs": [
        {
          "output_type": "execute_result",
          "data": {
            "text/plain": [
              "A04010003001    1\n",
              "A04110008001    1\n",
              "B04S00035001    1\n",
              "B04S00034001    1\n",
              "A04S00120001    1\n",
              "A04S00119001    1\n",
              "A04S00118001    1\n",
              "A04S00113001    1\n",
              "A04S00112001    1\n",
              "A04S00111001    1\n",
              "A04110007001    1\n",
              "A04010004001    1\n",
              "A04110006001    1\n",
              "A04110005001    1\n",
              "A04110004001    1\n",
              "A04110003001    1\n",
              "A04110002001    1\n",
              "A04110001001    1\n",
              "A04080002001    1\n",
              "A04010005001    1\n",
              "B04S00036001    1\n",
              "Name: 과목코드, dtype: int64"
            ]
          },
          "metadata": {},
          "execution_count": 58
        }
      ]
    },
    {
      "cell_type": "code",
      "source": [
        "#과정 검색\n",
        "name_list = []\n",
        "i = payed[\"과목코드\"][0]\n",
        "\n",
        "df7_1.dropna(axis=0,inplace=True)\n",
        "df7_2.dropna(axis=0,inplace=True)\n",
        "\n",
        "\n",
        "check = df7_1.reset_index()\n",
        "check_list = check[\"상품코드\"]\n",
        "check2 = df7_2.reset_index()\n",
        "check_list2 = check2[\"상품코드\"]\n",
        "\n",
        "for i in payed[\"과목코드\"]:\n",
        "  if i in check_list.unique():\n",
        "    name = df7_1[df7_1[\"상품코드\"] == f\"{i}\"][\"상품명칭\"]\n",
        "    name_dic = {i : f'{name}'}\n",
        "    name_list.append(name_dic)\n",
        "  elif i in check_list2.unique():\n",
        "    name = df7_2[df7_2[\"상품코드\"] == f\"{i}\"][\"상품명칭\"]\n",
        "    name_dic = {i : f'{name}'}\n",
        "    name_list.append(name_dic)\n",
        "  else:\n",
        "    print(f\"{i} is not in\")\n",
        "\n",
        "for i in name_list:\n",
        "  print(i)"
      ],
      "metadata": {
        "colab": {
          "base_uri": "https://localhost:8080/"
        },
        "id": "3OGuNQHH3Bbc",
        "outputId": "f8b50028-2cfb-4720-c85f-e8f5e5307dc4"
      },
      "execution_count": null,
      "outputs": [
        {
          "output_type": "stream",
          "name": "stdout",
          "text": [
            "A04S00111001 is not in\n",
            "A04S00112001 is not in\n",
            "A04S00113001 is not in\n",
            "A04S00118001 is not in\n",
            "A04S00119001 is not in\n",
            "A04S00120001 is not in\n",
            "B04S00034001 is not in\n",
            "B04S00035001 is not in\n",
            "B04S00036001 is not in\n",
            "{'A04010003001': '913     pre-course(회계입문)\\n936     pre-course(회계입문)\\n988     pre-course(회계입문)\\n1014    pre-course(회계입문)\\n1066    pre-course(회계입문)\\n              ...       \\n9399    pre-course(회계입문)\\n9425    pre-course(회계입문)\\n9451    pre-course(회계입문)\\n9477    pre-course(회계입문)\\n9500    pre-course(회계입문)\\nName: 상품명칭, Length: 303, dtype: object'}\n",
            "{'A04010004001': '914     pre-course (재무관리입문)\\n937     pre-course (재무관리입문)\\n989     pre-course (재무관리입문)\\n1015    pre-course (재무관리입문)\\n1067    pre-course (재무관리입문)\\n               ...         \\n9400    pre-course (재무관리입문)\\n9426    pre-course (재무관리입문)\\n9452    pre-course (재무관리입문)\\n9478    pre-course (재무관리입문)\\n9501    pre-course (재무관리입문)\\nName: 상품명칭, Length: 303, dtype: object'}\n",
            "{'A04010005001': '915     pre-course (통계학입문)\\n938     pre-course (통계학입문)\\n990     pre-course (통계학입문)\\n1016    pre-course (통계학입문)\\n1068    pre-course (통계학입문)\\n               ...        \\n9401    pre-course (통계학입문)\\n9427    pre-course (통계학입문)\\n9453    pre-course (통계학입문)\\n9479    pre-course (통계학입문)\\n9502    pre-course (통계학입문)\\nName: 상품명칭, Length: 303, dtype: object'}\n",
            "{'A04080002001': '916     Level I Final Review\\n939     Level I Final Review\\n991     Level I Final Review\\n1017    Level I Final Review\\n1069    Level I Final Review\\n                ...         \\n9402    Level I Final Review\\n9428    Level I Final Review\\n9454    Level I Final Review\\n9480    Level I Final Review\\n9503    Level I Final Review\\nName: 상품명칭, Length: 297, dtype: object'}\n",
            "{'A04110001001': '922     Ethical and Professional Standards\\n945     Ethical and Professional Standards\\n997     Ethical and Professional Standards\\n1023    Ethical and Professional Standards\\n1075    Ethical and Professional Standards\\n                       ...                \\n9408    Ethical and Professional Standards\\n9434    Ethical and Professional Standards\\n9460    Ethical and Professional Standards\\n9486    Ethical and Professional Standards\\n9509    Ethical and Professional Standards\\nName: 상품명칭, Length: 297, dtype: object'}\n",
            "{'A04110002001': '923     Financial Statement and Analysis\\n946     Financial Statement and Analysis\\n998     Financial Statement and Analysis\\n1024    Financial Statement and Analysis\\n1076    Financial Statement and Analysis\\n                      ...               \\n9409    Financial Statement and Analysis\\n9435    Financial Statement and Analysis\\n9461    Financial Statement and Analysis\\n9487    Financial Statement and Analysis\\n9510    Financial Statement and Analysis\\nName: 상품명칭, Length: 297, dtype: object'}\n",
            "{'A04110003001': '924     Quantitative Methods\\n947     Quantitative Methods\\n999     Quantitative Methods\\n1025    Quantitative Methods\\n1077    Quantitative Methods\\n                ...         \\n9410    Quantitative Methods\\n9436    Quantitative Methods\\n9462    Quantitative Methods\\n9488    Quantitative Methods\\n9511    Quantitative Methods\\nName: 상품명칭, Length: 297, dtype: object'}\n",
            "{'A04110004001': '925     Corporate Issuers\\n948     Corporate Issuers\\n1000    Corporate Issuers\\n1026    Corporate Issuers\\n1078    Corporate Issuers\\n              ...        \\n9411    Corporate Issuers\\n9437    Corporate Issuers\\n9463    Corporate Issuers\\n9489    Corporate Issuers\\n9512    Corporate Issuers\\nName: 상품명칭, Length: 297, dtype: object'}\n",
            "{'A04110005001': '926     Economics\\n949     Economics\\n1001    Economics\\n1027    Economics\\n1079    Economics\\n          ...    \\n9412    Economics\\n9438    Economics\\n9464    Economics\\n9490    Economics\\n9513    Economics\\nName: 상품명칭, Length: 297, dtype: object'}\n",
            "{'A04110006001': '927     Equity Investments\\n950     Equity Investments\\n1002    Equity Investments\\n1028    Equity Investments\\n1080    Equity Investments\\n               ...        \\n9413    Equity Investments\\n9439    Equity Investments\\n9465    Equity Investments\\n9491    Equity Investments\\n9514    Equity Investments\\nName: 상품명칭, Length: 297, dtype: object'}\n",
            "{'A04110007001': '928     Fixed Income\\n951     Fixed Income\\n1003    Fixed Income\\n1029    Fixed Income\\n1081    Fixed Income\\n            ...     \\n9414    Fixed Income\\n9440    Fixed Income\\n9466    Fixed Income\\n9492    Fixed Income\\n9515    Fixed Income\\nName: 상품명칭, Length: 297, dtype: object'}\n",
            "{'A04110008001': '929     Derivatives\\n952     Derivatives\\n1004    Derivatives\\n1030    Derivatives\\n1082    Derivatives\\n           ...     \\n9415    Derivatives\\n9441    Derivatives\\n9467    Derivatives\\n9493    Derivatives\\n9516    Derivatives\\nName: 상품명칭, Length: 297, dtype: object'}\n"
          ]
        }
      ]
    },
    {
      "cell_type": "code",
      "source": [
        "#접속일자\n",
        "dates = id_login_df[id_login_df[\"아이디\"] == \"UBION00019665\"][\"로그인 날짜\"]\n",
        "dates = pd.to_datetime(dates[9665])"
      ],
      "metadata": {
        "id": "GrDalMwygFGO"
      },
      "execution_count": null,
      "outputs": []
    },
    {
      "cell_type": "code",
      "source": [
        "# 연도와 월을 추출하여 새로운 DataFrame 생성\n",
        "date_df = pd.DataFrame({'year': dates.year, 'month': dates.month})\n",
        "\n",
        "# 연도와 월을 결합하여 'yyyy-mm' 형태의 문자열 Series 생성\n",
        "ym_series = date_df.apply(lambda x: '{:04d}-{:02d}'.format(x['year'], x['month']), axis=1)\n",
        "\n",
        "# 각 연/월 별 개수 카운트\n",
        "counts = ym_series.value_counts().sort_index(key=pd.to_datetime)"
      ],
      "metadata": {
        "id": "xU61FD_egzG8",
        "colab": {
          "base_uri": "https://localhost:8080/"
        },
        "outputId": "d8401eb2-d1e4-4b81-87d4-2f45f7c2af87"
      },
      "execution_count": null,
      "outputs": [
        {
          "output_type": "execute_result",
          "data": {
            "text/plain": [
              "2020-10    14\n",
              "2020-11    21\n",
              "2020-12    14\n",
              "2021-01    15\n",
              "2021-02    25\n",
              "2021-03     5\n",
              "2021-04     6\n",
              "2021-05     2\n",
              "2021-06    11\n",
              "2021-07    19\n",
              "2021-08     2\n",
              "2021-09     4\n",
              "2021-10     4\n",
              "2021-11    17\n",
              "2021-12    14\n",
              "2022-01    17\n",
              "2022-02    10\n",
              "2022-03    17\n",
              "2022-04     2\n",
              "2022-05     7\n",
              "2022-06    17\n",
              "2022-07     7\n",
              "2022-08     9\n",
              "2022-09    10\n",
              "dtype: int64"
            ]
          },
          "metadata": {},
          "execution_count": 132
        }
      ]
    },
    {
      "cell_type": "code",
      "source": [
        "#접속 분포 확인\n",
        "\n",
        "# 전체 막대 그리기\n",
        "plt.bar(counts.index, counts.values)\n",
        "\n",
        "# 색상을 변경할 막대 인덱스 설정\n",
        "highlight_idx = ['2021-02', '2021-06']\n",
        "\n",
        "# 강조할 막대 그리기\n",
        "plt.bar(highlight_idx, counts.loc[highlight_idx], color='red')\n",
        "\n",
        "plt.xticks(rotation=45, ha='right')\n",
        "plt.xlabel('year-month')\n",
        "plt.ylabel('count')\n",
        "plt.show()\n"
      ],
      "metadata": {
        "colab": {
          "base_uri": "https://localhost:8080/",
          "height": 486
        },
        "id": "MbTUu2rBmLde",
        "outputId": "72d5f0eb-23c6-4fd6-8b21-057415ea9073"
      },
      "execution_count": null,
      "outputs": [
        {
          "output_type": "display_data",
          "data": {
            "text/plain": [
              "<Figure size 640x480 with 1 Axes>"
            ],
            "image/png": "[encoded data removed]"
          },
          "metadata": {}
        }
      ]
    },
    {
      "cell_type": "code",
      "source": [
        "#결제일자\n",
        "payed[\"결제일\"].unique()"
      ],
      "metadata": {
        "colab": {
          "base_uri": "https://localhost:8080/"
        },
        "id": "lid6Z06zi2hh",
        "outputId": "cf8f1195-7055-43bc-ffda-26c5a02e746e"
      },
      "execution_count": null,
      "outputs": [
        {
          "output_type": "execute_result",
          "data": {
            "text/plain": [
              "array(['2021-02-18 00:25:50.187'], dtype=object)"
            ]
          },
          "metadata": {},
          "execution_count": 125
        }
      ]
    },
    {
      "cell_type": "markdown",
      "source": [
        "###이탈 여부"
      ],
      "metadata": {
        "id": "lUvO8E0aOrX2"
      }
    },
    {
      "cell_type": "code",
      "source": [
        "id_login_date = df4.groupby('아이디')['로그인 날짜'].unique()"
      ],
      "metadata": {
        "id": "CahvjmzNOu1s"
      },
      "execution_count": null,
      "outputs": []
    },
    {
      "cell_type": "code",
      "source": [
        "id_login_date"
      ],
      "metadata": {
        "colab": {
          "base_uri": "https://localhost:8080/"
        },
        "id": "DQY41rGTPNc0",
        "outputId": "4acb2346-9013-409e-9a33-28c8af587364"
      },
      "execution_count": null,
      "outputs": [
        {
          "output_type": "execute_result",
          "data": {
            "text/plain": [
              "아이디\n",
              "UBION00000001                            [2022-05-19]\n",
              "UBION00000002                            [2022-01-27]\n",
              "UBION00000003                [2021-11-30, 2021-09-23]\n",
              "UBION00000006                            [2021-06-19]\n",
              "UBION00000007                            [2021-03-01]\n",
              "                                 ...                 \n",
              "UBION00080232    [2021-02-10, 2021-02-09, 2021-02-07]\n",
              "UBION00080233                            [2020-11-03]\n",
              "UBION00080236                            [2021-12-01]\n",
              "UBION00080237    [2021-03-24, 2021-03-15, 2021-03-09]\n",
              "UBION00080238                            [2021-01-14]\n",
              "Name: 로그인 날짜, Length: 31316, dtype: object"
            ]
          },
          "metadata": {},
          "execution_count": 6
        }
      ]
    },
    {
      "cell_type": "code",
      "source": [
        "# 각 아이디별 마지막 로그인 날짜 계산\n",
        "id_last_login_date = df4.groupby('아이디')['로그인 날짜'].max().reset_index()"
      ],
      "metadata": {
        "id": "bUYZc4k5PUmA"
      },
      "execution_count": null,
      "outputs": []
    },
    {
      "cell_type": "code",
      "source": [
        "id_last_login_date.columns = [\"아이디\", \"마지막 로그인 날짜\"]"
      ],
      "metadata": {
        "id": "yNqM4YXGP7Nc"
      },
      "execution_count": null,
      "outputs": []
    },
    {
      "cell_type": "code",
      "source": [
        "id_last_login_date"
      ],
      "metadata": {
        "colab": {
          "base_uri": "https://localhost:8080/",
          "height": 419
        },
        "id": "rxodzy0JVear",
        "outputId": "0f0f9852-d818-4e68-fee6-7453472b46c5"
      },
      "execution_count": null,
      "outputs": [
        {
          "output_type": "execute_result",
          "data": {
            "text/plain": [
              "                 아이디  마지막 로그인 날짜\n",
              "0      UBION00000001  2022-05-19\n",
              "1      UBION00000002  2022-01-27\n",
              "2      UBION00000003  2021-11-30\n",
              "3      UBION00000006  2021-06-19\n",
              "4      UBION00000007  2021-03-01\n",
              "...              ...         ...\n",
              "31311  UBION00080232  2021-02-10\n",
              "31312  UBION00080233  2020-11-03\n",
              "31313  UBION00080236  2021-12-01\n",
              "31314  UBION00080237  2021-03-24\n",
              "31315  UBION00080238  2021-01-14\n",
              "\n",
              "[31316 rows x 2 columns]"
            ],
            "text/html": [
              "\n",
              "  <div id=\"df-dfcaffd2-38db-4eb2-99f1-7ca74d0de9da\">\n",
              "    <div class=\"colab-df-container\">\n",
              "      <div>\n",
              "<style scoped>\n",
              "    .dataframe tbody tr th:only-of-type {\n",
              "        vertical-align: middle;\n",
              "    }\n",
              "\n",
              "    .dataframe tbody tr th {\n",
              "        vertical-align: top;\n",
              "    }\n",
              "\n",
              "    .dataframe thead th {\n",
              "        text-align: right;\n",
              "    }\n",
              "</style>\n",
              "<table border=\"1\" class=\"dataframe\">\n",
              "  <thead>\n",
              "    <tr style=\"text-align: right;\">\n",
              "      <th></th>\n",
              "      <th>아이디</th>\n",
              "      <th>마지막 로그인 날짜</th>\n",
              "    </tr>\n",
              "  </thead>\n",
              "  <tbody>\n",
              "    <tr>\n",
              "      <th>0</th>\n",
              "      <td>UBION00000001</td>\n",
              "      <td>2022-05-19</td>\n",
              "    </tr>\n",
              "    <tr>\n",
              "      <th>1</th>\n",
              "      <td>UBION00000002</td>\n",
              "      <td>2022-01-27</td>\n",
              "    </tr>\n",
              "    <tr>\n",
              "      <th>2</th>\n",
              "      <td>UBION00000003</td>\n",
              "      <td>2021-11-30</td>\n",
              "    </tr>\n",
              "    <tr>\n",
              "      <th>3</th>\n",
              "      <td>UBION00000006</td>\n",
              "      <td>2021-06-19</td>\n",
              "    </tr>\n",
              "    <tr>\n",
              "      <th>4</th>\n",
              "      <td>UBION00000007</td>\n",
              "      <td>2021-03-01</td>\n",
              "    </tr>\n",
              "    <tr>\n",
              "      <th>...</th>\n",
              "      <td>...</td>\n",
              "      <td>...</td>\n",
              "    </tr>\n",
              "    <tr>\n",
              "      <th>31311</th>\n",
              "      <td>UBION00080232</td>\n",
              "      <td>2021-02-10</td>\n",
              "    </tr>\n",
              "    <tr>\n",
              "      <th>31312</th>\n",
              "      <td>UBION00080233</td>\n",
              "      <td>2020-11-03</td>\n",
              "    </tr>\n",
              "    <tr>\n",
              "      <th>31313</th>\n",
              "      <td>UBION00080236</td>\n",
              "      <td>2021-12-01</td>\n",
              "    </tr>\n",
              "    <tr>\n",
              "      <th>31314</th>\n",
              "      <td>UBION00080237</td>\n",
              "      <td>2021-03-24</td>\n",
              "    </tr>\n",
              "    <tr>\n",
              "      <th>31315</th>\n",
              "      <td>UBION00080238</td>\n",
              "      <td>2021-01-14</td>\n",
              "    </tr>\n",
              "  </tbody>\n",
              "</table>\n",
              "<p>31316 rows × 2 columns</p>\n",
              "</div>\n",
              "      <button class=\"colab-df-convert\" onclick=\"convertToInteractive('df-dfcaffd2-38db-4eb2-99f1-7ca74d0de9da')\"\n",
              "              title=\"Convert this dataframe to an interactive table.\"\n",
              "              style=\"display:none;\">\n",
              "        \n",
              "  <svg xmlns=\"http://www.w3.org/2000/svg\" height=\"24px\"viewBox=\"0 0 24 24\"\n",
              "       width=\"24px\">\n",
              "    <path d=\"M0 0h24v24H0V0z\" fill=\"none\"/>\n",
              "    <path d=\"M18.56 5.44l.94 2.06.94-2.06 2.06-.94-2.06-.94-.94-2.06-.94 2.06-2.06.94zm-11 1L8.5 8.5l.94-2.06 2.06-.94-2.06-.94L8.5 2.5l-.94 2.06-2.06.94zm10 10l.94 2.06.94-2.06 2.06-.94-2.06-.94-.94-2.06-.94 2.06-2.06.94z\"/><path d=\"M17.41 7.96l-1.37-1.37c-.4-.4-.92-.59-1.43-.59-.52 0-1.04.2-1.43.59L10.3 9.45l-7.72 7.72c-.78.78-.78 2.05 0 2.83L4 21.41c.39.39.9.59 1.41.59.51 0 1.02-.2 1.41-.59l7.78-7.78 2.81-2.81c.8-.78.8-2.07 0-2.86zM5.41 20L4 18.59l7.72-7.72 1.47 1.35L5.41 20z\"/>\n",
              "  </svg>\n",
              "      </button>\n",
              "      \n",
              "  <style>\n",
              "    .colab-df-container {\n",
              "      display:flex;\n",
              "      flex-wrap:wrap;\n",
              "      gap: 12px;\n",
              "    }\n",
              "\n",
              "    .colab-df-convert {\n",
              "      background-color: #E8F0FE;\n",
              "      border: none;\n",
              "      border-radius: 50%;\n",
              "      cursor: pointer;\n",
              "      display: none;\n",
              "      fill: #1967D2;\n",
              "      height: 32px;\n",
              "      padding: 0 0 0 0;\n",
              "      width: 32px;\n",
              "    }\n",
              "\n",
              "    .colab-df-convert:hover {\n",
              "      background-color: #E2EBFA;\n",
              "      box-shadow: 0px 1px 2px rgba(60, 64, 67, 0.3), 0px 1px 3px 1px rgba(60, 64, 67, 0.15);\n",
              "      fill: #174EA6;\n",
              "    }\n",
              "\n",
              "    [theme=dark] .colab-df-convert {\n",
              "      background-color: #3B4455;\n",
              "      fill: #D2E3FC;\n",
              "    }\n",
              "\n",
              "    [theme=dark] .colab-df-convert:hover {\n",
              "      background-color: #434B5C;\n",
              "      box-shadow: 0px 1px 3px 1px rgba(0, 0, 0, 0.15);\n",
              "      filter: drop-shadow(0px 1px 2px rgba(0, 0, 0, 0.3));\n",
              "      fill: #FFFFFF;\n",
              "    }\n",
              "  </style>\n",
              "\n",
              "      <script>\n",
              "        const buttonEl =\n",
              "          document.querySelector('#df-dfcaffd2-38db-4eb2-99f1-7ca74d0de9da button.colab-df-convert');\n",
              "        buttonEl.style.display =\n",
              "          google.colab.kernel.accessAllowed ? 'block' : 'none';\n",
              "\n",
              "        async function convertToInteractive(key) {\n",
              "          const element = document.querySelector('#df-dfcaffd2-38db-4eb2-99f1-7ca74d0de9da');\n",
              "          const dataTable =\n",
              "            await google.colab.kernel.invokeFunction('convertToInteractive',\n",
              "                                                     [key], {});\n",
              "          if (!dataTable) return;\n",
              "\n",
              "          const docLinkHtml = 'Like what you see? Visit the ' +\n",
              "            '<a target=\"_blank\" href=https://colab.research.google.com/notebooks/data_table.ipynb>data table notebook</a>'\n",
              "            + ' to learn more about interactive tables.';\n",
              "          element.innerHTML = '';\n",
              "          dataTable['output_type'] = 'display_data';\n",
              "          await google.colab.output.renderOutput(dataTable, element);\n",
              "          const docLink = document.createElement('div');\n",
              "          docLink.innerHTML = docLinkHtml;\n",
              "          element.appendChild(docLink);\n",
              "        }\n",
              "      </script>\n",
              "    </div>\n",
              "  </div>\n",
              "  "
            ]
          },
          "metadata": {},
          "execution_count": 9
        }
      ]
    },
    {
      "cell_type": "code",
      "source": [
        "# '로그인 날짜' 컬럼의 데이터 타입을 datetime으로 변경\n",
        "df4['로그인 날짜'] = pd.to_datetime(df4['로그인 날짜'])\n",
        "\n",
        "# 최초 일자와 최종 일자의 차이를 계산\n",
        "diff_days = (df4['로그인 날짜'].max() - df4['로그인 날짜'].min()).days\n",
        "\n",
        "# 결과 출력\n",
        "print('최초 일자와 최종 일자의 차이:', diff_days, '일')"
      ],
      "metadata": {
        "colab": {
          "base_uri": "https://localhost:8080/"
        },
        "id": "1hY3PQdIWd-x",
        "outputId": "79e81b2b-9402-4e67-f1ba-73b33038eaf9"
      },
      "execution_count": null,
      "outputs": [
        {
          "output_type": "stream",
          "name": "stdout",
          "text": [
            "최초 일자와 최종 일자의 차이: 729 일\n"
          ]
        }
      ]
    },
    {
      "cell_type": "code",
      "source": [
        "id_login_df = pd.DataFrame(id_login_date).reset_index()\n",
        "id_login_df.head()"
      ],
      "metadata": {
        "colab": {
          "base_uri": "https://localhost:8080/",
          "height": 204
        },
        "id": "8XFtPchYZ4ep",
        "outputId": "36e610d4-6f15-4cc9-cacf-b5f871de89e7"
      },
      "execution_count": null,
      "outputs": [
        {
          "output_type": "execute_result",
          "data": {
            "text/plain": [
              "             아이디                    로그인 날짜\n",
              "0  UBION00000001              [2022-05-19]\n",
              "1  UBION00000002              [2022-01-27]\n",
              "2  UBION00000003  [2021-11-30, 2021-09-23]\n",
              "3  UBION00000006              [2021-06-19]\n",
              "4  UBION00000007              [2021-03-01]"
            ],
            "text/html": [
              "\n",
              "  <div id=\"df-0e702e5f-b6ee-4b05-adf9-f7f4dc54df00\">\n",
              "    <div class=\"colab-df-container\">\n",
              "      <div>\n",
              "<style scoped>\n",
              "    .dataframe tbody tr th:only-of-type {\n",
              "        vertical-align: middle;\n",
              "    }\n",
              "\n",
              "    .dataframe tbody tr th {\n",
              "        vertical-align: top;\n",
              "    }\n",
              "\n",
              "    .dataframe thead th {\n",
              "        text-align: right;\n",
              "    }\n",
              "</style>\n",
              "<table border=\"1\" class=\"dataframe\">\n",
              "  <thead>\n",
              "    <tr style=\"text-align: right;\">\n",
              "      <th></th>\n",
              "      <th>아이디</th>\n",
              "      <th>로그인 날짜</th>\n",
              "    </tr>\n",
              "  </thead>\n",
              "  <tbody>\n",
              "    <tr>\n",
              "      <th>0</th>\n",
              "      <td>UBION00000001</td>\n",
              "      <td>[2022-05-19]</td>\n",
              "    </tr>\n",
              "    <tr>\n",
              "      <th>1</th>\n",
              "      <td>UBION00000002</td>\n",
              "      <td>[2022-01-27]</td>\n",
              "    </tr>\n",
              "    <tr>\n",
              "      <th>2</th>\n",
              "      <td>UBION00000003</td>\n",
              "      <td>[2021-11-30, 2021-09-23]</td>\n",
              "    </tr>\n",
              "    <tr>\n",
              "      <th>3</th>\n",
              "      <td>UBION00000006</td>\n",
              "      <td>[2021-06-19]</td>\n",
              "    </tr>\n",
              "    <tr>\n",
              "      <th>4</th>\n",
              "      <td>UBION00000007</td>\n",
              "      <td>[2021-03-01]</td>\n",
              "    </tr>\n",
              "  </tbody>\n",
              "</table>\n",
              "</div>\n",
              "      <button class=\"colab-df-convert\" onclick=\"convertToInteractive('df-0e702e5f-b6ee-4b05-adf9-f7f4dc54df00')\"\n",
              "              title=\"Convert this dataframe to an interactive table.\"\n",
              "              style=\"display:none;\">\n",
              "        \n",
              "  <svg xmlns=\"http://www.w3.org/2000/svg\" height=\"24px\"viewBox=\"0 0 24 24\"\n",
              "       width=\"24px\">\n",
              "    <path d=\"M0 0h24v24H0V0z\" fill=\"none\"/>\n",
              "    <path d=\"M18.56 5.44l.94 2.06.94-2.06 2.06-.94-2.06-.94-.94-2.06-.94 2.06-2.06.94zm-11 1L8.5 8.5l.94-2.06 2.06-.94-2.06-.94L8.5 2.5l-.94 2.06-2.06.94zm10 10l.94 2.06.94-2.06 2.06-.94-2.06-.94-.94-2.06-.94 2.06-2.06.94z\"/><path d=\"M17.41 7.96l-1.37-1.37c-.4-.4-.92-.59-1.43-.59-.52 0-1.04.2-1.43.59L10.3 9.45l-7.72 7.72c-.78.78-.78 2.05 0 2.83L4 21.41c.39.39.9.59 1.41.59.51 0 1.02-.2 1.41-.59l7.78-7.78 2.81-2.81c.8-.78.8-2.07 0-2.86zM5.41 20L4 18.59l7.72-7.72 1.47 1.35L5.41 20z\"/>\n",
              "  </svg>\n",
              "      </button>\n",
              "      \n",
              "  <style>\n",
              "    .colab-df-container {\n",
              "      display:flex;\n",
              "      flex-wrap:wrap;\n",
              "      gap: 12px;\n",
              "    }\n",
              "\n",
              "    .colab-df-convert {\n",
              "      background-color: #E8F0FE;\n",
              "      border: none;\n",
              "      border-radius: 50%;\n",
              "      cursor: pointer;\n",
              "      display: none;\n",
              "      fill: #1967D2;\n",
              "      height: 32px;\n",
              "      padding: 0 0 0 0;\n",
              "      width: 32px;\n",
              "    }\n",
              "\n",
              "    .colab-df-convert:hover {\n",
              "      background-color: #E2EBFA;\n",
              "      box-shadow: 0px 1px 2px rgba(60, 64, 67, 0.3), 0px 1px 3px 1px rgba(60, 64, 67, 0.15);\n",
              "      fill: #174EA6;\n",
              "    }\n",
              "\n",
              "    [theme=dark] .colab-df-convert {\n",
              "      background-color: #3B4455;\n",
              "      fill: #D2E3FC;\n",
              "    }\n",
              "\n",
              "    [theme=dark] .colab-df-convert:hover {\n",
              "      background-color: #434B5C;\n",
              "      box-shadow: 0px 1px 3px 1px rgba(0, 0, 0, 0.15);\n",
              "      filter: drop-shadow(0px 1px 2px rgba(0, 0, 0, 0.3));\n",
              "      fill: #FFFFFF;\n",
              "    }\n",
              "  </style>\n",
              "\n",
              "      <script>\n",
              "        const buttonEl =\n",
              "          document.querySelector('#df-0e702e5f-b6ee-4b05-adf9-f7f4dc54df00 button.colab-df-convert');\n",
              "        buttonEl.style.display =\n",
              "          google.colab.kernel.accessAllowed ? 'block' : 'none';\n",
              "\n",
              "        async function convertToInteractive(key) {\n",
              "          const element = document.querySelector('#df-0e702e5f-b6ee-4b05-adf9-f7f4dc54df00');\n",
              "          const dataTable =\n",
              "            await google.colab.kernel.invokeFunction('convertToInteractive',\n",
              "                                                     [key], {});\n",
              "          if (!dataTable) return;\n",
              "\n",
              "          const docLinkHtml = 'Like what you see? Visit the ' +\n",
              "            '<a target=\"_blank\" href=https://colab.research.google.com/notebooks/data_table.ipynb>data table notebook</a>'\n",
              "            + ' to learn more about interactive tables.';\n",
              "          element.innerHTML = '';\n",
              "          dataTable['output_type'] = 'display_data';\n",
              "          await google.colab.output.renderOutput(dataTable, element);\n",
              "          const docLink = document.createElement('div');\n",
              "          docLink.innerHTML = docLinkHtml;\n",
              "          element.appendChild(docLink);\n",
              "        }\n",
              "      </script>\n",
              "    </div>\n",
              "  </div>\n",
              "  "
            ]
          },
          "metadata": {},
          "execution_count": 11
        }
      ]
    },
    {
      "cell_type": "code",
      "source": [
        "id_login_df['이탈여부'] = id_login_df['로그인 날짜'].apply(lambda x: 1 if len(x) <= 3 else 0)"
      ],
      "metadata": {
        "id": "tc_swovJbzpK"
      },
      "execution_count": null,
      "outputs": []
    },
    {
      "cell_type": "code",
      "source": [
        "id_login_df[\"로그인 날짜\"]"
      ],
      "metadata": {
        "colab": {
          "base_uri": "https://localhost:8080/"
        },
        "id": "pxnazVU9cImM",
        "outputId": "947c4ee6-a013-42d4-fea2-7e674bfb4136"
      },
      "execution_count": null,
      "outputs": [
        {
          "output_type": "execute_result",
          "data": {
            "text/plain": [
              "16156    [2022-03-29, 2022-01-03, 2022-01-01, 2021-12-2...\n",
              "16260    [2022-02-10, 2022-02-08, 2022-02-07, 2020-12-1...\n",
              "9665     [2021-07-31, 2021-07-29, 2020-11-07, 2020-11-0...\n",
              "8242     [2020-10-07, 2020-10-04, 2021-06-29, 2021-06-2...\n",
              "11397    [2022-09-10, 2022-09-03, 2022-07-06, 2022-07-0...\n",
              "                               ...                        \n",
              "7471                                          [2021-07-10]\n",
              "7468                                          [2021-12-31]\n",
              "7467                                          [2021-03-20]\n",
              "7464                                          [2020-12-18]\n",
              "31315                                         [2021-01-14]\n",
              "Name: 로그인 날짜, Length: 31316, dtype: object"
            ]
          },
          "metadata": {},
          "execution_count": 141
        }
      ]
    },
    {
      "cell_type": "code",
      "source": [
        "#접속 빈도별 순위\n",
        "id_login_df[\"로그인 횟수\"] = id_login_df[\"로그인 날짜\"].apply(len)\n",
        "id_login_df = id_login_df.sort_values(by=[\"로그인 날짜\"], key=lambda x: x.str.len(), ascending=False)\n",
        "id_login_df.head()"
      ],
      "metadata": {
        "colab": {
          "base_uri": "https://localhost:8080/",
          "height": 204
        },
        "id": "_Tpc4h7vQzcd",
        "outputId": "beaeb7a6-1b2d-4dfb-c35b-eb2f425a746c"
      },
      "execution_count": null,
      "outputs": [
        {
          "output_type": "execute_result",
          "data": {
            "text/plain": [
              "                 아이디                                             로그인 날짜  이탈여부  \\\n",
              "16156  UBION00032809  [2022-03-29, 2022-01-03, 2022-01-01, 2021-12-2...     0   \n",
              "16260  UBION00033040  [2022-02-10, 2022-02-08, 2022-02-07, 2020-12-1...     0   \n",
              "9665   UBION00019665  [2021-07-31, 2021-07-29, 2020-11-07, 2020-11-0...     0   \n",
              "8242   UBION00016833  [2020-10-07, 2020-10-04, 2021-06-29, 2021-06-2...     0   \n",
              "11397  UBION00023152  [2022-09-10, 2022-09-03, 2022-07-06, 2022-07-0...     0   \n",
              "\n",
              "       로그인 횟수  \n",
              "16156     322  \n",
              "16260     274  \n",
              "9665      269  \n",
              "8242      231  \n",
              "11397     213  "
            ],
            "text/html": [
              "\n",
              "  <div id=\"df-2c5d442d-8e57-4d26-b3e1-663bd8c0a287\">\n",
              "    <div class=\"colab-df-container\">\n",
              "      <div>\n",
              "<style scoped>\n",
              "    .dataframe tbody tr th:only-of-type {\n",
              "        vertical-align: middle;\n",
              "    }\n",
              "\n",
              "    .dataframe tbody tr th {\n",
              "        vertical-align: top;\n",
              "    }\n",
              "\n",
              "    .dataframe thead th {\n",
              "        text-align: right;\n",
              "    }\n",
              "</style>\n",
              "<table border=\"1\" class=\"dataframe\">\n",
              "  <thead>\n",
              "    <tr style=\"text-align: right;\">\n",
              "      <th></th>\n",
              "      <th>아이디</th>\n",
              "      <th>로그인 날짜</th>\n",
              "      <th>이탈여부</th>\n",
              "      <th>로그인 횟수</th>\n",
              "    </tr>\n",
              "  </thead>\n",
              "  <tbody>\n",
              "    <tr>\n",
              "      <th>16156</th>\n",
              "      <td>UBION00032809</td>\n",
              "      <td>[2022-03-29, 2022-01-03, 2022-01-01, 2021-12-2...</td>\n",
              "      <td>0</td>\n",
              "      <td>322</td>\n",
              "    </tr>\n",
              "    <tr>\n",
              "      <th>16260</th>\n",
              "      <td>UBION00033040</td>\n",
              "      <td>[2022-02-10, 2022-02-08, 2022-02-07, 2020-12-1...</td>\n",
              "      <td>0</td>\n",
              "      <td>274</td>\n",
              "    </tr>\n",
              "    <tr>\n",
              "      <th>9665</th>\n",
              "      <td>UBION00019665</td>\n",
              "      <td>[2021-07-31, 2021-07-29, 2020-11-07, 2020-11-0...</td>\n",
              "      <td>0</td>\n",
              "      <td>269</td>\n",
              "    </tr>\n",
              "    <tr>\n",
              "      <th>8242</th>\n",
              "      <td>UBION00016833</td>\n",
              "      <td>[2020-10-07, 2020-10-04, 2021-06-29, 2021-06-2...</td>\n",
              "      <td>0</td>\n",
              "      <td>231</td>\n",
              "    </tr>\n",
              "    <tr>\n",
              "      <th>11397</th>\n",
              "      <td>UBION00023152</td>\n",
              "      <td>[2022-09-10, 2022-09-03, 2022-07-06, 2022-07-0...</td>\n",
              "      <td>0</td>\n",
              "      <td>213</td>\n",
              "    </tr>\n",
              "  </tbody>\n",
              "</table>\n",
              "</div>\n",
              "      <button class=\"colab-df-convert\" onclick=\"convertToInteractive('df-2c5d442d-8e57-4d26-b3e1-663bd8c0a287')\"\n",
              "              title=\"Convert this dataframe to an interactive table.\"\n",
              "              style=\"display:none;\">\n",
              "        \n",
              "  <svg xmlns=\"http://www.w3.org/2000/svg\" height=\"24px\"viewBox=\"0 0 24 24\"\n",
              "       width=\"24px\">\n",
              "    <path d=\"M0 0h24v24H0V0z\" fill=\"none\"/>\n",
              "    <path d=\"M18.56 5.44l.94 2.06.94-2.06 2.06-.94-2.06-.94-.94-2.06-.94 2.06-2.06.94zm-11 1L8.5 8.5l.94-2.06 2.06-.94-2.06-.94L8.5 2.5l-.94 2.06-2.06.94zm10 10l.94 2.06.94-2.06 2.06-.94-2.06-.94-.94-2.06-.94 2.06-2.06.94z\"/><path d=\"M17.41 7.96l-1.37-1.37c-.4-.4-.92-.59-1.43-.59-.52 0-1.04.2-1.43.59L10.3 9.45l-7.72 7.72c-.78.78-.78 2.05 0 2.83L4 21.41c.39.39.9.59 1.41.59.51 0 1.02-.2 1.41-.59l7.78-7.78 2.81-2.81c.8-.78.8-2.07 0-2.86zM5.41 20L4 18.59l7.72-7.72 1.47 1.35L5.41 20z\"/>\n",
              "  </svg>\n",
              "      </button>\n",
              "      \n",
              "  <style>\n",
              "    .colab-df-container {\n",
              "      display:flex;\n",
              "      flex-wrap:wrap;\n",
              "      gap: 12px;\n",
              "    }\n",
              "\n",
              "    .colab-df-convert {\n",
              "      background-color: #E8F0FE;\n",
              "      border: none;\n",
              "      border-radius: 50%;\n",
              "      cursor: pointer;\n",
              "      display: none;\n",
              "      fill: #1967D2;\n",
              "      height: 32px;\n",
              "      padding: 0 0 0 0;\n",
              "      width: 32px;\n",
              "    }\n",
              "\n",
              "    .colab-df-convert:hover {\n",
              "      background-color: #E2EBFA;\n",
              "      box-shadow: 0px 1px 2px rgba(60, 64, 67, 0.3), 0px 1px 3px 1px rgba(60, 64, 67, 0.15);\n",
              "      fill: #174EA6;\n",
              "    }\n",
              "\n",
              "    [theme=dark] .colab-df-convert {\n",
              "      background-color: #3B4455;\n",
              "      fill: #D2E3FC;\n",
              "    }\n",
              "\n",
              "    [theme=dark] .colab-df-convert:hover {\n",
              "      background-color: #434B5C;\n",
              "      box-shadow: 0px 1px 3px 1px rgba(0, 0, 0, 0.15);\n",
              "      filter: drop-shadow(0px 1px 2px rgba(0, 0, 0, 0.3));\n",
              "      fill: #FFFFFF;\n",
              "    }\n",
              "  </style>\n",
              "\n",
              "      <script>\n",
              "        const buttonEl =\n",
              "          document.querySelector('#df-2c5d442d-8e57-4d26-b3e1-663bd8c0a287 button.colab-df-convert');\n",
              "        buttonEl.style.display =\n",
              "          google.colab.kernel.accessAllowed ? 'block' : 'none';\n",
              "\n",
              "        async function convertToInteractive(key) {\n",
              "          const element = document.querySelector('#df-2c5d442d-8e57-4d26-b3e1-663bd8c0a287');\n",
              "          const dataTable =\n",
              "            await google.colab.kernel.invokeFunction('convertToInteractive',\n",
              "                                                     [key], {});\n",
              "          if (!dataTable) return;\n",
              "\n",
              "          const docLinkHtml = 'Like what you see? Visit the ' +\n",
              "            '<a target=\"_blank\" href=https://colab.research.google.com/notebooks/data_table.ipynb>data table notebook</a>'\n",
              "            + ' to learn more about interactive tables.';\n",
              "          element.innerHTML = '';\n",
              "          dataTable['output_type'] = 'display_data';\n",
              "          await google.colab.output.renderOutput(dataTable, element);\n",
              "          const docLink = document.createElement('div');\n",
              "          docLink.innerHTML = docLinkHtml;\n",
              "          element.appendChild(docLink);\n",
              "        }\n",
              "      </script>\n",
              "    </div>\n",
              "  </div>\n",
              "  "
            ]
          },
          "metadata": {},
          "execution_count": 142
        }
      ]
    },
    {
      "cell_type": "code",
      "source": [
        "login_count_df['로그인 횟수'].value_counts()"
      ],
      "metadata": {
        "colab": {
          "base_uri": "https://localhost:8080/"
        },
        "id": "Ppfg2rLuzJBz",
        "outputId": "6d1283db-1618-4ee9-d617-d17129859d28"
      },
      "execution_count": null,
      "outputs": [
        {
          "output_type": "execute_result",
          "data": {
            "text/plain": [
              "1      14431\n",
              "2       4523\n",
              "3       2153\n",
              "4       1357\n",
              "5        962\n",
              "       ...  \n",
              "231        1\n",
              "141        1\n",
              "119        1\n",
              "122        1\n",
              "163        1\n",
              "Name: 로그인 횟수, Length: 145, dtype: int64"
            ]
          },
          "metadata": {},
          "execution_count": 146
        }
      ]
    },
    {
      "cell_type": "code",
      "source": [
        "#접속 빈도 분포\n",
        "login_count_df = id_login_df.groupby('아이디')['로그인 횟수'].sum().reset_index()\n",
        "login_count_freq = login_count_df['로그인 횟수'].value_counts()\n",
        "\n",
        "plt.bar(login_count_freq.index, login_count_freq.values)\n",
        "plt.xlabel('login number')\n",
        "plt.ylabel('freq')\n",
        "plt.show()"
      ],
      "metadata": {
        "colab": {
          "base_uri": "https://localhost:8080/",
          "height": 449
        },
        "id": "2UuiR-HcWwXk",
        "outputId": "6bef15d4-e0cd-4f38-c958-72ac9b4926bb"
      },
      "execution_count": null,
      "outputs": [
        {
          "output_type": "display_data",
          "data": {
            "text/plain": [
              "<Figure size 640x480 with 1 Axes>"
            ],
            "image/png": "[encoded data removed]"
          },
          "metadata": {}
        }
      ]
    },
    {
      "cell_type": "markdown",
      "source": [
        "#마케팅 퍼널별 고객분류"
      ],
      "metadata": {
        "id": "9j29CFEwnLix"
      }
    },
    {
      "cell_type": "markdown",
      "source": [
        "##인지\n",
        ": 광고 등에 노출되어 브랜드에 흥미를 갖는 고객"
      ],
      "metadata": {
        "id": "in9qkqHsnSkL"
      }
    },
    {
      "cell_type": "markdown",
      "source": [
        "###유입경로\n",
        "\n"
      ],
      "metadata": {
        "id": "Bm9qU_6N1log"
      }
    },
    {
      "cell_type": "markdown",
      "source": [
        "전체기간"
      ],
      "metadata": {
        "id": "NwLLWU7oIRiw"
      }
    },
    {
      "cell_type": "code",
      "source": [
        "#고객 유입경로 df생성\n",
        "df_recog = df1[[\"알게된 경로1\", \"알게된 경로2\"]]"
      ],
      "metadata": {
        "id": "k6SRSh-FoNMr"
      },
      "execution_count": null,
      "outputs": []
    },
    {
      "cell_type": "code",
      "source": [
        "# 각 시리즈에서 고유한 값의 등장 횟수 확인\n",
        "counts_1 = df_recog[\"알게된 경로1\"].value_counts()\n",
        "counts_2 = df_recog[\"알게된 경로2\"].value_counts()\n",
        "\n",
        "# 두 시리즈에서 모든 고유한 값의 등장 횟수를 더한 결과 확인\n",
        "results = counts_1.add(counts_2, fill_value=0)\n",
        "\n",
        "# 결과를 빈도 크기 순으로 정렬\n",
        "results = results.sort_values(ascending=False)\n",
        "print(results)"
      ],
      "metadata": {
        "colab": {
          "base_uri": "https://localhost:8080/"
        },
        "id": "j38JmW2-rl0D",
        "outputId": "0e2988ca-0054-4034-984b-f4c48d0801f5"
      },
      "execution_count": null,
      "outputs": [
        {
          "output_type": "stream",
          "name": "stdout",
          "text": [
            "-           44754.0\n",
            "기타            760.0\n",
            "네이버           691.0\n",
            "블로그           206.0\n",
            "교재구매          149.0\n",
            "와우패스 수강생      128.0\n",
            "구글             83.0\n",
            "다음             71.0\n",
            "카페             63.0\n",
            "배너광고           57.0\n",
            "네이트            49.0\n",
            "키워드 광고         48.0\n",
            "지식인            24.0\n",
            "버스.지하철광고       16.0\n",
            "타기관 수강생        15.0\n",
            "인터넷뉴스          13.0\n",
            "신문뉴스            8.0\n",
            "전단지             7.0\n",
            "신문광고            6.0\n",
            "패밀리사이트          4.0\n",
            "페이스북            2.0\n",
            "TV 라디오광고        1.0\n",
            "TV 라디오방송        1.0\n",
            "dtype: float64\n"
          ]
        }
      ]
    },
    {
      "cell_type": "code",
      "source": [
        "results.sum()"
      ],
      "metadata": {
        "colab": {
          "base_uri": "https://localhost:8080/"
        },
        "id": "MZgmYApzoS4y",
        "outputId": "cb755b11-c244-42c5-9949-9e8b1cd06c7c"
      },
      "execution_count": null,
      "outputs": [
        {
          "output_type": "execute_result",
          "data": {
            "text/plain": [
              "47156.0"
            ]
          },
          "metadata": {},
          "execution_count": 8
        }
      ]
    },
    {
      "cell_type": "code",
      "source": [
        "47156-44754.0-760.0"
      ],
      "metadata": {
        "colab": {
          "base_uri": "https://localhost:8080/"
        },
        "id": "QD1thDcQoXpR",
        "outputId": "ccf2a39d-2431-4d4b-edad-758fbea38891"
      },
      "execution_count": null,
      "outputs": [
        {
          "output_type": "execute_result",
          "data": {
            "text/plain": [
              "1642.0"
            ]
          },
          "metadata": {},
          "execution_count": 10
        }
      ]
    },
    {
      "cell_type": "code",
      "source": [
        "1642.0"
      ],
      "metadata": {
        "colab": {
          "base_uri": "https://localhost:8080/"
        },
        "id": "AYkyHo-sod93",
        "outputId": "19fe36fc-dfda-4fe3-93e9-3f02f19a4d73"
      },
      "execution_count": null,
      "outputs": [
        {
          "output_type": "execute_result",
          "data": {
            "text/plain": [
              "1642.0"
            ]
          },
          "metadata": {},
          "execution_count": 11
        }
      ]
    },
    {
      "cell_type": "code",
      "source": [
        "#네이버 검색량\n",
        "df_naver = pd.read_excel(\"/content/drive/MyDrive/데이터분석/유비온/와우패스 데이터/와우패스검색량_naver.xlsx\")\n",
        "df_naver.drop(range(0, 6), inplace=True)\n",
        "df_naver"
      ],
      "metadata": {
        "colab": {
          "base_uri": "https://localhost:8080/",
          "height": 473
        },
        "id": "rstYU9ybzB-j",
        "outputId": "5375246c-27f4-4c7b-d9d0-8f944d0309ea"
      },
      "execution_count": null,
      "outputs": [
        {
          "output_type": "stream",
          "name": "stderr",
          "text": [
            "/usr/local/lib/python3.10/dist-packages/openpyxl/styles/stylesheet.py:226: UserWarning: Workbook contains no default style, apply openpyxl's default\n",
            "  warn(\"Workbook contains no default style, apply openpyxl's default\")\n"
          ]
        },
        {
          "output_type": "execute_result",
          "data": {
            "text/plain": [
              "            url  \\\n",
              "6    2020-10-01   \n",
              "7    2020-10-02   \n",
              "8    2020-10-03   \n",
              "9    2020-10-04   \n",
              "10   2020-10-05   \n",
              "..          ...   \n",
              "731  2022-09-26   \n",
              "732  2022-09-27   \n",
              "733  2022-09-28   \n",
              "734  2022-09-29   \n",
              "735  2022-09-30   \n",
              "\n",
              "    http://datalab.naver.com/keyword/trendResult.naver?hashKey=N_74b2716f48c87d2e7b5f62460fbc4eac  \n",
              "6                                             13.32357                                             \n",
              "7                                             15.61737                                             \n",
              "8                                             15.51976                                             \n",
              "9                                             19.81454                                             \n",
              "10                                            34.60224                                             \n",
              "..                                                 ...                                             \n",
              "731                                           20.69302                                             \n",
              "732                                           18.10639                                             \n",
              "733                                           15.61737                                             \n",
              "734                                           15.86139                                             \n",
              "735                                           12.83552                                             \n",
              "\n",
              "[730 rows x 2 columns]"
            ],
            "text/html": [
              "\n",
              "  <div id=\"df-27870bcb-5b49-4c96-a346-54032905cdb8\">\n",
              "    <div class=\"colab-df-container\">\n",
              "      <div>\n",
              "<style scoped>\n",
              "    .dataframe tbody tr th:only-of-type {\n",
              "        vertical-align: middle;\n",
              "    }\n",
              "\n",
              "    .dataframe tbody tr th {\n",
              "        vertical-align: top;\n",
              "    }\n",
              "\n",
              "    .dataframe thead th {\n",
              "        text-align: right;\n",
              "    }\n",
              "</style>\n",
              "<table border=\"1\" class=\"dataframe\">\n",
              "  <thead>\n",
              "    <tr style=\"text-align: right;\">\n",
              "      <th></th>\n",
              "      <th>url</th>\n",
              "      <th>http://datalab.naver.com/keyword/trendResult.naver?hashKey=N_74b2716f48c87d2e7b5f62460fbc4eac</th>\n",
              "    </tr>\n",
              "  </thead>\n",
              "  <tbody>\n",
              "    <tr>\n",
              "      <th>6</th>\n",
              "      <td>2020-10-01</td>\n",
              "      <td>13.32357</td>\n",
              "    </tr>\n",
              "    <tr>\n",
              "      <th>7</th>\n",
              "      <td>2020-10-02</td>\n",
              "      <td>15.61737</td>\n",
              "    </tr>\n",
              "    <tr>\n",
              "      <th>8</th>\n",
              "      <td>2020-10-03</td>\n",
              "      <td>15.51976</td>\n",
              "    </tr>\n",
              "    <tr>\n",
              "      <th>9</th>\n",
              "      <td>2020-10-04</td>\n",
              "      <td>19.81454</td>\n",
              "    </tr>\n",
              "    <tr>\n",
              "      <th>10</th>\n",
              "      <td>2020-10-05</td>\n",
              "      <td>34.60224</td>\n",
              "    </tr>\n",
              "    <tr>\n",
              "      <th>...</th>\n",
              "      <td>...</td>\n",
              "      <td>...</td>\n",
              "    </tr>\n",
              "    <tr>\n",
              "      <th>731</th>\n",
              "      <td>2022-09-26</td>\n",
              "      <td>20.69302</td>\n",
              "    </tr>\n",
              "    <tr>\n",
              "      <th>732</th>\n",
              "      <td>2022-09-27</td>\n",
              "      <td>18.10639</td>\n",
              "    </tr>\n",
              "    <tr>\n",
              "      <th>733</th>\n",
              "      <td>2022-09-28</td>\n",
              "      <td>15.61737</td>\n",
              "    </tr>\n",
              "    <tr>\n",
              "      <th>734</th>\n",
              "      <td>2022-09-29</td>\n",
              "      <td>15.86139</td>\n",
              "    </tr>\n",
              "    <tr>\n",
              "      <th>735</th>\n",
              "      <td>2022-09-30</td>\n",
              "      <td>12.83552</td>\n",
              "    </tr>\n",
              "  </tbody>\n",
              "</table>\n",
              "<p>730 rows × 2 columns</p>\n",
              "</div>\n",
              "      <button class=\"colab-df-convert\" onclick=\"convertToInteractive('df-27870bcb-5b49-4c96-a346-54032905cdb8')\"\n",
              "              title=\"Convert this dataframe to an interactive table.\"\n",
              "              style=\"display:none;\">\n",
              "        \n",
              "  <svg xmlns=\"http://www.w3.org/2000/svg\" height=\"24px\"viewBox=\"0 0 24 24\"\n",
              "       width=\"24px\">\n",
              "    <path d=\"M0 0h24v24H0V0z\" fill=\"none\"/>\n",
              "    <path d=\"M18.56 5.44l.94 2.06.94-2.06 2.06-.94-2.06-.94-.94-2.06-.94 2.06-2.06.94zm-11 1L8.5 8.5l.94-2.06 2.06-.94-2.06-.94L8.5 2.5l-.94 2.06-2.06.94zm10 10l.94 2.06.94-2.06 2.06-.94-2.06-.94-.94-2.06-.94 2.06-2.06.94z\"/><path d=\"M17.41 7.96l-1.37-1.37c-.4-.4-.92-.59-1.43-.59-.52 0-1.04.2-1.43.59L10.3 9.45l-7.72 7.72c-.78.78-.78 2.05 0 2.83L4 21.41c.39.39.9.59 1.41.59.51 0 1.02-.2 1.41-.59l7.78-7.78 2.81-2.81c.8-.78.8-2.07 0-2.86zM5.41 20L4 18.59l7.72-7.72 1.47 1.35L5.41 20z\"/>\n",
              "  </svg>\n",
              "      </button>\n",
              "      \n",
              "  <style>\n",
              "    .colab-df-container {\n",
              "      display:flex;\n",
              "      flex-wrap:wrap;\n",
              "      gap: 12px;\n",
              "    }\n",
              "\n",
              "    .colab-df-convert {\n",
              "      background-color: #E8F0FE;\n",
              "      border: none;\n",
              "      border-radius: 50%;\n",
              "      cursor: pointer;\n",
              "      display: none;\n",
              "      fill: #1967D2;\n",
              "      height: 32px;\n",
              "      padding: 0 0 0 0;\n",
              "      width: 32px;\n",
              "    }\n",
              "\n",
              "    .colab-df-convert:hover {\n",
              "      background-color: #E2EBFA;\n",
              "      box-shadow: 0px 1px 2px rgba(60, 64, 67, 0.3), 0px 1px 3px 1px rgba(60, 64, 67, 0.15);\n",
              "      fill: #174EA6;\n",
              "    }\n",
              "\n",
              "    [theme=dark] .colab-df-convert {\n",
              "      background-color: #3B4455;\n",
              "      fill: #D2E3FC;\n",
              "    }\n",
              "\n",
              "    [theme=dark] .colab-df-convert:hover {\n",
              "      background-color: #434B5C;\n",
              "      box-shadow: 0px 1px 3px 1px rgba(0, 0, 0, 0.15);\n",
              "      filter: drop-shadow(0px 1px 2px rgba(0, 0, 0, 0.3));\n",
              "      fill: #FFFFFF;\n",
              "    }\n",
              "  </style>\n",
              "\n",
              "      <script>\n",
              "        const buttonEl =\n",
              "          document.querySelector('#df-27870bcb-5b49-4c96-a346-54032905cdb8 button.colab-df-convert');\n",
              "        buttonEl.style.display =\n",
              "          google.colab.kernel.accessAllowed ? 'block' : 'none';\n",
              "\n",
              "        async function convertToInteractive(key) {\n",
              "          const element = document.querySelector('#df-27870bcb-5b49-4c96-a346-54032905cdb8');\n",
              "          const dataTable =\n",
              "            await google.colab.kernel.invokeFunction('convertToInteractive',\n",
              "                                                     [key], {});\n",
              "          if (!dataTable) return;\n",
              "\n",
              "          const docLinkHtml = 'Like what you see? Visit the ' +\n",
              "            '<a target=\"_blank\" href=https://colab.research.google.com/notebooks/data_table.ipynb>data table notebook</a>'\n",
              "            + ' to learn more about interactive tables.';\n",
              "          element.innerHTML = '';\n",
              "          dataTable['output_type'] = 'display_data';\n",
              "          await google.colab.output.renderOutput(dataTable, element);\n",
              "          const docLink = document.createElement('div');\n",
              "          docLink.innerHTML = docLinkHtml;\n",
              "          element.appendChild(docLink);\n",
              "        }\n",
              "      </script>\n",
              "    </div>\n",
              "  </div>\n",
              "  "
            ]
          },
          "metadata": {},
          "execution_count": 284
        }
      ]
    },
    {
      "cell_type": "code",
      "source": [
        "df_naver.rename(columns={\n",
        "    'url': 'date',\n",
        "    'http://datalab.naver.com/keyword/trendResult.naver?hashKey=N_74b2716f48c87d2e7b5f62460fbc4eac': 'counts'\n",
        "}, inplace=True)"
      ],
      "metadata": {
        "id": "66W0NGspzqeA"
      },
      "execution_count": null,
      "outputs": []
    },
    {
      "cell_type": "code",
      "source": [
        "df_naver['counts'] = df_naver['counts'].astype(float)  # 실수형으로 변경\n",
        "search_sum = df_naver[\"counts\"].sum()"
      ],
      "metadata": {
        "id": "dYqTv6kA0XgY"
      },
      "execution_count": null,
      "outputs": []
    },
    {
      "cell_type": "code",
      "source": [
        "search_join = results[\"네이버\"]/search_sum*100\n",
        "search_join"
      ],
      "metadata": {
        "colab": {
          "base_uri": "https://localhost:8080/"
        },
        "id": "J9RAERrJ04w9",
        "outputId": "31eec7b2-ca9c-435e-a5c6-23ad3d2c8de1"
      },
      "execution_count": null,
      "outputs": [
        {
          "output_type": "execute_result",
          "data": {
            "text/plain": [
              "4.707667821824341"
            ]
          },
          "metadata": {},
          "execution_count": 287
        }
      ]
    },
    {
      "cell_type": "markdown",
      "source": [
        "##관심\n",
        ": 브랜드에 유입되어 유사 브랜드와 차별점을 비교하는 등 구매를 고려하는 고객"
      ],
      "metadata": {
        "id": "4FNsoy4XnWXY"
      }
    },
    {
      "cell_type": "markdown",
      "source": [
        "###인구통계학적 특성\n",
        "\n"
      ],
      "metadata": {
        "id": "xm9vGvQ8-ZNH"
      }
    },
    {
      "cell_type": "markdown",
      "source": [
        "연령 : 2030"
      ],
      "metadata": {
        "id": "Lek1daFC_g7N"
      }
    },
    {
      "cell_type": "code",
      "source": [
        "df_age = pd.DataFrame()\n",
        "df_age[\"birth\"] = df1[\"출생년도\"]\n",
        "df_age[\"join\"] = pd.to_datetime(df1[\"가입일\"])\n",
        "\n",
        "df_age = df_age.drop(df_age[df_age.birth == '-'].index)\n",
        "df_age.reset_index()\n",
        "\n",
        "birth = pd.to_numeric(df_age[\"birth\"], errors='coerce')\n",
        "join = df_age[\"join\"].dt.year\n",
        "\n",
        "df_age[\"age\"] = join - birth\n",
        "df_age['age_group'] = pd.cut(df_age['age'], bins=[0, 19, 29, 39, 49], labels=['10대', '20대', '30대', '40대 이상'])\n",
        "df_age[\"age_group\"].value_counts()\n",
        "\n",
        "df1[\"나이\"] = df_age[\"age\"]\n",
        "df1[\"나이대\"] = df_age[\"age_group\"]\n",
        "\n",
        "df1[\"나이대\"].value_counts()"
      ],
      "metadata": {
        "colab": {
          "base_uri": "https://localhost:8080/"
        },
        "id": "XFW_96kp-fsv",
        "outputId": "36e54aa2-26d2-4150-f900-e9c9d7229556"
      },
      "execution_count": null,
      "outputs": [
        {
          "output_type": "execute_result",
          "data": {
            "text/plain": [
              "20대       8986\n",
              "30대       4117\n",
              "40대 이상    1937\n",
              "10대        744\n",
              "Name: 나이대, dtype: int64"
            ]
          },
          "metadata": {},
          "execution_count": 11
        }
      ]
    },
    {
      "cell_type": "markdown",
      "source": [
        "지역 : 경기도"
      ],
      "metadata": {
        "id": "5XBmcW7A_jS_"
      }
    },
    {
      "cell_type": "code",
      "source": [
        "df_loc = df1[\"주소1\"]\n",
        "df_loc.value_counts()"
      ],
      "metadata": {
        "colab": {
          "base_uri": "https://localhost:8080/"
        },
        "id": "W59ij6OlkFMJ",
        "outputId": "ad9e5c9a-2bc3-486a-f066-557a7ea04c2c"
      },
      "execution_count": null,
      "outputs": [
        {
          "output_type": "execute_result",
          "data": {
            "text/plain": [
              "-          22165\n",
              "경기도          493\n",
              "부산광역시        151\n",
              "경상남도         107\n",
              "인천광역시         97\n",
              "대구광역시         92\n",
              "경상북도          74\n",
              "충청남도          59\n",
              "광주광역시         53\n",
              "전라남도          51\n",
              "대전광역시         48\n",
              "충청북도          48\n",
              "전라북도          47\n",
              "강원도           32\n",
              "울산광역시         32\n",
              "세종특별자치시       15\n",
              "제주특별자치도       14\n",
              "Name: 주소1, dtype: int64"
            ]
          },
          "metadata": {},
          "execution_count": 12
        }
      ]
    },
    {
      "cell_type": "markdown",
      "source": [
        "직업 : 직장인"
      ],
      "metadata": {
        "id": "M5mDxms2_kiN"
      }
    },
    {
      "cell_type": "code",
      "source": [
        "988/1360*100"
      ],
      "metadata": {
        "colab": {
          "base_uri": "https://localhost:8080/"
        },
        "id": "NzVgtuWD3DES",
        "outputId": "309f4cf2-a06f-4a6c-d4a2-5545effcab7d"
      },
      "execution_count": null,
      "outputs": [
        {
          "output_type": "execute_result",
          "data": {
            "text/plain": [
              "72.6470588235294"
            ]
          },
          "metadata": {},
          "execution_count": 23
        }
      ]
    },
    {
      "cell_type": "markdown",
      "source": [
        "직업별 특성"
      ],
      "metadata": {
        "id": "EJKIdpeeEvsZ"
      }
    },
    {
      "cell_type": "code",
      "source": [
        "#df\n",
        "student = df1[df1[\"직업\"]==\"학생\"]\n",
        "worker = df1[df1[\"직업\"]==\"직장인\"]"
      ],
      "metadata": {
        "id": "X47lOXYME04j"
      },
      "execution_count": null,
      "outputs": []
    },
    {
      "cell_type": "code",
      "source": [
        "#age\n",
        "print(student[\"나이\"].value_counts())\n",
        "print(worker[\"나이\"].value_counts())"
      ],
      "metadata": {
        "colab": {
          "base_uri": "https://localhost:8080/"
        },
        "id": "podjGBdvFr61",
        "outputId": "cf24202e-e0a6-47ff-dc27-2fa13d3ba6a9"
      },
      "execution_count": null,
      "outputs": [
        {
          "output_type": "stream",
          "name": "stdout",
          "text": [
            "24.0    58\n",
            "25.0    57\n",
            "23.0    55\n",
            "22.0    41\n",
            "26.0    26\n",
            "21.0    24\n",
            "20.0    22\n",
            "27.0    19\n",
            "28.0    12\n",
            "18.0    10\n",
            "17.0     9\n",
            "30.0     5\n",
            "16.0     5\n",
            "19.0     4\n",
            "15.0     4\n",
            "33.0     3\n",
            "35.0     2\n",
            "29.0     2\n",
            "52.0     1\n",
            "40.0     1\n",
            "39.0     1\n",
            "47.0     1\n",
            "31.0     1\n",
            "49.0     1\n",
            "62.0     1\n",
            "58.0     1\n",
            "Name: 나이, dtype: int64\n",
            "28.0    48\n",
            "31.0    45\n",
            "27.0    45\n",
            "25.0    41\n",
            "29.0    41\n",
            "42.0    39\n",
            "32.0    39\n",
            "30.0    38\n",
            "26.0    34\n",
            "45.0    31\n",
            "33.0    30\n",
            "40.0    30\n",
            "24.0    28\n",
            "37.0    27\n",
            "35.0    27\n",
            "43.0    27\n",
            "39.0    26\n",
            "41.0    26\n",
            "34.0    26\n",
            "38.0    25\n",
            "48.0    25\n",
            "51.0    22\n",
            "36.0    21\n",
            "49.0    20\n",
            "46.0    19\n",
            "52.0    18\n",
            "44.0    17\n",
            "55.0    16\n",
            "50.0    15\n",
            "47.0    14\n",
            "57.0    13\n",
            "56.0    13\n",
            "53.0    10\n",
            "23.0    10\n",
            "22.0     7\n",
            "58.0     6\n",
            "54.0     6\n",
            "60.0     5\n",
            "62.0     5\n",
            "20.0     4\n",
            "21.0     3\n",
            "64.0     2\n",
            "66.0     2\n",
            "63.0     1\n",
            "59.0     1\n",
            "68.0     1\n",
            "61.0     1\n",
            "18.0     1\n",
            "Name: 나이, dtype: int64\n"
          ]
        }
      ]
    },
    {
      "cell_type": "code",
      "source": [
        "#관심자격\n",
        "print(student[\"관심자격1\"].value_counts())\n",
        "print(worker[\"관심자격1\"].value_counts())"
      ],
      "metadata": {
        "colab": {
          "base_uri": "https://localhost:8080/"
        },
        "id": "vXEi5n2oGVFj",
        "outputId": "ec5bf9da-b069-4bdc-9325-647fabbe85d4"
      },
      "execution_count": null,
      "outputs": [
        {
          "output_type": "stream",
          "name": "stdout",
          "text": [
            "AFPK           55\n",
            "신용분석사          50\n",
            "국제무역사 1급       22\n",
            "CFA            22\n",
            "투자자산운용사        22\n",
            "전산세무회계         20\n",
            "공기업 대비         14\n",
            "외환전문역 1종       14\n",
            "사회조사분석사        13\n",
            "펀드투자권유대행인      10\n",
            "은행텔러            9\n",
            "무역영어            8\n",
            "금융NCS           8\n",
            "재경관리사           7\n",
            "AT              7\n",
            "매경TEST          7\n",
            "TESAT           7\n",
            "청소년상담사          7\n",
            "-               7\n",
            "자산관리사(은행FP)     7\n",
            "유통관리사           6\n",
            "금융DT            6\n",
            "CFP             6\n",
            "빅데이터분석기사        5\n",
            "NCS 직업기초능력      5\n",
            "물류관리사           3\n",
            "임상심리사           3\n",
            "펀드투자권유자문인력      3\n",
            "경영지도사           3\n",
            "증권투자권유대행인       2\n",
            "외환전문역 2종        2\n",
            "직업상담사           2\n",
            "증권투자권유자문인력      2\n",
            "CDCS            2\n",
            "금융권 대비          2\n",
            "파생투자권유자문인력      1\n",
            "사회복지사           1\n",
            "검색광고마케터         1\n",
            "면접              1\n",
            "Name: 관심자격1, dtype: int64\n",
            "전산세무회계         120\n",
            "경영지도사          106\n",
            "신용분석사           89\n",
            "투자자산운용사         55\n",
            "파생투자권유자문인력      48\n",
            "AT              45\n",
            "재경관리사           37\n",
            "AFPK            33\n",
            "펀드투자권유대행인       31\n",
            "외환전문역 1종        30\n",
            "CFA             30\n",
            "은행텔러            29\n",
            "자산관리사(은행FP)     29\n",
            "펀드투자권유자문인력      26\n",
            "국제무역사 1급        25\n",
            "직업상담사           24\n",
            "증권투자권유대행인       22\n",
            "무역영어            20\n",
            "증권투자권유자문인력      19\n",
            "물류관리사           17\n",
            "-               16\n",
            "빅데이터분석기사        13\n",
            "외환전문역 2종        13\n",
            "사회조사분석사         12\n",
            "금융DT            10\n",
            "매경TEST           9\n",
            "NCS 직업기초능력       8\n",
            "보세사              8\n",
            "공기업 대비           8\n",
            "유통관리사            8\n",
            "CDCS             7\n",
            "청소년상담사           6\n",
            "변액보험판매관리사        5\n",
            "ADsP             5\n",
            "금융NCS            5\n",
            "CFP              5\n",
            "TESAT            4\n",
            "금융권 대비           4\n",
            "마이데이터            2\n",
            "면접               2\n",
            "코딩교육             1\n",
            "대기업 대비           1\n",
            "원산지실무사           1\n",
            "Name: 관심자격1, dtype: int64\n"
          ]
        }
      ]
    },
    {
      "cell_type": "code",
      "source": [
        "#지역\n",
        "print(student[\"주소1\"].value_counts())\n",
        "print(worker[\"주소1\"].value_counts())"
      ],
      "metadata": {
        "id": "g8TvdnNrHRow",
        "colab": {
          "base_uri": "https://localhost:8080/"
        },
        "outputId": "439008a4-e8e7-4f6a-b541-62b20e4786a5"
      },
      "execution_count": null,
      "outputs": [
        {
          "output_type": "stream",
          "name": "stdout",
          "text": [
            "-        113\n",
            "경기도       82\n",
            "부산광역시     42\n",
            "대구광역시     27\n",
            "경상남도      21\n",
            "인천광역시     18\n",
            "광주광역시     12\n",
            "경상북도      11\n",
            "강원도       10\n",
            "전라북도       9\n",
            "충청북도       8\n",
            "충청남도       8\n",
            "대전광역시      6\n",
            "울산광역시      3\n",
            "전라남도       2\n",
            "Name: 주소1, dtype: int64\n",
            "-          405\n",
            "경기도        175\n",
            "부산광역시       52\n",
            "경상남도        45\n",
            "경상북도        37\n",
            "인천광역시       37\n",
            "전라남도        35\n",
            "대구광역시       31\n",
            "전라북도        30\n",
            "대전광역시       29\n",
            "충청남도        27\n",
            "충청북도        27\n",
            "광주광역시       22\n",
            "울산광역시       13\n",
            "강원도          9\n",
            "세종특별자치시      9\n",
            "제주특별자치도      5\n",
            "Name: 주소1, dtype: int64\n"
          ]
        }
      ]
    },
    {
      "cell_type": "code",
      "source": [
        "#유입경로\n",
        "print(student[\"알게된 경로1\"].value_counts())\n",
        "print(worker[\"알게된 경로1\"].value_counts())"
      ],
      "metadata": {
        "colab": {
          "base_uri": "https://localhost:8080/"
        },
        "id": "21X9Edvu0l2u",
        "outputId": "48e6b0b1-3ba0-463c-e364-2087daf189ef"
      },
      "execution_count": null,
      "outputs": [
        {
          "output_type": "stream",
          "name": "stdout",
          "text": [
            "네이버         140\n",
            "-            77\n",
            "기타           64\n",
            "교재구매         37\n",
            "구글           15\n",
            "와우패스 수강생     14\n",
            "네이트          11\n",
            "블로그           8\n",
            "다음            3\n",
            "카페            1\n",
            "키워드 광고        1\n",
            "타기관 수강생       1\n",
            "Name: 알게된 경로1, dtype: int64\n",
            "네이버         300\n",
            "기타          275\n",
            "-           170\n",
            "교재구매         87\n",
            "구글           50\n",
            "와우패스 수강생     46\n",
            "다음           34\n",
            "네이트          13\n",
            "배너광고          3\n",
            "타기관 수강생       3\n",
            "전단지           2\n",
            "카페            1\n",
            "지식인           1\n",
            "신문광고          1\n",
            "패밀리사이트        1\n",
            "신문뉴스          1\n",
            "Name: 알게된 경로1, dtype: int64\n"
          ]
        }
      ]
    },
    {
      "cell_type": "code",
      "source": [
        "#결제된 자격\n",
        "#list\n",
        "student_list = student[\"아이디\"]\n",
        "worker_list = worker[\"아이디\"]\n",
        "\n",
        "#결제자격 확인\n",
        "print(df6_t[df6_t[\"아이디\"].isin(student_list)][\"과목명\"].value_counts())\n",
        "print(\"////////////////\")\n",
        "print(df6_t[df6_t[\"아이디\"].isin(worker_list)][\"과목명\"].value_counts())"
      ],
      "metadata": {
        "id": "_yfa5oawNBM_"
      },
      "execution_count": null,
      "outputs": []
    },
    {
      "cell_type": "markdown",
      "source": [
        "###장바구니 & 관심자격"
      ],
      "metadata": {
        "id": "Tj0RxVG1FnBm"
      }
    },
    {
      "cell_type": "code",
      "source": [
        "#create df\n",
        "basket_1 = df2_1.dropna(axis=0).reset_index().drop('index', axis=1)\n",
        "basket_2 = df2_2.dropna(axis=0).reset_index().drop('index', axis=1)\n",
        "basket_1.rename(columns={'장바구니 등록일': '등록일'}, inplace=True)\n",
        "basket_2.rename(columns={'과정코드': '과목'}, inplace=True)\n",
        "basket_2.rename(columns={'과목코드': '과정'}, inplace=True)\n",
        "basket_1.rename(columns={'과정코드': '과정'}, inplace=True)\n",
        "basket_1.rename(columns={'과목코드': '과목'}, inplace=True)\n",
        "\n",
        "basket = pd.concat([basket_1, basket_2])\n",
        "basket"
      ],
      "metadata": {
        "colab": {
          "base_uri": "https://localhost:8080/",
          "height": 419
        },
        "id": "ODYjwtf7Fs5d",
        "outputId": "9c7325b3-7d4c-4337-cde7-ad76e4b1e01d"
      },
      "execution_count": null,
      "outputs": [
        {
          "output_type": "execute_result",
          "data": {
            "text/plain": [
              "                           가입일            아이디             과정  과목  \\\n",
              "0      2022-09-30 21:45:03.497  UBION00008152  A14S00243001   14   \n",
              "1      2022-09-30 21:45:03.497  UBION00008152  A14S00243001   14   \n",
              "2      2022-09-30 20:54:52.093  UBION00046144  A13S00162001   13   \n",
              "3      2022-09-30 20:54:52.093  UBION00046144  A13S00162001   13   \n",
              "4      2022-09-30 17:22:21.837  UBION00025501  ABCS00003001   BC   \n",
              "...                        ...            ...            ...  ..   \n",
              "20495                      NaN  UBION00049190  ACRS00034001   CR   \n",
              "20496                      NaN  UBION00012979  A03020014001   03   \n",
              "20497                      NaN  UBION00018500  A45S00156001   45   \n",
              "20498                      NaN  UBION00006401  A21S00050001   21   \n",
              "20499                      NaN  UBION00015963  A06S00048001   06   \n",
              "\n",
              "                           등록일  \n",
              "0      2022-09-30 21:48:11.207  \n",
              "1      2022-10-08 19:15:27.400  \n",
              "2      2022-09-30 20:59:44.327  \n",
              "3      2022-09-30 21:43:51.717  \n",
              "4      2022-09-30 17:24:45.140  \n",
              "...                        ...  \n",
              "20495  2020-10-01 17:58:17.850  \n",
              "20496  2020-10-01 17:53:12.533  \n",
              "20497  2020-10-01 12:51:33.983  \n",
              "20498  2020-10-01 11:41:49.937  \n",
              "20499  2020-10-01 01:56:20.557  \n",
              "\n",
              "[34446 rows x 5 columns]"
            ],
            "text/html": [
              "\n",
              "  <div id=\"df-616c1b49-db7e-41e8-a3fc-335f1e256207\">\n",
              "    <div class=\"colab-df-container\">\n",
              "      <div>\n",
              "<style scoped>\n",
              "    .dataframe tbody tr th:only-of-type {\n",
              "        vertical-align: middle;\n",
              "    }\n",
              "\n",
              "    .dataframe tbody tr th {\n",
              "        vertical-align: top;\n",
              "    }\n",
              "\n",
              "    .dataframe thead th {\n",
              "        text-align: right;\n",
              "    }\n",
              "</style>\n",
              "<table border=\"1\" class=\"dataframe\">\n",
              "  <thead>\n",
              "    <tr style=\"text-align: right;\">\n",
              "      <th></th>\n",
              "      <th>가입일</th>\n",
              "      <th>아이디</th>\n",
              "      <th>과정</th>\n",
              "      <th>과목</th>\n",
              "      <th>등록일</th>\n",
              "    </tr>\n",
              "  </thead>\n",
              "  <tbody>\n",
              "    <tr>\n",
              "      <th>0</th>\n",
              "      <td>2022-09-30 21:45:03.497</td>\n",
              "      <td>UBION00008152</td>\n",
              "      <td>A14S00243001</td>\n",
              "      <td>14</td>\n",
              "      <td>2022-09-30 21:48:11.207</td>\n",
              "    </tr>\n",
              "    <tr>\n",
              "      <th>1</th>\n",
              "      <td>2022-09-30 21:45:03.497</td>\n",
              "      <td>UBION00008152</td>\n",
              "      <td>A14S00243001</td>\n",
              "      <td>14</td>\n",
              "      <td>2022-10-08 19:15:27.400</td>\n",
              "    </tr>\n",
              "    <tr>\n",
              "      <th>2</th>\n",
              "      <td>2022-09-30 20:54:52.093</td>\n",
              "      <td>UBION00046144</td>\n",
              "      <td>A13S00162001</td>\n",
              "      <td>13</td>\n",
              "      <td>2022-09-30 20:59:44.327</td>\n",
              "    </tr>\n",
              "    <tr>\n",
              "      <th>3</th>\n",
              "      <td>2022-09-30 20:54:52.093</td>\n",
              "      <td>UBION00046144</td>\n",
              "      <td>A13S00162001</td>\n",
              "      <td>13</td>\n",
              "      <td>2022-09-30 21:43:51.717</td>\n",
              "    </tr>\n",
              "    <tr>\n",
              "      <th>4</th>\n",
              "      <td>2022-09-30 17:22:21.837</td>\n",
              "      <td>UBION00025501</td>\n",
              "      <td>ABCS00003001</td>\n",
              "      <td>BC</td>\n",
              "      <td>2022-09-30 17:24:45.140</td>\n",
              "    </tr>\n",
              "    <tr>\n",
              "      <th>...</th>\n",
              "      <td>...</td>\n",
              "      <td>...</td>\n",
              "      <td>...</td>\n",
              "      <td>...</td>\n",
              "      <td>...</td>\n",
              "    </tr>\n",
              "    <tr>\n",
              "      <th>20495</th>\n",
              "      <td>NaN</td>\n",
              "      <td>UBION00049190</td>\n",
              "      <td>ACRS00034001</td>\n",
              "      <td>CR</td>\n",
              "      <td>2020-10-01 17:58:17.850</td>\n",
              "    </tr>\n",
              "    <tr>\n",
              "      <th>20496</th>\n",
              "      <td>NaN</td>\n",
              "      <td>UBION00012979</td>\n",
              "      <td>A03020014001</td>\n",
              "      <td>03</td>\n",
              "      <td>2020-10-01 17:53:12.533</td>\n",
              "    </tr>\n",
              "    <tr>\n",
              "      <th>20497</th>\n",
              "      <td>NaN</td>\n",
              "      <td>UBION00018500</td>\n",
              "      <td>A45S00156001</td>\n",
              "      <td>45</td>\n",
              "      <td>2020-10-01 12:51:33.983</td>\n",
              "    </tr>\n",
              "    <tr>\n",
              "      <th>20498</th>\n",
              "      <td>NaN</td>\n",
              "      <td>UBION00006401</td>\n",
              "      <td>A21S00050001</td>\n",
              "      <td>21</td>\n",
              "      <td>2020-10-01 11:41:49.937</td>\n",
              "    </tr>\n",
              "    <tr>\n",
              "      <th>20499</th>\n",
              "      <td>NaN</td>\n",
              "      <td>UBION00015963</td>\n",
              "      <td>A06S00048001</td>\n",
              "      <td>06</td>\n",
              "      <td>2020-10-01 01:56:20.557</td>\n",
              "    </tr>\n",
              "  </tbody>\n",
              "</table>\n",
              "<p>34446 rows × 5 columns</p>\n",
              "</div>\n",
              "      <button class=\"colab-df-convert\" onclick=\"convertToInteractive('df-616c1b49-db7e-41e8-a3fc-335f1e256207')\"\n",
              "              title=\"Convert this dataframe to an interactive table.\"\n",
              "              style=\"display:none;\">\n",
              "        \n",
              "  <svg xmlns=\"http://www.w3.org/2000/svg\" height=\"24px\"viewBox=\"0 0 24 24\"\n",
              "       width=\"24px\">\n",
              "    <path d=\"M0 0h24v24H0V0z\" fill=\"none\"/>\n",
              "    <path d=\"M18.56 5.44l.94 2.06.94-2.06 2.06-.94-2.06-.94-.94-2.06-.94 2.06-2.06.94zm-11 1L8.5 8.5l.94-2.06 2.06-.94-2.06-.94L8.5 2.5l-.94 2.06-2.06.94zm10 10l.94 2.06.94-2.06 2.06-.94-2.06-.94-.94-2.06-.94 2.06-2.06.94z\"/><path d=\"M17.41 7.96l-1.37-1.37c-.4-.4-.92-.59-1.43-.59-.52 0-1.04.2-1.43.59L10.3 9.45l-7.72 7.72c-.78.78-.78 2.05 0 2.83L4 21.41c.39.39.9.59 1.41.59.51 0 1.02-.2 1.41-.59l7.78-7.78 2.81-2.81c.8-.78.8-2.07 0-2.86zM5.41 20L4 18.59l7.72-7.72 1.47 1.35L5.41 20z\"/>\n",
              "  </svg>\n",
              "      </button>\n",
              "      \n",
              "  <style>\n",
              "    .colab-df-container {\n",
              "      display:flex;\n",
              "      flex-wrap:wrap;\n",
              "      gap: 12px;\n",
              "    }\n",
              "\n",
              "    .colab-df-convert {\n",
              "      background-color: #E8F0FE;\n",
              "      border: none;\n",
              "      border-radius: 50%;\n",
              "      cursor: pointer;\n",
              "      display: none;\n",
              "      fill: #1967D2;\n",
              "      height: 32px;\n",
              "      padding: 0 0 0 0;\n",
              "      width: 32px;\n",
              "    }\n",
              "\n",
              "    .colab-df-convert:hover {\n",
              "      background-color: #E2EBFA;\n",
              "      box-shadow: 0px 1px 2px rgba(60, 64, 67, 0.3), 0px 1px 3px 1px rgba(60, 64, 67, 0.15);\n",
              "      fill: #174EA6;\n",
              "    }\n",
              "\n",
              "    [theme=dark] .colab-df-convert {\n",
              "      background-color: #3B4455;\n",
              "      fill: #D2E3FC;\n",
              "    }\n",
              "\n",
              "    [theme=dark] .colab-df-convert:hover {\n",
              "      background-color: #434B5C;\n",
              "      box-shadow: 0px 1px 3px 1px rgba(0, 0, 0, 0.15);\n",
              "      filter: drop-shadow(0px 1px 2px rgba(0, 0, 0, 0.3));\n",
              "      fill: #FFFFFF;\n",
              "    }\n",
              "  </style>\n",
              "\n",
              "      <script>\n",
              "        const buttonEl =\n",
              "          document.querySelector('#df-616c1b49-db7e-41e8-a3fc-335f1e256207 button.colab-df-convert');\n",
              "        buttonEl.style.display =\n",
              "          google.colab.kernel.accessAllowed ? 'block' : 'none';\n",
              "\n",
              "        async function convertToInteractive(key) {\n",
              "          const element = document.querySelector('#df-616c1b49-db7e-41e8-a3fc-335f1e256207');\n",
              "          const dataTable =\n",
              "            await google.colab.kernel.invokeFunction('convertToInteractive',\n",
              "                                                     [key], {});\n",
              "          if (!dataTable) return;\n",
              "\n",
              "          const docLinkHtml = 'Like what you see? Visit the ' +\n",
              "            '<a target=\"_blank\" href=https://colab.research.google.com/notebooks/data_table.ipynb>data table notebook</a>'\n",
              "            + ' to learn more about interactive tables.';\n",
              "          element.innerHTML = '';\n",
              "          dataTable['output_type'] = 'display_data';\n",
              "          await google.colab.output.renderOutput(dataTable, element);\n",
              "          const docLink = document.createElement('div');\n",
              "          docLink.innerHTML = docLinkHtml;\n",
              "          element.appendChild(docLink);\n",
              "        }\n",
              "      </script>\n",
              "    </div>\n",
              "  </div>\n",
              "  "
            ]
          },
          "metadata": {},
          "execution_count": 98
        }
      ]
    },
    {
      "cell_type": "markdown",
      "source": [
        "과목 : CR(신용분석사)"
      ],
      "metadata": {
        "id": "L7fxJteyssVh"
      }
    },
    {
      "cell_type": "code",
      "source": [
        "basket[\"과목\"].value_counts()"
      ],
      "metadata": {
        "colab": {
          "base_uri": "https://localhost:8080/"
        },
        "id": "_lKRjjOfsMkx",
        "outputId": "f387917e-7b46-485c-dfe1-cf55dd9f45de"
      },
      "execution_count": null,
      "outputs": [
        {
          "output_type": "execute_result",
          "data": {
            "text/plain": [
              "CR    6791\n",
              "36    2746\n",
              "40    2732\n",
              "14    1851\n",
              "27    1694\n",
              "04    1663\n",
              "20    1636\n",
              "13    1565\n",
              "05    1485\n",
              "80    1052\n",
              "28     845\n",
              "22     826\n",
              "SA     798\n",
              "AT     783\n",
              "26     703\n",
              "DT     649\n",
              "AH     536\n",
              "37     505\n",
              "DC     498\n",
              "06     473\n",
              "SP     457\n",
              "03     451\n",
              "IF     406\n",
              "IS     361\n",
              "SQ     328\n",
              "KB     319\n",
              "38     306\n",
              "AB     291\n",
              "45     284\n",
              "33     227\n",
              "DA     185\n",
              "11     151\n",
              "CO     136\n",
              "21     133\n",
              "DD     113\n",
              "29      65\n",
              "BO      55\n",
              "88      54\n",
              "BP      51\n",
              "MD      46\n",
              "GT      43\n",
              "81      24\n",
              "49      23\n",
              "GU      19\n",
              "AJ      16\n",
              "BC      12\n",
              "AD      11\n",
              "AR       9\n",
              "AG       8\n",
              "08       7\n",
              "SC       6\n",
              "IN       5\n",
              "BD       5\n",
              "09       2\n",
              "23       2\n",
              "65       1\n",
              "48       1\n",
              "SE       1\n",
              "IG       1\n",
              "Name: 과목, dtype: int64"
            ]
          },
          "metadata": {},
          "execution_count": 99
        }
      ]
    },
    {
      "cell_type": "markdown",
      "source": [
        "과정 : ACRS00040001(신용분석사사 정규이론반 예상)"
      ],
      "metadata": {
        "id": "gpfQT6X6s-Ag"
      }
    },
    {
      "cell_type": "code",
      "source": [
        "basket[\"과정\"].value_counts()"
      ],
      "metadata": {
        "colab": {
          "base_uri": "https://localhost:8080/"
        },
        "id": "pQZDiG1osShF",
        "outputId": "ec1248c9-4c6f-4d17-8eeb-acfee117aeba"
      },
      "execution_count": null,
      "outputs": [
        {
          "output_type": "execute_result",
          "data": {
            "text/plain": [
              "ACRS00040001     1009\n",
              "ACRS00041001      465\n",
              "A80S01093001      431\n",
              "BCRS00054001      394\n",
              "BCRS00049001      389\n",
              "                 ... \n",
              "A37S00073001        1\n",
              "B27S00115001        1\n",
              "A08010004001        1\n",
              "A40S00113001        1\n",
              "A27S00145001        1\n",
              "Name: 과정, Length: 1190, dtype: int64"
            ]
          },
          "metadata": {},
          "execution_count": 100
        }
      ]
    },
    {
      "cell_type": "code",
      "source": [
        "seek_1 = df7_1.dropna(axis=0)\n",
        "seek_2 = df7_2.dropna(axis=0)\n",
        "seek = pd.concat([seek_1, seek_2])\n",
        "\n",
        "seek[seek['상품코드'].str.contains('ACRS000')]['상품명칭'].value_counts()"
      ],
      "metadata": {
        "colab": {
          "base_uri": "https://localhost:8080/"
        },
        "id": "Om89DzCytTlS",
        "outputId": "c7c75f7a-3bef-40b1-90ad-cfbdeeac3314"
      },
      "execution_count": null,
      "outputs": [
        {
          "output_type": "execute_result",
          "data": {
            "text/plain": [
              "[신용분석사] 1부 정규이론반    1184\n",
              "[신용분석사] 2부 정규이론반    1184\n",
              "Name: 상품명칭, dtype: int64"
            ]
          },
          "metadata": {},
          "execution_count": 118
        }
      ]
    },
    {
      "cell_type": "markdown",
      "source": [
        "###직업별 주요 로그인 시간"
      ],
      "metadata": {
        "id": "zKRv0QDAT-bw"
      }
    },
    {
      "cell_type": "code",
      "source": [
        "student_time = pd.to_datetime(df4[df4[\"아이디\"].isin(student_list)][\"최초로그인시간\"])\n",
        "worker_time = pd.to_datetime(df4[df4[\"아이디\"].isin(worker_list)][\"최초로그인시간\"])"
      ],
      "metadata": {
        "id": "qjmM80SrUC8f"
      },
      "execution_count": null,
      "outputs": []
    },
    {
      "cell_type": "code",
      "source": [
        "student_hour = student_time.dt.hour\n",
        "worker_hour = worker_time.dt.hour"
      ],
      "metadata": {
        "id": "AUd8eFaIVbdH"
      },
      "execution_count": null,
      "outputs": []
    },
    {
      "cell_type": "code",
      "source": [
        "student_hour.value_counts()"
      ],
      "metadata": {
        "colab": {
          "base_uri": "https://localhost:8080/"
        },
        "id": "o8qk_5MmWEwK",
        "outputId": "b2e638bd-483a-4cb7-942d-d61bd5f4b544"
      },
      "execution_count": null,
      "outputs": [
        {
          "output_type": "execute_result",
          "data": {
            "text/plain": [
              "14    357\n",
              "21    342\n",
              "10    340\n",
              "13    336\n",
              "11    333\n",
              "15    333\n",
              "22    326\n",
              "20    317\n",
              "19    303\n",
              "9     298\n",
              "12    295\n",
              "16    284\n",
              "8     262\n",
              "17    246\n",
              "18    227\n",
              "23    215\n",
              "7     190\n",
              "0     186\n",
              "1      91\n",
              "6      83\n",
              "2      57\n",
              "5      50\n",
              "4      38\n",
              "3      26\n",
              "Name: 최초로그인시간, dtype: int64"
            ]
          },
          "metadata": {},
          "execution_count": 36
        }
      ]
    },
    {
      "cell_type": "code",
      "source": [
        "student_hour.hist(bins=24)"
      ],
      "metadata": {
        "colab": {
          "base_uri": "https://localhost:8080/",
          "height": 447
        },
        "id": "U3F_6KRgXy-z",
        "outputId": "c6e5db87-c2c0-415e-add4-61758dd58bf7"
      },
      "execution_count": null,
      "outputs": [
        {
          "output_type": "execute_result",
          "data": {
            "text/plain": [
              "<Axes: >"
            ]
          },
          "metadata": {},
          "execution_count": 40
        },
        {
          "output_type": "display_data",
          "data": {
            "text/plain": [
              "<Figure size 640x480 with 1 Axes>"
            ],
            "image/png": "[encoded data removed]"
          },
          "metadata": {}
        }
      ]
    },
    {
      "cell_type": "code",
      "source": [
        "worker_hour.value_counts()"
      ],
      "metadata": {
        "colab": {
          "base_uri": "https://localhost:8080/"
        },
        "id": "17qM9tOcWJde",
        "outputId": "73aa2786-e3ac-4acd-a200-3bfabd7045a9"
      },
      "execution_count": null,
      "outputs": [
        {
          "output_type": "execute_result",
          "data": {
            "text/plain": [
              "10    628\n",
              "13    596\n",
              "21    595\n",
              "14    589\n",
              "22    585\n",
              "9     563\n",
              "15    556\n",
              "11    537\n",
              "20    528\n",
              "16    528\n",
              "12    498\n",
              "18    449\n",
              "19    443\n",
              "17    434\n",
              "8     416\n",
              "23    367\n",
              "0     349\n",
              "7     301\n",
              "1     185\n",
              "6     141\n",
              "2      99\n",
              "5      72\n",
              "4      55\n",
              "3      54\n",
              "Name: 최초로그인시간, dtype: int64"
            ]
          },
          "metadata": {},
          "execution_count": 28
        }
      ]
    },
    {
      "cell_type": "code",
      "source": [
        "worker_hour.hist(bins=24)"
      ],
      "metadata": {
        "colab": {
          "base_uri": "https://localhost:8080/",
          "height": 447
        },
        "id": "1J1ATua2YEDO",
        "outputId": "6c3a9e1f-2eef-44bc-c42c-9ec5aea691e9"
      },
      "execution_count": null,
      "outputs": [
        {
          "output_type": "execute_result",
          "data": {
            "text/plain": [
              "<Axes: >"
            ]
          },
          "metadata": {},
          "execution_count": 42
        },
        {
          "output_type": "display_data",
          "data": {
            "text/plain": [
              "<Figure size 640x480 with 1 Axes>"
            ],
            "image/png": "[encoded data removed]"
          },
          "metadata": {}
        }
      ]
    },
    {
      "cell_type": "markdown",
      "source": [
        "##전환\n",
        ": 구매 결정!"
      ],
      "metadata": {
        "id": "MRzwus7_ncUJ"
      }
    },
    {
      "cell_type": "markdown",
      "source": [
        "자격증별 매출데이터"
      ],
      "metadata": {
        "id": "NX39ajZorjZC"
      }
    },
    {
      "cell_type": "code",
      "source": [
        "#2022년 자격별 매출\n",
        "ADsP_sales = df7_2[df7_2[\"과정\"]==\"ADSP\"][\"결제금액\"].sum()\n",
        "ADsPed = len(df7_2[df7_2[\"과정\"]==\"ADSP\"])\n",
        "\n",
        "DB_sales = df7_2[df7_2[\"과정\"]==\"빅데이터분석기사\"][\"결제금액\"].sum()\n",
        "DBed = len(df7_2[df7_2[\"과정\"]==\"빅데이터분석기사\"])\n",
        "\n",
        "SQLD_sales = df7_2[df7_2[\"과정\"]==\"SQLD\"][\"결제금액\"].sum()\n",
        "SQLDed = len(df7_2[df7_2[\"과정\"]==\"SQLD\"])\n",
        "\n",
        "ADSP_eff = ADsP_sales/ADsPed\n",
        "DB_eff = DB_sales/DBed\n",
        "SQLD_eff = SQLD_sales/SQLDed\n",
        "\n",
        "print(ADSP_eff)\n",
        "print(DB_eff)\n",
        "print(SQLD_eff)"
      ],
      "metadata": {
        "colab": {
          "base_uri": "https://localhost:8080/"
        },
        "id": "BpvCr-1Krlpl",
        "outputId": "bad61260-c2d0-4cbe-8ee4-efdf0b01627d"
      },
      "execution_count": null,
      "outputs": [
        {
          "output_type": "stream",
          "name": "stdout",
          "text": [
            "30422.183098591548\n",
            "29959.789915966387\n",
            "30806.40668523677\n"
          ]
        }
      ]
    },
    {
      "cell_type": "code",
      "source": [
        "df7_2[\"과정\"].unique()"
      ],
      "metadata": {
        "colab": {
          "base_uri": "https://localhost:8080/"
        },
        "id": "Ycz03knRs3xP",
        "outputId": "a520ac00-a614-4a01-c15d-ef209376c7c7"
      },
      "execution_count": null,
      "outputs": [
        {
          "output_type": "execute_result",
          "data": {
            "text/plain": [
              "array(['증권투자권유자문인력', nan, 'CFA', '은행FP', '은행텔러', '국제무역사 2급', '재경관리사',\n",
              "       '세무/회계', '파생상품투자권유자문인력', '물류관리사', '펀드투자권유자문인력', '무역영어', '경영지도사',\n",
              "       '국제무역사 1급', '변액보험판매관리사', 'CDCS', '투자자산운용사', '남영우', '박종철', '손재용',\n",
              "       '전윤범', 'TEST', '박진영', '유통관리사', '전표훈', '백소라', '외환전문역', '이교수', '손명옥',\n",
              "       'TESAT', '사회복지사', '노민래', '고동호과정', '금융경제', '은행직무마스터', 'NCS 직업기초능력',\n",
              "       '김정재', '지규한', '취업적성연구소', '금융NCS Ⅰ종', 'AT', '코딩교육', '데이터분석', '보세사',\n",
              "       '데이터패키지', '신동민', '정희락', '이성원', '박성택', '신지아', '오명륜', '전산실무',\n",
              "       '신용분석사', '이창희', '직업상담사', '유선용', '청소년상담사', '임상심리사', '서은주', '이서윤',\n",
              "       '한채원', '노지영', '금융DT', '지텔프(G-TELP)', '최영준', '케이티', '펀드투자권유대행인',\n",
              "       '면접', '증권투자권유대행인', '빅데이터분석기사', '마이데이터', '유성준', '이광철', '예자선', '이성영',\n",
              "       '장준용', '사회조사분석사', '자기소개서', 'ADSP', 'SQLD'], dtype=object)"
            ]
          },
          "metadata": {},
          "execution_count": 7
        }
      ]
    },
    {
      "cell_type": "markdown",
      "source": [
        "상품 분포\n",
        "결제 데이터"
      ],
      "metadata": {
        "id": "gvzZhysD6vP1"
      }
    },
    {
      "cell_type": "code",
      "source": [
        "#결제 과목 분포\n",
        "# 각 시리즈에서 고유한 값의 등장 횟수 확인\n",
        "counts_1 = df6_t[\"과목명\"].value_counts()\n",
        "counts_2 = df7_1[\"과정\"].value_counts()\n",
        "counts_3 = df7_2[\"과정\"].value_counts()\n",
        "\n",
        "# 두 시리즈에서 모든 고유한 값의 등장 횟수를 더한 결과 확인\n",
        "results = counts_1.add(counts_2, counts_3, fill_value=0)\n",
        "\n",
        "# 결과를 빈도 크기 순으로 정렬\n",
        "results = results.sort_values(ascending=False)\n",
        "print(results)"
      ],
      "metadata": {
        "colab": {
          "base_uri": "https://localhost:8080/",
          "height": 232
        },
        "id": "lXEDbFLSoOi0",
        "outputId": "1fb60f2d-6342-46ff-b8e9-b491473b1684"
      },
      "execution_count": null,
      "outputs": [
        {
          "output_type": "error",
          "ename": "NameError",
          "evalue": "ignored",
          "traceback": [
            "\u001b[0;31m---------------------------------------------------------------------------\u001b[0m",
            "\u001b[0;31mNameError\u001b[0m                                 Traceback (most recent call last)",
            "\u001b[0;32m<ipython-input-2-b19f3933a2ed>\u001b[0m in \u001b[0;36m<cell line: 3>\u001b[0;34m()\u001b[0m\n\u001b[1;32m      1\u001b[0m \u001b[0;31m#결제 과목 분포\u001b[0m\u001b[0;34m\u001b[0m\u001b[0;34m\u001b[0m\u001b[0m\n\u001b[1;32m      2\u001b[0m \u001b[0;31m# 각 시리즈에서 고유한 값의 등장 횟수 확인\u001b[0m\u001b[0;34m\u001b[0m\u001b[0;34m\u001b[0m\u001b[0m\n\u001b[0;32m----> 3\u001b[0;31m \u001b[0mcounts_1\u001b[0m \u001b[0;34m=\u001b[0m \u001b[0mdf6_t\u001b[0m\u001b[0;34m[\u001b[0m\u001b[0;34m\"과목명\"\u001b[0m\u001b[0;34m]\u001b[0m\u001b[0;34m.\u001b[0m\u001b[0mvalue_counts\u001b[0m\u001b[0;34m(\u001b[0m\u001b[0;34m)\u001b[0m\u001b[0;34m\u001b[0m\u001b[0;34m\u001b[0m\u001b[0m\n\u001b[0m\u001b[1;32m      4\u001b[0m \u001b[0mcounts_2\u001b[0m \u001b[0;34m=\u001b[0m \u001b[0mdf7_1\u001b[0m\u001b[0;34m[\u001b[0m\u001b[0;34m\"과정\"\u001b[0m\u001b[0;34m]\u001b[0m\u001b[0;34m.\u001b[0m\u001b[0mvalue_counts\u001b[0m\u001b[0;34m(\u001b[0m\u001b[0;34m)\u001b[0m\u001b[0;34m\u001b[0m\u001b[0;34m\u001b[0m\u001b[0m\n\u001b[1;32m      5\u001b[0m \u001b[0mcounts_3\u001b[0m \u001b[0;34m=\u001b[0m \u001b[0mdf7_2\u001b[0m\u001b[0;34m[\u001b[0m\u001b[0;34m\"과정\"\u001b[0m\u001b[0;34m]\u001b[0m\u001b[0;34m.\u001b[0m\u001b[0mvalue_counts\u001b[0m\u001b[0;34m(\u001b[0m\u001b[0;34m)\u001b[0m\u001b[0;34m\u001b[0m\u001b[0;34m\u001b[0m\u001b[0m\n",
            "\u001b[0;31mNameError\u001b[0m: name 'df6_t' is not defined"
          ]
        }
      ]
    },
    {
      "cell_type": "code",
      "source": [
        "#결제 수단 분포\n",
        "# 각 시리즈에서 고유한 값의 등장 횟수 확인\n",
        "counts_1 = df6_t[\"결제종류\"].value_counts()\n",
        "counts_2 = df7_1[\"결제종류\"].value_counts()\n",
        "counts_3 = df7_2[\"결제종류\"].value_counts()\n",
        "\n",
        "# 두 시리즈에서 모든 고유한 값의 등장 횟수를 더한 결과 확인\n",
        "results = counts_1.add(counts_2, counts_3, fill_value=0)\n",
        "\n",
        "# 결과를 빈도 크기 순으로 정렬\n",
        "results = results.sort_values(ascending=False)\n",
        "print(results)"
      ],
      "metadata": {
        "id": "f5H2MdAjVgoi"
      },
      "execution_count": null,
      "outputs": []
    },
    {
      "cell_type": "code",
      "source": [
        "#연도별 파이썬\n",
        "for index, value in results.items():\n",
        "    print(f\"{index} {value}\")"
      ],
      "metadata": {
        "id": "QWnKSBH0qpfc"
      },
      "execution_count": null,
      "outputs": []
    },
    {
      "cell_type": "markdown",
      "source": [
        "##충성\n",
        ": 지속적인 구매"
      ],
      "metadata": {
        "id": "U4o4hSHhnfLf"
      }
    },
    {
      "cell_type": "markdown",
      "source": [
        "###RFM"
      ],
      "metadata": {
        "id": "VSvA-aVwaBDp"
      }
    },
    {
      "cell_type": "code",
      "source": [
        "#df 형성\n",
        "payed_1 = df7_1[[\"회원ID\", '결제일자', \"상품수량\", \"결제종류\", \"상품코드\", \"결제금액\"]]\n",
        "payed_2 = df7_2[[\"회원ID\", '결제일자', \"상품수량\", \"결제종류\", \"상품코드\", \"결제금액\"]]\n",
        "\n",
        "payed = pd.concat([payed_1, payed_2])\n",
        "payed.dropna(axis=0, inplace=True)"
      ],
      "metadata": {
        "id": "BMrPTlkjoO_Q"
      },
      "execution_count": null,
      "outputs": []
    },
    {
      "cell_type": "code",
      "source": [
        "#-데이터 삭제\n",
        "canceled = payed[(payed[\"결제금액\"] < 0)][[\"회원ID\", \"상품코드\"]]\n",
        "canceled.reset_index(inplace=True)\n",
        "canceled.drop('index', axis=1, inplace=True)\n",
        "\n",
        "payed = payed[~payed[[\"회원ID\", \"상품코드\"]].isin(canceled.to_dict(\"list\")).all(axis=1)]"
      ],
      "metadata": {
        "id": "4k5MBCpmd7jY"
      },
      "execution_count": null,
      "outputs": []
    },
    {
      "cell_type": "code",
      "source": [
        "#payed 데이터에서 승인취소 값가진 행들 삭제\n",
        "payed.drop(payed[payed['결제종류'] == \"승인취소\"].index.tolist(), axis=0, inplace=True)\n",
        "\n",
        "#인덱스 재정렬\n",
        "payed.reset_index(inplace=True)\n",
        "payed.drop('index', axis=1, inplace=True)\n",
        "\n",
        "#결제일자 type 변경\n",
        "payed['결제일자'] = pd.to_datetime(payed['결제일자'])\n",
        "\n",
        "#회원ID type 변경\n",
        "payed[\"회원ID\"] = payed[\"회원ID\"].astype(str)\n",
        "\n",
        "#ID 객체화\n",
        "grouped = payed.groupby(\"회원ID\")"
      ],
      "metadata": {
        "id": "nt_rX4B6g4tZ"
      },
      "execution_count": null,
      "outputs": []
    },
    {
      "cell_type": "code",
      "source": [
        "# 그룹별 최근 구매일과 오늘 날짜의 차이 계산\n",
        "now = dt.datetime.today()\n",
        "recency = grouped['결제일자'].max().apply(lambda x: (now - x).days)\n",
        "\n",
        "# 그룹별 구매 빈도 계산\n",
        "frequency = grouped.size()\n",
        "\n",
        "# 그룹별 총 구매 금액 계산\n",
        "monetary = grouped[\"결제금액\"].sum()"
      ],
      "metadata": {
        "id": "wR1g-rELcOs8"
      },
      "execution_count": null,
      "outputs": []
    },
    {
      "cell_type": "code",
      "source": [
        "rfm_df = pd.DataFrame()\n",
        "id = []\n",
        "\n",
        "for name, group in grouped:\n",
        "  id.append(name)"
      ],
      "metadata": {
        "id": "4NvxsdFydxhM"
      },
      "execution_count": null,
      "outputs": []
    },
    {
      "cell_type": "code",
      "source": [
        "rfm_df[\"id\"] = id\n",
        "rfm_df[\"r\"] = recency.values\n",
        "rfm_df[\"f\"] = frequency.values\n",
        "rfm_df[\"m\"] = monetary.values"
      ],
      "metadata": {
        "id": "zNuPErYbeDa9"
      },
      "execution_count": null,
      "outputs": []
    },
    {
      "cell_type": "markdown",
      "source": [
        "RFM1"
      ],
      "metadata": {
        "id": "GpLymTgsaw3W"
      }
    },
    {
      "cell_type": "code",
      "source": [
        "r_cut = rfm_df['r'].quantile(0.2)\n",
        "f_cut = rfm_df['f'].quantile(0.8)\n",
        "m_cut = rfm_df['m'].quantile(0.8)"
      ],
      "metadata": {
        "id": "wKwIUinqoGWV"
      },
      "execution_count": null,
      "outputs": []
    },
    {
      "cell_type": "code",
      "source": [
        "def r_score(row):\n",
        "    if row['r'] < r_cut:\n",
        "        return 1\n",
        "    else:\n",
        "        return 0\n",
        "\n",
        "rfm_df['r_score'] = rfm_df.apply(r_score, axis=1)\n",
        "\n",
        "def f_score(row):\n",
        "    if row['f'] > f_cut:\n",
        "        return 1\n",
        "    else:\n",
        "        return 0\n",
        "\n",
        "rfm_df['f_score'] = rfm_df.apply(f_score, axis=1)\n",
        "\n",
        "def m_score(row):\n",
        "    if row['m'] > m_cut:\n",
        "        return 1\n",
        "    else:\n",
        "        return 0\n",
        "\n",
        "rfm_df['m_score'] = rfm_df.apply(m_score, axis=1)"
      ],
      "metadata": {
        "id": "vaJqv7booBau"
      },
      "execution_count": null,
      "outputs": []
    },
    {
      "cell_type": "code",
      "source": [
        "def vip_score(row):\n",
        "  if row['r_score'] + row['f_score'] + row['m_score'] == 3:\n",
        "    return 3\n",
        "  elif row['r_score'] + row['f_score'] + row['m_score'] == 2:\n",
        "    return 2\n",
        "  elif row['r_score'] + row['f_score'] + row['m_score'] == 1:\n",
        "    return 1\n",
        "  else:\n",
        "    return 0\n",
        "\n",
        "rfm_df[\"vip_score\"] = rfm_df.apply(vip_score, axis=1)"
      ],
      "metadata": {
        "id": "p1lC2fbBoKwQ"
      },
      "execution_count": null,
      "outputs": []
    },
    {
      "cell_type": "code",
      "source": [
        "rfm_df[\"vip_score\"].value_counts()"
      ],
      "metadata": {
        "colab": {
          "base_uri": "https://localhost:8080/"
        },
        "id": "L_Y2ewW2pj5t",
        "outputId": "f91a9c6c-67ac-414d-a034-e045ee6023bc"
      },
      "execution_count": null,
      "outputs": [
        {
          "output_type": "execute_result",
          "data": {
            "text/plain": [
              "0    6778\n",
              "1    3494\n",
              "2    1200\n",
              "3     329\n",
              "Name: vip_score, dtype: int64"
            ]
          },
          "metadata": {},
          "execution_count": 20
        }
      ]
    },
    {
      "cell_type": "code",
      "source": [
        "# 파이 차트 그리기\n",
        "plt.pie(rfm_df[\"vip_score\"].value_counts(), labels=[0,1,2,3], autopct='%1.1f%%')\n",
        "\n",
        "# 제목 설정\n",
        "plt.title('VIP Distribution')\n",
        "\n",
        "# 그래프 보이기\n",
        "plt.show()"
      ],
      "metadata": {
        "colab": {
          "base_uri": "https://localhost:8080/",
          "height": 428
        },
        "id": "rhKj9H532c0f",
        "outputId": "90b05e53-b737-449c-921f-7c3d27a82d70"
      },
      "execution_count": null,
      "outputs": [
        {
          "output_type": "display_data",
          "data": {
            "text/plain": [
              "<Figure size 640x480 with 1 Axes>"
            ],
            "image/png": "[encoded data removed]"
          },
          "metadata": {}
        }
      ]
    },
    {
      "cell_type": "code",
      "source": [
        "#계층별 매출 기여도\n",
        "sales = [\n",
        "  rfm_df[rfm_df[\"vip_score\"]==0][\"m\"].sum(),\n",
        "  rfm_df[rfm_df[\"vip_score\"]==1][\"m\"].sum(),\n",
        "  rfm_df[rfm_df[\"vip_score\"]==2][\"m\"].sum(),\n",
        "  rfm_df[rfm_df[\"vip_score\"]==3][\"m\"].sum()\n",
        "]\n",
        "\n",
        "# 파이 차트 그리기\n",
        "plt.pie((sales), labels=[0,1,2,3], autopct='%1.1f%%')\n",
        "\n",
        "# 제목 설정\n",
        "plt.title('VIP Distribution')\n",
        "\n",
        "# 그래프 보이기\n",
        "plt.show()"
      ],
      "metadata": {
        "id": "8mLyoAsr2duN",
        "colab": {
          "base_uri": "https://localhost:8080/",
          "height": 428
        },
        "outputId": "8eb64960-e4e9-46b8-ea09-7dc2c4a8b001"
      },
      "execution_count": null,
      "outputs": [
        {
          "output_type": "display_data",
          "data": {
            "text/plain": [
              "<Figure size 640x480 with 1 Axes>"
            ],
            "image/png": "[encoded data removed]"
          },
          "metadata": {}
        }
      ]
    },
    {
      "cell_type": "code",
      "source": [
        "#고객 유형별 id \n",
        "pla_list = rfm_df[rfm_df[\"vip_score\"]==3][\"id\"]\n",
        "gol_list = rfm_df[rfm_df[\"vip_score\"]==2][\"id\"]\n",
        "sil_list = rfm_df[rfm_df[\"vip_score\"]==1][\"id\"]\n",
        "bro_list = rfm_df[rfm_df[\"vip_score\"]==0][\"id\"]"
      ],
      "metadata": {
        "id": "cW_9bneR4wUs"
      },
      "execution_count": null,
      "outputs": []
    },
    {
      "cell_type": "code",
      "source": [
        "#고객 유형별 상품 분포\n",
        "sales = df7\n",
        "product_pla = sales[sales[\"회원ID\"].isin(pla_list)][\"상품명칭\"].value_counts()\n",
        "product_gol = sales[sales[\"회원ID\"].isin(gol_list)][\"상품명칭\"].value_counts()\n",
        "product_sil = sales[sales[\"회원ID\"].isin(sil_list)][\"상품명칭\"].value_counts()\n",
        "product_bro = sales[sales[\"회원ID\"].isin(bro_list)][\"상품명칭\"].value_counts()\n",
        "\n",
        "#고객 유형별 과정 분포\n",
        "cor_pla = sales[sales[\"회원ID\"].isin(pla_list)][\"과정\"].value_counts()\n",
        "cor_gol = sales[sales[\"회원ID\"].isin(gol_list)][\"과정\"].value_counts()\n",
        "cor_sil = sales[sales[\"회원ID\"].isin(sil_list)][\"과정\"].value_counts()\n",
        "cor_bro = sales[sales[\"회원ID\"].isin(bro_list)][\"과정\"].value_counts()"
      ],
      "metadata": {
        "id": "ne83UwVZ6XqF"
      },
      "execution_count": null,
      "outputs": []
    },
    {
      "cell_type": "code",
      "source": [
        "print(cor_pla.head(), '\\n')\n",
        "print(cor_gol.head(), '\\n')\n",
        "print(cor_sil.head(), '\\n')\n",
        "print(cor_bro.head(), '\\n')"
      ],
      "metadata": {
        "colab": {
          "base_uri": "https://localhost:8080/"
        },
        "id": "IakvePUsB7Ng",
        "outputId": "2f515160-855e-4ba3-d999-c62653c9bdc8"
      },
      "execution_count": null,
      "outputs": [
        {
          "output_type": "stream",
          "name": "stdout",
          "text": [
            "CFA        2493\n",
            "신용분석사      1964\n",
            "외환전문역       434\n",
            "경영지도사       280\n",
            "투자자산운용사     256\n",
            "Name: 과정, dtype: int64 \n",
            "\n",
            "CFA        9675\n",
            "신용분석사      5295\n",
            "경영지도사      2097\n",
            "AFPK       1397\n",
            "투자자산운용사     945\n",
            "Name: 과정, dtype: int64 \n",
            "\n",
            "AFPK       15820\n",
            "신용분석사       4797\n",
            "투자자산운용사     1854\n",
            "외환전문역       1320\n",
            "경영지도사       1015\n",
            "Name: 과정, dtype: int64 \n",
            "\n",
            "외환전문역           3736\n",
            "파생상품투자권유자문인력    2956\n",
            "신용분석사           2882\n",
            "투자자산운용사         1694\n",
            "세무/회계           1681\n",
            "Name: 과정, dtype: int64 \n",
            "\n"
          ]
        }
      ]
    },
    {
      "cell_type": "markdown",
      "source": [
        "RFM2"
      ],
      "metadata": {
        "id": "hVCvz6Eea4oo"
      }
    },
    {
      "cell_type": "code",
      "source": [
        "# 각 RFM 값의 분위수를 계산\n",
        "r_quintiles = pd.qcut(rfm_df['r'], 5, labels=False) + 1\n",
        "f_quintiles = pd.qcut(rfm_df['f'], 5, labels=False) + 1\n",
        "m_quintiles = pd.qcut(rfm_df['m'], 5, labels=False) + 1\n",
        "\n",
        "# 각각 점수로 변환하여 합산\n",
        "rfm_df['r_score'] = r_quintiles.apply(lambda x: 6 - x)\n",
        "rfm_df['f_score'] = f_quintiles\n",
        "rfm_df['m_score'] = m_quintiles\n",
        "\n",
        "# RFM 점수 계산\n",
        "rfm_df['rfm_sum'] = rfm_df[['r_score', 'f_score', 'm_score']].sum(axis=1)"
      ],
      "metadata": {
        "id": "yh4-fqf7dcG3"
      },
      "execution_count": null,
      "outputs": []
    },
    {
      "cell_type": "code",
      "source": [
        "# 각 rfm 분위의 최소값과 최댓값 출력\n",
        "for i in range(1, 6):\n",
        "    r_min = rfm_df[rfm_df['r_score']==i]['r'].min()\n",
        "    r_max = rfm_df[rfm_df['r_score']==i]['r'].max()\n",
        "    f_min = rfm_df[rfm_df['f_score']==i]['f'].min()\n",
        "    f_max = rfm_df[rfm_df['f_score']==i]['f'].max()\n",
        "    m_min = rfm_df[rfm_df['m_score']==i]['m'].min()\n",
        "    m_max = rfm_df[rfm_df['m_score']==i]['m'].max()\n",
        "    print(f\"RFM {i} 분위:\\n r: {r_min}~{r_max}\\n f: {f_min}~{f_max}\\n m: {m_min}~{m_max}\\n\")\n"
      ],
      "metadata": {
        "colab": {
          "base_uri": "https://localhost:8080/"
        },
        "id": "F9SJIWdbotM4",
        "outputId": "46fa3cb8-aa75-4a5a-b150-d1c2015d6956"
      },
      "execution_count": null,
      "outputs": [
        {
          "output_type": "stream",
          "name": "stdout",
          "text": [
            "RFM 1 분위:\n",
            " r: 843~955\n",
            " f: 1~2\n",
            " m: 0.0~53500.0\n",
            "\n",
            "RFM 2 분위:\n",
            " r: 724~842\n",
            " f: 3~3\n",
            " m: 54300.0~105000.0\n",
            "\n",
            "RFM 3 분위:\n",
            " r: 564~723\n",
            " f: 4~5\n",
            " m: 106000.0~179000.0\n",
            "\n",
            "RFM 4 분위:\n",
            " r: 391~563\n",
            " f: 6~9\n",
            " m: 179100.0~329000.0\n",
            "\n",
            "RFM 5 분위:\n",
            " r: 226~390\n",
            " f: 10~99\n",
            " m: 330000.0~3318840.0\n",
            "\n"
          ]
        }
      ]
    },
    {
      "cell_type": "code",
      "source": [
        "def rfm_level(row):\n",
        "  if  12 < row[\"rfm_sum\"] <= 15:\n",
        "    return 5\n",
        "  elif 9 < row[\"rfm_sum\"] <= 12:\n",
        "    return 4\n",
        "  elif 6 < row[\"rfm_sum\"] <= 9:\n",
        "    return 3\n",
        "  elif 3 < row[\"rfm_sum\"] <= 6:\n",
        "    return 2\n",
        "  else:\n",
        "    return 1\n",
        "  \n",
        "rfm_df[\"rfm_level\"] = rfm_df.apply(rfm_level, axis=1)"
      ],
      "metadata": {
        "id": "Pv6RmYNLfHUB"
      },
      "execution_count": null,
      "outputs": []
    },
    {
      "cell_type": "markdown",
      "source": [],
      "metadata": {
        "id": "KEEjlgYX652q"
      }
    },
    {
      "cell_type": "code",
      "source": [
        "# 파이 차트 그리기\n",
        "plt.pie(rfm_df[\"rfm_level\"].value_counts(), labels=[1,2,3,4,5], autopct='%1.1f%%')\n",
        "\n",
        "# 제목 설정\n",
        "plt.title('rfm_level Distribution')\n",
        "\n",
        "# 그래프 보이기\n",
        "plt.show()"
      ],
      "metadata": {
        "colab": {
          "base_uri": "https://localhost:8080/",
          "height": 428
        },
        "id": "Za_zcRmdgd-X",
        "outputId": "d0dde23d-f378-4123-eaf2-08083aaa2adc"
      },
      "execution_count": null,
      "outputs": [
        {
          "output_type": "display_data",
          "data": {
            "text/plain": [
              "<Figure size 640x480 with 1 Axes>"
            ],
            "image/png": "[encoded data removed]"
          },
          "metadata": {}
        }
      ]
    },
    {
      "cell_type": "code",
      "source": [
        "#계층별 매출 기여도\n",
        "sales = [\n",
        "  rfm_df[rfm_df[\"rfm_level\"]==1][\"m\"].sum(),\n",
        "  rfm_df[rfm_df[\"rfm_level\"]==2][\"m\"].sum(),\n",
        "  rfm_df[rfm_df[\"rfm_level\"]==3][\"m\"].sum(),\n",
        "  rfm_df[rfm_df[\"rfm_level\"]==4][\"m\"].sum(),\n",
        "  rfm_df[rfm_df[\"rfm_level\"]==5][\"m\"].sum()\n",
        "]\n",
        "\n",
        "# 파이 차트 그리기\n",
        "plt.pie((sales), labels=[1,2,3,4,5], autopct='%1.1f%%')\n",
        "\n",
        "# 제목 설정\n",
        "plt.title('rfm_level sales Distribution')\n",
        "\n",
        "# 그래프 보이기\n",
        "plt.show()"
      ],
      "metadata": {
        "colab": {
          "base_uri": "https://localhost:8080/",
          "height": 428
        },
        "id": "k1T1AAThgulF",
        "outputId": "cdf54910-7a42-4d68-da41-18b0503392cc"
      },
      "execution_count": null,
      "outputs": [
        {
          "output_type": "display_data",
          "data": {
            "text/plain": [
              "<Figure size 640x480 with 1 Axes>"
            ],
            "image/png": "[encoded data removed]"
          },
          "metadata": {}
        }
      ]
    },
    {
      "cell_type": "code",
      "source": [
        "#고객 유형별 id \n",
        "pla_list = rfm_df[rfm_df[\"rfm_level\"]==5][\"id\"]\n",
        "gol_list = rfm_df[rfm_df[\"rfm_level\"]==4][\"id\"]\n",
        "sil_list = rfm_df[rfm_df[\"rfm_level\"]==3][\"id\"]\n",
        "bro_list = rfm_df[rfm_df[\"rfm_level\"]==2][\"id\"]\n",
        "iro_list = rfm_df[rfm_df[\"rfm_level\"]==1][\"id\"]"
      ],
      "metadata": {
        "id": "WOlNnVRUhVrZ"
      },
      "execution_count": null,
      "outputs": []
    },
    {
      "cell_type": "code",
      "source": [
        "#고객 유형별 상품 분포\n",
        "sales = df7\n",
        "product_pla = sales[sales[\"회원ID\"].isin(pla_list)][\"상품명칭\"].value_counts()\n",
        "product_gol = sales[sales[\"회원ID\"].isin(gol_list)][\"상품명칭\"].value_counts()\n",
        "product_sil = sales[sales[\"회원ID\"].isin(sil_list)][\"상품명칭\"].value_counts()\n",
        "product_bro = sales[sales[\"회원ID\"].isin(bro_list)][\"상품명칭\"].value_counts()\n",
        "product_iro = sales[sales[\"회원ID\"].isin(iro_list)][\"상품명칭\"].value_counts()\n",
        "\n",
        "#고객 유형별 과정 분포\n",
        "cor_pla = sales[sales[\"회원ID\"].isin(pla_list)][\"과정\"].value_counts()\n",
        "cor_gol = sales[sales[\"회원ID\"].isin(gol_list)][\"과정\"].value_counts()\n",
        "cor_sil = sales[sales[\"회원ID\"].isin(sil_list)][\"과정\"].value_counts()\n",
        "cor_bro = sales[sales[\"회원ID\"].isin(bro_list)][\"과정\"].value_counts()\n",
        "cor_iro = sales[sales[\"회원ID\"].isin(iro_list)][\"과정\"].value_counts()"
      ],
      "metadata": {
        "id": "4kl4_1g9ib_M"
      },
      "execution_count": null,
      "outputs": []
    },
    {
      "cell_type": "code",
      "source": [
        "print(cor_pla.head())\n",
        "print(\"//////\")\n",
        "print(cor_gol.head())\n",
        "print(\"//////\")\n",
        "print(cor_sil.head())\n",
        "print(\"//////\")\n",
        "print(cor_bro.head())\n",
        "print(\"//////\")\n",
        "print(cor_iro.head())"
      ],
      "metadata": {
        "colab": {
          "base_uri": "https://localhost:8080/"
        },
        "id": "rVvo7NISnZvz",
        "outputId": "81889f4f-a7d4-49b9-afcd-abb58c56bef3"
      },
      "execution_count": null,
      "outputs": [
        {
          "output_type": "stream",
          "name": "stdout",
          "text": [
            "CFA        6199\n",
            "신용분석사      4898\n",
            "투자자산운용사    1358\n",
            "경영지도사      1350\n",
            "외환전문역      1054\n",
            "Name: 과정, dtype: int64\n",
            "//////\n",
            "AFPK       8166\n",
            "신용분석사      3929\n",
            "CFA        3738\n",
            "외환전문역      1862\n",
            "투자자산운용사    1384\n",
            "Name: 과정, dtype: int64\n",
            "//////\n",
            "AFPK            6621\n",
            "신용분석사           2005\n",
            "외환전문역           1289\n",
            "파생상품투자권유자문인력    1100\n",
            "CFA             1047\n",
            "Name: 과정, dtype: int64\n",
            "//////\n",
            "신용분석사           2910\n",
            "AFPK            2427\n",
            "CFA             1426\n",
            "외환전문역           1041\n",
            "파생상품투자권유자문인력     892\n",
            "Name: 과정, dtype: int64\n",
            "//////\n",
            "파생상품투자권유자문인력    311\n",
            "CFA             306\n",
            "투자자산운용사         171\n",
            "외환전문역           158\n",
            "TEST             79\n",
            "Name: 과정, dtype: int64\n"
          ]
        }
      ]
    }
  ]
}